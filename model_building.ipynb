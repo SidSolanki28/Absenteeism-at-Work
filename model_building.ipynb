{
  "nbformat": 4,
  "nbformat_minor": 0,
  "metadata": {
    "colab": {
      "name": "model building.ipynb",
      "provenance": [],
      "toc_visible": true,
      "authorship_tag": "ABX9TyMrcM1ts0tIu1ef7xQpRSYV",
      "include_colab_link": true
    },
    "kernelspec": {
      "name": "python3",
      "display_name": "Python 3"
    }
  },
  "cells": [
    {
      "cell_type": "markdown",
      "metadata": {
        "id": "view-in-github",
        "colab_type": "text"
      },
      "source": [
        "<a href=\"https://colab.research.google.com/github/SidSolanki28/Absenteeism-at-Work/blob/master/model_building.ipynb\" target=\"_parent\"><img src=\"https://colab.research.google.com/assets/colab-badge.svg\" alt=\"Open In Colab\"/></a>"
      ]
    },
    {
      "cell_type": "markdown",
      "metadata": {
        "id": "ezvpxyjKEVmT",
        "colab_type": "text"
      },
      "source": [
        "# Importing Libraries"
      ]
    },
    {
      "cell_type": "code",
      "metadata": {
        "id": "kZEQsA08EYao",
        "colab_type": "code",
        "colab": {}
      },
      "source": [
        "# important packages\n",
        "\t\n",
        "import pandas as pd\t\t\t\t\t# data manipulation using dataframes\n",
        "import numpy as np\t\t\t\t\t# data statistical analysis\n",
        "import seaborn as sns\t\t\t\t# Statistical data visualization\n",
        "import matplotlib.pyplot as plt\t\t# data visualisation\n",
        "%matplotlib inline"
      ],
      "execution_count": 41,
      "outputs": []
    },
    {
      "cell_type": "code",
      "metadata": {
        "id": "HZKhK1lSGRBY",
        "colab_type": "code",
        "colab": {}
      },
      "source": [
        ""
      ],
      "execution_count": 41,
      "outputs": []
    },
    {
      "cell_type": "code",
      "metadata": {
        "id": "HiBU-vk3G5AJ",
        "colab_type": "code",
        "colab": {}
      },
      "source": [
        "# To display all rows and columns\n",
        "\n",
        "pd.options.display.max_rows = None\n",
        "pd.options.display.max_columns = None"
      ],
      "execution_count": 42,
      "outputs": []
    },
    {
      "cell_type": "code",
      "metadata": {
        "id": "4Z87Sbq7G5k6",
        "colab_type": "code",
        "colab": {
          "base_uri": "https://localhost:8080/",
          "height": 33
        },
        "outputId": "52be4e53-7a1a-4811-d45c-776f4cbc2e85"
      },
      "source": [
        "### Importing content from drive ###\n",
        "\n",
        "from google.colab import drive\n",
        "drive.mount('/content/drive')"
      ],
      "execution_count": 43,
      "outputs": [
        {
          "output_type": "stream",
          "text": [
            "Drive already mounted at /content/drive; to attempt to forcibly remount, call drive.mount(\"/content/drive\", force_remount=True).\n"
          ],
          "name": "stdout"
        }
      ]
    },
    {
      "cell_type": "markdown",
      "metadata": {
        "id": "qWUszD0WEg2g",
        "colab_type": "text"
      },
      "source": [
        "# Loading Dataset"
      ]
    },
    {
      "cell_type": "code",
      "metadata": {
        "id": "8aIoeYqJEeep",
        "colab_type": "code",
        "colab": {}
      },
      "source": [
        "df = pd.read_csv(\"/content/drive/My Drive/Project/Absenteeism/Absenteeism_pre_processed.csv\")"
      ],
      "execution_count": 44,
      "outputs": []
    },
    {
      "cell_type": "code",
      "metadata": {
        "id": "OkKJI1PiEvnq",
        "colab_type": "code",
        "colab": {
          "base_uri": "https://localhost:8080/",
          "height": 260
        },
        "outputId": "e0704736-bf1a-4cc6-c28f-b09f0b5dd54a"
      },
      "source": [
        "df.head()"
      ],
      "execution_count": 45,
      "outputs": [
        {
          "output_type": "execute_result",
          "data": {
            "text/html": [
              "<div>\n",
              "<style scoped>\n",
              "    .dataframe tbody tr th:only-of-type {\n",
              "        vertical-align: middle;\n",
              "    }\n",
              "\n",
              "    .dataframe tbody tr th {\n",
              "        vertical-align: top;\n",
              "    }\n",
              "\n",
              "    .dataframe thead th {\n",
              "        text-align: right;\n",
              "    }\n",
              "</style>\n",
              "<table border=\"1\" class=\"dataframe\">\n",
              "  <thead>\n",
              "    <tr style=\"text-align: right;\">\n",
              "      <th></th>\n",
              "      <th>Reason A</th>\n",
              "      <th>Reason B</th>\n",
              "      <th>Reason C</th>\n",
              "      <th>Reason D</th>\n",
              "      <th>Month of absence</th>\n",
              "      <th>Day of the week</th>\n",
              "      <th>Seasons</th>\n",
              "      <th>Transportation expense</th>\n",
              "      <th>Distance from Residence to Work</th>\n",
              "      <th>Service time</th>\n",
              "      <th>Age</th>\n",
              "      <th>Work load Average/day</th>\n",
              "      <th>Hit target</th>\n",
              "      <th>Disciplinary failure</th>\n",
              "      <th>Education</th>\n",
              "      <th>Son</th>\n",
              "      <th>Social drinker</th>\n",
              "      <th>Social smoker</th>\n",
              "      <th>Pet</th>\n",
              "      <th>Weight</th>\n",
              "      <th>Height</th>\n",
              "      <th>Body mass index</th>\n",
              "      <th>Absenteeism time in hours</th>\n",
              "    </tr>\n",
              "  </thead>\n",
              "  <tbody>\n",
              "    <tr>\n",
              "      <th>0</th>\n",
              "      <td>0</td>\n",
              "      <td>0</td>\n",
              "      <td>0</td>\n",
              "      <td>1</td>\n",
              "      <td>7</td>\n",
              "      <td>3</td>\n",
              "      <td>1</td>\n",
              "      <td>289</td>\n",
              "      <td>36</td>\n",
              "      <td>13</td>\n",
              "      <td>33</td>\n",
              "      <td>239.554</td>\n",
              "      <td>97</td>\n",
              "      <td>0</td>\n",
              "      <td>0</td>\n",
              "      <td>2</td>\n",
              "      <td>1</td>\n",
              "      <td>0</td>\n",
              "      <td>1</td>\n",
              "      <td>90</td>\n",
              "      <td>172</td>\n",
              "      <td>30</td>\n",
              "      <td>4</td>\n",
              "    </tr>\n",
              "    <tr>\n",
              "      <th>1</th>\n",
              "      <td>0</td>\n",
              "      <td>0</td>\n",
              "      <td>0</td>\n",
              "      <td>0</td>\n",
              "      <td>7</td>\n",
              "      <td>3</td>\n",
              "      <td>1</td>\n",
              "      <td>118</td>\n",
              "      <td>13</td>\n",
              "      <td>18</td>\n",
              "      <td>50</td>\n",
              "      <td>239.554</td>\n",
              "      <td>97</td>\n",
              "      <td>1</td>\n",
              "      <td>0</td>\n",
              "      <td>1</td>\n",
              "      <td>1</td>\n",
              "      <td>0</td>\n",
              "      <td>0</td>\n",
              "      <td>98</td>\n",
              "      <td>178</td>\n",
              "      <td>31</td>\n",
              "      <td>0</td>\n",
              "    </tr>\n",
              "    <tr>\n",
              "      <th>2</th>\n",
              "      <td>0</td>\n",
              "      <td>0</td>\n",
              "      <td>0</td>\n",
              "      <td>1</td>\n",
              "      <td>7</td>\n",
              "      <td>4</td>\n",
              "      <td>1</td>\n",
              "      <td>179</td>\n",
              "      <td>51</td>\n",
              "      <td>18</td>\n",
              "      <td>38</td>\n",
              "      <td>239.554</td>\n",
              "      <td>97</td>\n",
              "      <td>0</td>\n",
              "      <td>0</td>\n",
              "      <td>0</td>\n",
              "      <td>1</td>\n",
              "      <td>0</td>\n",
              "      <td>0</td>\n",
              "      <td>89</td>\n",
              "      <td>170</td>\n",
              "      <td>31</td>\n",
              "      <td>2</td>\n",
              "    </tr>\n",
              "    <tr>\n",
              "      <th>3</th>\n",
              "      <td>1</td>\n",
              "      <td>0</td>\n",
              "      <td>0</td>\n",
              "      <td>0</td>\n",
              "      <td>7</td>\n",
              "      <td>5</td>\n",
              "      <td>1</td>\n",
              "      <td>279</td>\n",
              "      <td>5</td>\n",
              "      <td>14</td>\n",
              "      <td>39</td>\n",
              "      <td>239.554</td>\n",
              "      <td>97</td>\n",
              "      <td>0</td>\n",
              "      <td>0</td>\n",
              "      <td>2</td>\n",
              "      <td>1</td>\n",
              "      <td>1</td>\n",
              "      <td>0</td>\n",
              "      <td>68</td>\n",
              "      <td>168</td>\n",
              "      <td>24</td>\n",
              "      <td>4</td>\n",
              "    </tr>\n",
              "    <tr>\n",
              "      <th>4</th>\n",
              "      <td>0</td>\n",
              "      <td>0</td>\n",
              "      <td>0</td>\n",
              "      <td>1</td>\n",
              "      <td>7</td>\n",
              "      <td>5</td>\n",
              "      <td>1</td>\n",
              "      <td>289</td>\n",
              "      <td>36</td>\n",
              "      <td>13</td>\n",
              "      <td>33</td>\n",
              "      <td>239.554</td>\n",
              "      <td>97</td>\n",
              "      <td>0</td>\n",
              "      <td>0</td>\n",
              "      <td>2</td>\n",
              "      <td>1</td>\n",
              "      <td>0</td>\n",
              "      <td>1</td>\n",
              "      <td>90</td>\n",
              "      <td>172</td>\n",
              "      <td>30</td>\n",
              "      <td>2</td>\n",
              "    </tr>\n",
              "  </tbody>\n",
              "</table>\n",
              "</div>"
            ],
            "text/plain": [
              "   Reason A  Reason B  Reason C  Reason D  Month of absence  Day of the week  \\\n",
              "0         0         0         0         1                 7                3   \n",
              "1         0         0         0         0                 7                3   \n",
              "2         0         0         0         1                 7                4   \n",
              "3         1         0         0         0                 7                5   \n",
              "4         0         0         0         1                 7                5   \n",
              "\n",
              "   Seasons  Transportation expense  Distance from Residence to Work  \\\n",
              "0        1                     289                               36   \n",
              "1        1                     118                               13   \n",
              "2        1                     179                               51   \n",
              "3        1                     279                                5   \n",
              "4        1                     289                               36   \n",
              "\n",
              "   Service time  Age  Work load Average/day   Hit target  \\\n",
              "0            13   33                 239.554          97   \n",
              "1            18   50                 239.554          97   \n",
              "2            18   38                 239.554          97   \n",
              "3            14   39                 239.554          97   \n",
              "4            13   33                 239.554          97   \n",
              "\n",
              "   Disciplinary failure  Education  Son  Social drinker  Social smoker  Pet  \\\n",
              "0                     0          0    2               1              0    1   \n",
              "1                     1          0    1               1              0    0   \n",
              "2                     0          0    0               1              0    0   \n",
              "3                     0          0    2               1              1    0   \n",
              "4                     0          0    2               1              0    1   \n",
              "\n",
              "   Weight  Height  Body mass index  Absenteeism time in hours  \n",
              "0      90     172               30                          4  \n",
              "1      98     178               31                          0  \n",
              "2      89     170               31                          2  \n",
              "3      68     168               24                          4  \n",
              "4      90     172               30                          2  "
            ]
          },
          "metadata": {
            "tags": []
          },
          "execution_count": 45
        }
      ]
    },
    {
      "cell_type": "markdown",
      "metadata": {
        "id": "dhlS5oo7ohbg",
        "colab_type": "text"
      },
      "source": [
        "# Feature Engineering"
      ]
    },
    {
      "cell_type": "markdown",
      "metadata": {
        "id": "jGDguqMsPVbx",
        "colab_type": "text"
      },
      "source": [
        "### Check Target"
      ]
    },
    {
      "cell_type": "code",
      "metadata": {
        "id": "9XTEMtH5O7Mz",
        "colab_type": "code",
        "colab": {
          "base_uri": "https://localhost:8080/",
          "height": 33
        },
        "outputId": "525ecbd8-e417-485d-a1b6-7ed3247cd5a4"
      },
      "source": [
        "df['Absenteeism time in hours'].median()"
      ],
      "execution_count": 46,
      "outputs": [
        {
          "output_type": "execute_result",
          "data": {
            "text/plain": [
              "3.0"
            ]
          },
          "metadata": {
            "tags": []
          },
          "execution_count": 46
        }
      ]
    },
    {
      "cell_type": "markdown",
      "metadata": {
        "id": "9-4EDxb4mIP7",
        "colab_type": "text"
      },
      "source": [
        "Let's divide Absenteeism into two classes\n",
        "\n",
        "- Moderately Absent [0] <= 3\n",
        "- Excessively Absent [1] > 3\n",
        "\n",
        "Because absenteeism for 2-3 hours not going to affect productivity.\n",
        "\n",
        "\n"
      ]
    },
    {
      "cell_type": "code",
      "metadata": {
        "id": "998GZJ2FmEdz",
        "colab_type": "code",
        "colab": {}
      },
      "source": [
        "df['Absenteeism time in hours'] = df['Absenteeism time in hours'].apply( lambda x: 1 if x > 3 else 0)"
      ],
      "execution_count": 47,
      "outputs": []
    },
    {
      "cell_type": "code",
      "metadata": {
        "id": "LKJL7aRInby2",
        "colab_type": "code",
        "colab": {
          "base_uri": "https://localhost:8080/",
          "height": 260
        },
        "outputId": "79a01376-2c03-4645-b484-4c21bafad275"
      },
      "source": [
        "df.head()"
      ],
      "execution_count": 48,
      "outputs": [
        {
          "output_type": "execute_result",
          "data": {
            "text/html": [
              "<div>\n",
              "<style scoped>\n",
              "    .dataframe tbody tr th:only-of-type {\n",
              "        vertical-align: middle;\n",
              "    }\n",
              "\n",
              "    .dataframe tbody tr th {\n",
              "        vertical-align: top;\n",
              "    }\n",
              "\n",
              "    .dataframe thead th {\n",
              "        text-align: right;\n",
              "    }\n",
              "</style>\n",
              "<table border=\"1\" class=\"dataframe\">\n",
              "  <thead>\n",
              "    <tr style=\"text-align: right;\">\n",
              "      <th></th>\n",
              "      <th>Reason A</th>\n",
              "      <th>Reason B</th>\n",
              "      <th>Reason C</th>\n",
              "      <th>Reason D</th>\n",
              "      <th>Month of absence</th>\n",
              "      <th>Day of the week</th>\n",
              "      <th>Seasons</th>\n",
              "      <th>Transportation expense</th>\n",
              "      <th>Distance from Residence to Work</th>\n",
              "      <th>Service time</th>\n",
              "      <th>Age</th>\n",
              "      <th>Work load Average/day</th>\n",
              "      <th>Hit target</th>\n",
              "      <th>Disciplinary failure</th>\n",
              "      <th>Education</th>\n",
              "      <th>Son</th>\n",
              "      <th>Social drinker</th>\n",
              "      <th>Social smoker</th>\n",
              "      <th>Pet</th>\n",
              "      <th>Weight</th>\n",
              "      <th>Height</th>\n",
              "      <th>Body mass index</th>\n",
              "      <th>Absenteeism time in hours</th>\n",
              "    </tr>\n",
              "  </thead>\n",
              "  <tbody>\n",
              "    <tr>\n",
              "      <th>0</th>\n",
              "      <td>0</td>\n",
              "      <td>0</td>\n",
              "      <td>0</td>\n",
              "      <td>1</td>\n",
              "      <td>7</td>\n",
              "      <td>3</td>\n",
              "      <td>1</td>\n",
              "      <td>289</td>\n",
              "      <td>36</td>\n",
              "      <td>13</td>\n",
              "      <td>33</td>\n",
              "      <td>239.554</td>\n",
              "      <td>97</td>\n",
              "      <td>0</td>\n",
              "      <td>0</td>\n",
              "      <td>2</td>\n",
              "      <td>1</td>\n",
              "      <td>0</td>\n",
              "      <td>1</td>\n",
              "      <td>90</td>\n",
              "      <td>172</td>\n",
              "      <td>30</td>\n",
              "      <td>1</td>\n",
              "    </tr>\n",
              "    <tr>\n",
              "      <th>1</th>\n",
              "      <td>0</td>\n",
              "      <td>0</td>\n",
              "      <td>0</td>\n",
              "      <td>0</td>\n",
              "      <td>7</td>\n",
              "      <td>3</td>\n",
              "      <td>1</td>\n",
              "      <td>118</td>\n",
              "      <td>13</td>\n",
              "      <td>18</td>\n",
              "      <td>50</td>\n",
              "      <td>239.554</td>\n",
              "      <td>97</td>\n",
              "      <td>1</td>\n",
              "      <td>0</td>\n",
              "      <td>1</td>\n",
              "      <td>1</td>\n",
              "      <td>0</td>\n",
              "      <td>0</td>\n",
              "      <td>98</td>\n",
              "      <td>178</td>\n",
              "      <td>31</td>\n",
              "      <td>0</td>\n",
              "    </tr>\n",
              "    <tr>\n",
              "      <th>2</th>\n",
              "      <td>0</td>\n",
              "      <td>0</td>\n",
              "      <td>0</td>\n",
              "      <td>1</td>\n",
              "      <td>7</td>\n",
              "      <td>4</td>\n",
              "      <td>1</td>\n",
              "      <td>179</td>\n",
              "      <td>51</td>\n",
              "      <td>18</td>\n",
              "      <td>38</td>\n",
              "      <td>239.554</td>\n",
              "      <td>97</td>\n",
              "      <td>0</td>\n",
              "      <td>0</td>\n",
              "      <td>0</td>\n",
              "      <td>1</td>\n",
              "      <td>0</td>\n",
              "      <td>0</td>\n",
              "      <td>89</td>\n",
              "      <td>170</td>\n",
              "      <td>31</td>\n",
              "      <td>0</td>\n",
              "    </tr>\n",
              "    <tr>\n",
              "      <th>3</th>\n",
              "      <td>1</td>\n",
              "      <td>0</td>\n",
              "      <td>0</td>\n",
              "      <td>0</td>\n",
              "      <td>7</td>\n",
              "      <td>5</td>\n",
              "      <td>1</td>\n",
              "      <td>279</td>\n",
              "      <td>5</td>\n",
              "      <td>14</td>\n",
              "      <td>39</td>\n",
              "      <td>239.554</td>\n",
              "      <td>97</td>\n",
              "      <td>0</td>\n",
              "      <td>0</td>\n",
              "      <td>2</td>\n",
              "      <td>1</td>\n",
              "      <td>1</td>\n",
              "      <td>0</td>\n",
              "      <td>68</td>\n",
              "      <td>168</td>\n",
              "      <td>24</td>\n",
              "      <td>1</td>\n",
              "    </tr>\n",
              "    <tr>\n",
              "      <th>4</th>\n",
              "      <td>0</td>\n",
              "      <td>0</td>\n",
              "      <td>0</td>\n",
              "      <td>1</td>\n",
              "      <td>7</td>\n",
              "      <td>5</td>\n",
              "      <td>1</td>\n",
              "      <td>289</td>\n",
              "      <td>36</td>\n",
              "      <td>13</td>\n",
              "      <td>33</td>\n",
              "      <td>239.554</td>\n",
              "      <td>97</td>\n",
              "      <td>0</td>\n",
              "      <td>0</td>\n",
              "      <td>2</td>\n",
              "      <td>1</td>\n",
              "      <td>0</td>\n",
              "      <td>1</td>\n",
              "      <td>90</td>\n",
              "      <td>172</td>\n",
              "      <td>30</td>\n",
              "      <td>0</td>\n",
              "    </tr>\n",
              "  </tbody>\n",
              "</table>\n",
              "</div>"
            ],
            "text/plain": [
              "   Reason A  Reason B  Reason C  Reason D  Month of absence  Day of the week  \\\n",
              "0         0         0         0         1                 7                3   \n",
              "1         0         0         0         0                 7                3   \n",
              "2         0         0         0         1                 7                4   \n",
              "3         1         0         0         0                 7                5   \n",
              "4         0         0         0         1                 7                5   \n",
              "\n",
              "   Seasons  Transportation expense  Distance from Residence to Work  \\\n",
              "0        1                     289                               36   \n",
              "1        1                     118                               13   \n",
              "2        1                     179                               51   \n",
              "3        1                     279                                5   \n",
              "4        1                     289                               36   \n",
              "\n",
              "   Service time  Age  Work load Average/day   Hit target  \\\n",
              "0            13   33                 239.554          97   \n",
              "1            18   50                 239.554          97   \n",
              "2            18   38                 239.554          97   \n",
              "3            14   39                 239.554          97   \n",
              "4            13   33                 239.554          97   \n",
              "\n",
              "   Disciplinary failure  Education  Son  Social drinker  Social smoker  Pet  \\\n",
              "0                     0          0    2               1              0    1   \n",
              "1                     1          0    1               1              0    0   \n",
              "2                     0          0    0               1              0    0   \n",
              "3                     0          0    2               1              1    0   \n",
              "4                     0          0    2               1              0    1   \n",
              "\n",
              "   Weight  Height  Body mass index  Absenteeism time in hours  \n",
              "0      90     172               30                          1  \n",
              "1      98     178               31                          0  \n",
              "2      89     170               31                          0  \n",
              "3      68     168               24                          1  \n",
              "4      90     172               30                          0  "
            ]
          },
          "metadata": {
            "tags": []
          },
          "execution_count": 48
        }
      ]
    },
    {
      "cell_type": "markdown",
      "metadata": {
        "id": "TV77LIK7nlBU",
        "colab_type": "text"
      },
      "source": [
        "Check dataset is balanced or imbalanced"
      ]
    },
    {
      "cell_type": "code",
      "metadata": {
        "id": "3ugawMr4ndsi",
        "colab_type": "code",
        "colab": {}
      },
      "source": [
        "Moderately_Absent = df[df['Absenteeism time in hours'] == 0]\n",
        "Excessively_Absent = df[df['Absenteeism time in hours'] == 1]"
      ],
      "execution_count": 49,
      "outputs": []
    },
    {
      "cell_type": "code",
      "metadata": {
        "id": "Z94B73T3n26D",
        "colab_type": "code",
        "colab": {
          "base_uri": "https://localhost:8080/",
          "height": 66
        },
        "outputId": "b38f47d4-f068-4479-b2c5-e86e1812f25a"
      },
      "source": [
        "print(f'Total Employee count = {len(df)}')\n",
        "print(f'Employees who Moderately Absent = {len(Moderately_Absent)/len(df)*100:.2f}%')\n",
        "print(f'Employees who Excessively Absent = {len(Excessively_Absent)/len(df)*100:.2f}%')"
      ],
      "execution_count": 50,
      "outputs": [
        {
          "output_type": "stream",
          "text": [
            "Total Employee count = 700\n",
            "Employees who Moderately Absent = 54.43%\n",
            "Employees who Excessively Absent = 45.57%\n"
          ],
          "name": "stdout"
        }
      ]
    },
    {
      "cell_type": "markdown",
      "metadata": {
        "id": "roFhhopXoPwU",
        "colab_type": "text"
      },
      "source": [
        "Dataset is Balanced"
      ]
    },
    {
      "cell_type": "markdown",
      "metadata": {
        "id": "6rVkwobjoTDZ",
        "colab_type": "text"
      },
      "source": [
        "### Define X&Y"
      ]
    },
    {
      "cell_type": "code",
      "metadata": {
        "id": "QFsLAegnoJKr",
        "colab_type": "code",
        "colab": {}
      },
      "source": [
        "X = df.iloc[:, :-1]#.values\n",
        "y = df.iloc[:, -1]#.values"
      ],
      "execution_count": 51,
      "outputs": []
    },
    {
      "cell_type": "markdown",
      "metadata": {
        "id": "9zYv8oMPR9P2",
        "colab_type": "text"
      },
      "source": [
        "# Feature Scaling"
      ]
    },
    {
      "cell_type": "markdown",
      "metadata": {
        "id": "A6o011I_SF7H",
        "colab_type": "text"
      },
      "source": [
        "### Omitting dummy variables\n",
        "\n",
        "Dummy variables hold the originally measured effect sizes. Normalizing or standardizing them will let us compromise on their interpret ability. IMO, if your objective is to interpret the feature, then scaling should not be done. Otherwise, for model selection purposes, you can attempt to scale the dummy variables."
      ]
    },
    {
      "cell_type": "code",
      "metadata": {
        "id": "qrwIvh_tTtod",
        "colab_type": "code",
        "colab": {}
      },
      "source": [
        "# standardize the inputs\n",
        "\n",
        "# standardization is one of the most common preprocessing tools\n",
        "# since data of different magnitude (scale) can be biased towards high values,\n",
        "# we want all inputs to be of similar magnitude\n",
        "# this is a peculiarity of machine learning in general - most (but not all) algorithms do badly with unscaled data\n",
        "\n",
        "# a very useful module we can use is StandardScaler \n",
        "# it has much more capabilities than the straightforward 'preprocessing' method\n",
        "from sklearn.preprocessing import StandardScaler\n",
        "\n",
        "\n",
        "# we will create a variable that will contain the scaling information for this particular dataset\n",
        "# here's the full documentation: http://scikit-learn.org/stable/modules/generated/sklearn.preprocessing.StandardScaler.html\n",
        "\n",
        "# define scaler as an object\n",
        "scaler_X = StandardScaler()"
      ],
      "execution_count": 52,
      "outputs": []
    },
    {
      "cell_type": "code",
      "metadata": {
        "id": "UhQlTdml_Dn3",
        "colab_type": "code",
        "colab": {}
      },
      "source": [
        "# import the libraries needed to create the Custom Scaler\n",
        "# note that all of them are a part of the sklearn package\n",
        "# moreover, one of them is actually the StandardScaler module, \n",
        "# so you can imagine that the Custom Scaler is build on it\n",
        "\n",
        "from sklearn.base import BaseEstimator, TransformerMixin\n",
        "from sklearn.preprocessing import StandardScaler\n",
        "\n",
        "class CustomScaler(BaseEstimator,TransformerMixin): \n",
        "    \n",
        "    # init or what information we need to declare a CustomScaler object\n",
        "    # and what is calculated/declared as we do\n",
        "    \n",
        "    def __init__(self,columns,copy=True,with_mean=True,with_std=True):\n",
        "        \n",
        "        # scaler is nothing but a Standard Scaler object\n",
        "        self.scaler = StandardScaler(copy,with_mean,with_std)\n",
        "        # with some columns 'twist'\n",
        "        self.columns = columns\n",
        "        self.mean_ = None\n",
        "        self.var_ = None\n",
        "        \n",
        "    \n",
        "    # the fit method, which, again based on StandardScale\n",
        "    \n",
        "    def fit(self, X, y=None):\n",
        "        self.scaler.fit(X[self.columns], y)\n",
        "        self.mean_ = np.mean(X[self.columns])\n",
        "        self.var_ = np.var(X[self.columns])\n",
        "        return self\n",
        "    \n",
        "    # the transform method which does the actual scaling\n",
        "\n",
        "    def transform(self, X, y=None, copy=None):\n",
        "        \n",
        "        # record the initial order of the columns\n",
        "        init_col_order = X.columns\n",
        "        \n",
        "        # scale all features that you chose when creating the instance of the class\n",
        "        X_scaled = pd.DataFrame(self.scaler.transform(X[self.columns]), columns=self.columns)\n",
        "        \n",
        "        # declare a variable containing all information that was not scaled\n",
        "        X_not_scaled = X.loc[:,~X.columns.isin(self.columns)]\n",
        "        \n",
        "        # return a data frame which contains all scaled features and all 'not scaled' features\n",
        "        # use the original order (that you recorded in the beginning)\n",
        "        return pd.concat([X_not_scaled, X_scaled], axis=1)[init_col_order]"
      ],
      "execution_count": 53,
      "outputs": []
    },
    {
      "cell_type": "code",
      "metadata": {
        "id": "wlvp8jBf_DlM",
        "colab_type": "code",
        "colab": {
          "base_uri": "https://localhost:8080/",
          "height": 115
        },
        "outputId": "e9abb044-fe7c-4503-ab4c-b1912d4137cd"
      },
      "source": [
        "# check what are all columns that we've got\n",
        "X.columns.values"
      ],
      "execution_count": 54,
      "outputs": [
        {
          "output_type": "execute_result",
          "data": {
            "text/plain": [
              "array(['Reason A', 'Reason B', 'Reason C', 'Reason D', 'Month of absence',\n",
              "       'Day of the week', 'Seasons', 'Transportation expense',\n",
              "       'Distance from Residence to Work', 'Service time', 'Age',\n",
              "       'Work load Average/day ', 'Hit target', 'Disciplinary failure',\n",
              "       'Education', 'Son', 'Social drinker', 'Social smoker', 'Pet',\n",
              "       'Weight', 'Height', 'Body mass index'], dtype=object)"
            ]
          },
          "metadata": {
            "tags": []
          },
          "execution_count": 54
        }
      ]
    },
    {
      "cell_type": "code",
      "metadata": {
        "id": "wikOh3zF_DjN",
        "colab_type": "code",
        "colab": {}
      },
      "source": [
        "# choose the columns to scale\n",
        "# we later augmented this code and put it in comments\n",
        "# columns_to_scale = ['Month of absence', 'Day of the week', 'Seasons', 'Transportation expense', 'Distance from Residence to Work', 'Service time', 'Age',\n",
        "       #'Work load Average/day ', 'Hit target', 'Son', 'Pet', 'Weight', 'Height', 'Body mass index']\n",
        "    \n",
        "# select the columns to omit\n",
        "columns_to_omit = ['Reason A', 'Reason B', 'Reason C', 'Reason D', 'Disciplinary failure',\n",
        "       'Education', 'Social drinker', 'Social smoker']"
      ],
      "execution_count": 55,
      "outputs": []
    },
    {
      "cell_type": "code",
      "metadata": {
        "id": "OLO0oKrD_DhD",
        "colab_type": "code",
        "colab": {}
      },
      "source": [
        "# create the columns to scale, based on the columns to omit\n",
        "# use list comprehension to iterate over the list\n",
        "columns_to_scale = [x for x in X.columns.values if x not in columns_to_omit]"
      ],
      "execution_count": 56,
      "outputs": []
    },
    {
      "cell_type": "code",
      "metadata": {
        "id": "kycMKGmA_De3",
        "colab_type": "code",
        "colab": {}
      },
      "source": [
        "# declare a scaler object, specifying the columns you want to scale\n",
        "scaler_X = CustomScaler(columns_to_scale)"
      ],
      "execution_count": 57,
      "outputs": []
    },
    {
      "cell_type": "code",
      "metadata": {
        "id": "93YcFUeP_Dc0",
        "colab_type": "code",
        "colab": {
          "base_uri": "https://localhost:8080/",
          "height": 167
        },
        "outputId": "460100a8-14b4-4007-d4eb-b55fd4c11258"
      },
      "source": [
        "# fit the data (calculate mean and standard deviation); they are automatically stored inside the object \n",
        "scaler_X.fit(X)"
      ],
      "execution_count": 58,
      "outputs": [
        {
          "output_type": "stream",
          "text": [
            "/usr/local/lib/python3.6/dist-packages/sklearn/base.py:197: FutureWarning: From version 0.24, get_params will raise an AttributeError if a parameter cannot be retrieved as an instance attribute. Previously it would return None.\n",
            "  FutureWarning)\n"
          ],
          "name": "stderr"
        },
        {
          "output_type": "execute_result",
          "data": {
            "text/plain": [
              "CustomScaler(columns=['Month of absence', 'Day of the week', 'Seasons',\n",
              "                      'Transportation expense',\n",
              "                      'Distance from Residence to Work', 'Service time', 'Age',\n",
              "                      'Work load Average/day ', 'Hit target', 'Son', 'Pet',\n",
              "                      'Weight', 'Height', 'Body mass index'],\n",
              "             copy=None, with_mean=None, with_std=None)"
            ]
          },
          "metadata": {
            "tags": []
          },
          "execution_count": 58
        }
      ]
    },
    {
      "cell_type": "markdown",
      "metadata": {
        "id": "Y99HKWlbT1X8",
        "colab_type": "text"
      },
      "source": [
        "### Standardization"
      ]
    },
    {
      "cell_type": "code",
      "metadata": {
        "id": "DbAzgWZj_Dab",
        "colab_type": "code",
        "colab": {}
      },
      "source": [
        "# standardizes the data, using the transform method \n",
        "# in the last line, we fitted the data - in other words\n",
        "# we found the internal parameters of a model that will be used to transform data. \n",
        "# transforming applies these parameters to our data\n",
        "# note that when you get new data, you can just call 'scaler' again and transform it in the same way as now\n",
        "X = scaler_X.transform(X)"
      ],
      "execution_count": 59,
      "outputs": []
    },
    {
      "cell_type": "code",
      "metadata": {
        "id": "0RIT8sE2_DWy",
        "colab_type": "code",
        "colab": {
          "base_uri": "https://localhost:8080/",
          "height": 403
        },
        "outputId": "377c19b9-cba1-42a6-c2a8-7d415dd01069"
      },
      "source": [
        "# the scaled_inputs are now an ndarray, because sklearn works with ndarrays\n",
        "X.head(10)"
      ],
      "execution_count": 60,
      "outputs": [
        {
          "output_type": "execute_result",
          "data": {
            "text/html": [
              "<div>\n",
              "<style scoped>\n",
              "    .dataframe tbody tr th:only-of-type {\n",
              "        vertical-align: middle;\n",
              "    }\n",
              "\n",
              "    .dataframe tbody tr th {\n",
              "        vertical-align: top;\n",
              "    }\n",
              "\n",
              "    .dataframe thead th {\n",
              "        text-align: right;\n",
              "    }\n",
              "</style>\n",
              "<table border=\"1\" class=\"dataframe\">\n",
              "  <thead>\n",
              "    <tr style=\"text-align: right;\">\n",
              "      <th></th>\n",
              "      <th>Reason A</th>\n",
              "      <th>Reason B</th>\n",
              "      <th>Reason C</th>\n",
              "      <th>Reason D</th>\n",
              "      <th>Month of absence</th>\n",
              "      <th>Day of the week</th>\n",
              "      <th>Seasons</th>\n",
              "      <th>Transportation expense</th>\n",
              "      <th>Distance from Residence to Work</th>\n",
              "      <th>Service time</th>\n",
              "      <th>Age</th>\n",
              "      <th>Work load Average/day</th>\n",
              "      <th>Hit target</th>\n",
              "      <th>Disciplinary failure</th>\n",
              "      <th>Education</th>\n",
              "      <th>Son</th>\n",
              "      <th>Social drinker</th>\n",
              "      <th>Social smoker</th>\n",
              "      <th>Pet</th>\n",
              "      <th>Weight</th>\n",
              "      <th>Height</th>\n",
              "      <th>Body mass index</th>\n",
              "    </tr>\n",
              "  </thead>\n",
              "  <tbody>\n",
              "    <tr>\n",
              "      <th>0</th>\n",
              "      <td>0</td>\n",
              "      <td>0</td>\n",
              "      <td>0</td>\n",
              "      <td>1</td>\n",
              "      <td>0.182726</td>\n",
              "      <td>-0.640141</td>\n",
              "      <td>-1.417727</td>\n",
              "      <td>1.005844</td>\n",
              "      <td>0.412816</td>\n",
              "      <td>0.078981</td>\n",
              "      <td>-0.536062</td>\n",
              "      <td>-0.806331</td>\n",
              "      <td>0.639941</td>\n",
              "      <td>0</td>\n",
              "      <td>0</td>\n",
              "      <td>0.880469</td>\n",
              "      <td>1</td>\n",
              "      <td>0</td>\n",
              "      <td>0.268487</td>\n",
              "      <td>0.847020</td>\n",
              "      <td>-0.006413</td>\n",
              "      <td>0.767431</td>\n",
              "    </tr>\n",
              "    <tr>\n",
              "      <th>1</th>\n",
              "      <td>0</td>\n",
              "      <td>0</td>\n",
              "      <td>0</td>\n",
              "      <td>0</td>\n",
              "      <td>0.182726</td>\n",
              "      <td>-0.640141</td>\n",
              "      <td>-1.417727</td>\n",
              "      <td>-1.574681</td>\n",
              "      <td>-1.141882</td>\n",
              "      <td>1.235604</td>\n",
              "      <td>2.130803</td>\n",
              "      <td>-0.806331</td>\n",
              "      <td>0.639941</td>\n",
              "      <td>1</td>\n",
              "      <td>0</td>\n",
              "      <td>-0.019280</td>\n",
              "      <td>1</td>\n",
              "      <td>0</td>\n",
              "      <td>-0.589690</td>\n",
              "      <td>1.470975</td>\n",
              "      <td>0.991176</td>\n",
              "      <td>1.002633</td>\n",
              "    </tr>\n",
              "    <tr>\n",
              "      <th>2</th>\n",
              "      <td>0</td>\n",
              "      <td>0</td>\n",
              "      <td>0</td>\n",
              "      <td>1</td>\n",
              "      <td>0.182726</td>\n",
              "      <td>0.064417</td>\n",
              "      <td>-1.417727</td>\n",
              "      <td>-0.654143</td>\n",
              "      <td>1.426749</td>\n",
              "      <td>1.235604</td>\n",
              "      <td>0.248310</td>\n",
              "      <td>-0.806331</td>\n",
              "      <td>0.639941</td>\n",
              "      <td>0</td>\n",
              "      <td>0</td>\n",
              "      <td>-0.919030</td>\n",
              "      <td>1</td>\n",
              "      <td>0</td>\n",
              "      <td>-0.589690</td>\n",
              "      <td>0.769025</td>\n",
              "      <td>-0.338943</td>\n",
              "      <td>1.002633</td>\n",
              "    </tr>\n",
              "    <tr>\n",
              "      <th>3</th>\n",
              "      <td>1</td>\n",
              "      <td>0</td>\n",
              "      <td>0</td>\n",
              "      <td>0</td>\n",
              "      <td>0.182726</td>\n",
              "      <td>0.768974</td>\n",
              "      <td>-1.417727</td>\n",
              "      <td>0.854936</td>\n",
              "      <td>-1.682647</td>\n",
              "      <td>0.310306</td>\n",
              "      <td>0.405184</td>\n",
              "      <td>-0.806331</td>\n",
              "      <td>0.639941</td>\n",
              "      <td>0</td>\n",
              "      <td>0</td>\n",
              "      <td>0.880469</td>\n",
              "      <td>1</td>\n",
              "      <td>1</td>\n",
              "      <td>-0.589690</td>\n",
              "      <td>-0.868858</td>\n",
              "      <td>-0.671472</td>\n",
              "      <td>-0.643782</td>\n",
              "    </tr>\n",
              "    <tr>\n",
              "      <th>4</th>\n",
              "      <td>0</td>\n",
              "      <td>0</td>\n",
              "      <td>0</td>\n",
              "      <td>1</td>\n",
              "      <td>0.182726</td>\n",
              "      <td>0.768974</td>\n",
              "      <td>-1.417727</td>\n",
              "      <td>1.005844</td>\n",
              "      <td>0.412816</td>\n",
              "      <td>0.078981</td>\n",
              "      <td>-0.536062</td>\n",
              "      <td>-0.806331</td>\n",
              "      <td>0.639941</td>\n",
              "      <td>0</td>\n",
              "      <td>0</td>\n",
              "      <td>0.880469</td>\n",
              "      <td>1</td>\n",
              "      <td>0</td>\n",
              "      <td>0.268487</td>\n",
              "      <td>0.847020</td>\n",
              "      <td>-0.006413</td>\n",
              "      <td>0.767431</td>\n",
              "    </tr>\n",
              "    <tr>\n",
              "      <th>5</th>\n",
              "      <td>0</td>\n",
              "      <td>0</td>\n",
              "      <td>0</td>\n",
              "      <td>1</td>\n",
              "      <td>0.182726</td>\n",
              "      <td>1.473532</td>\n",
              "      <td>-1.417727</td>\n",
              "      <td>-0.654143</td>\n",
              "      <td>1.426749</td>\n",
              "      <td>1.235604</td>\n",
              "      <td>0.248310</td>\n",
              "      <td>-0.806331</td>\n",
              "      <td>0.639941</td>\n",
              "      <td>0</td>\n",
              "      <td>0</td>\n",
              "      <td>-0.919030</td>\n",
              "      <td>1</td>\n",
              "      <td>0</td>\n",
              "      <td>-0.589690</td>\n",
              "      <td>0.769025</td>\n",
              "      <td>-0.338943</td>\n",
              "      <td>1.002633</td>\n",
              "    </tr>\n",
              "    <tr>\n",
              "      <th>6</th>\n",
              "      <td>0</td>\n",
              "      <td>0</td>\n",
              "      <td>0</td>\n",
              "      <td>1</td>\n",
              "      <td>0.182726</td>\n",
              "      <td>1.473532</td>\n",
              "      <td>-1.417727</td>\n",
              "      <td>2.092381</td>\n",
              "      <td>1.494345</td>\n",
              "      <td>-2.234266</td>\n",
              "      <td>-1.320435</td>\n",
              "      <td>-0.806331</td>\n",
              "      <td>0.639941</td>\n",
              "      <td>0</td>\n",
              "      <td>0</td>\n",
              "      <td>-0.019280</td>\n",
              "      <td>1</td>\n",
              "      <td>0</td>\n",
              "      <td>2.843016</td>\n",
              "      <td>0.067075</td>\n",
              "      <td>-0.006413</td>\n",
              "      <td>0.061825</td>\n",
              "    </tr>\n",
              "    <tr>\n",
              "      <th>7</th>\n",
              "      <td>0</td>\n",
              "      <td>0</td>\n",
              "      <td>0</td>\n",
              "      <td>1</td>\n",
              "      <td>0.182726</td>\n",
              "      <td>1.473532</td>\n",
              "      <td>-1.417727</td>\n",
              "      <td>0.568211</td>\n",
              "      <td>1.359154</td>\n",
              "      <td>-0.383668</td>\n",
              "      <td>-0.065439</td>\n",
              "      <td>-0.806331</td>\n",
              "      <td>0.639941</td>\n",
              "      <td>0</td>\n",
              "      <td>0</td>\n",
              "      <td>2.679969</td>\n",
              "      <td>1</td>\n",
              "      <td>0</td>\n",
              "      <td>-0.589690</td>\n",
              "      <td>-1.102841</td>\n",
              "      <td>-0.671472</td>\n",
              "      <td>-0.878984</td>\n",
              "    </tr>\n",
              "    <tr>\n",
              "      <th>8</th>\n",
              "      <td>0</td>\n",
              "      <td>0</td>\n",
              "      <td>1</td>\n",
              "      <td>0</td>\n",
              "      <td>0.182726</td>\n",
              "      <td>-1.344699</td>\n",
              "      <td>-1.417727</td>\n",
              "      <td>-1.016322</td>\n",
              "      <td>-1.209478</td>\n",
              "      <td>0.310306</td>\n",
              "      <td>-0.379188</td>\n",
              "      <td>-0.806331</td>\n",
              "      <td>0.639941</td>\n",
              "      <td>0</td>\n",
              "      <td>0</td>\n",
              "      <td>0.880469</td>\n",
              "      <td>1</td>\n",
              "      <td>0</td>\n",
              "      <td>-0.589690</td>\n",
              "      <td>1.236992</td>\n",
              "      <td>3.983943</td>\n",
              "      <td>-0.408580</td>\n",
              "    </tr>\n",
              "    <tr>\n",
              "      <th>9</th>\n",
              "      <td>0</td>\n",
              "      <td>0</td>\n",
              "      <td>0</td>\n",
              "      <td>1</td>\n",
              "      <td>0.182726</td>\n",
              "      <td>-1.344699</td>\n",
              "      <td>-1.417727</td>\n",
              "      <td>0.190942</td>\n",
              "      <td>-1.277074</td>\n",
              "      <td>0.310306</td>\n",
              "      <td>0.091435</td>\n",
              "      <td>-0.806331</td>\n",
              "      <td>0.639941</td>\n",
              "      <td>0</td>\n",
              "      <td>1</td>\n",
              "      <td>-0.019280</td>\n",
              "      <td>0</td>\n",
              "      <td>0</td>\n",
              "      <td>0.268487</td>\n",
              "      <td>0.691031</td>\n",
              "      <td>-0.006413</td>\n",
              "      <td>0.532229</td>\n",
              "    </tr>\n",
              "  </tbody>\n",
              "</table>\n",
              "</div>"
            ],
            "text/plain": [
              "   Reason A  Reason B  Reason C  Reason D  Month of absence  Day of the week  \\\n",
              "0         0         0         0         1          0.182726        -0.640141   \n",
              "1         0         0         0         0          0.182726        -0.640141   \n",
              "2         0         0         0         1          0.182726         0.064417   \n",
              "3         1         0         0         0          0.182726         0.768974   \n",
              "4         0         0         0         1          0.182726         0.768974   \n",
              "5         0         0         0         1          0.182726         1.473532   \n",
              "6         0         0         0         1          0.182726         1.473532   \n",
              "7         0         0         0         1          0.182726         1.473532   \n",
              "8         0         0         1         0          0.182726        -1.344699   \n",
              "9         0         0         0         1          0.182726        -1.344699   \n",
              "\n",
              "    Seasons  Transportation expense  Distance from Residence to Work  \\\n",
              "0 -1.417727                1.005844                         0.412816   \n",
              "1 -1.417727               -1.574681                        -1.141882   \n",
              "2 -1.417727               -0.654143                         1.426749   \n",
              "3 -1.417727                0.854936                        -1.682647   \n",
              "4 -1.417727                1.005844                         0.412816   \n",
              "5 -1.417727               -0.654143                         1.426749   \n",
              "6 -1.417727                2.092381                         1.494345   \n",
              "7 -1.417727                0.568211                         1.359154   \n",
              "8 -1.417727               -1.016322                        -1.209478   \n",
              "9 -1.417727                0.190942                        -1.277074   \n",
              "\n",
              "   Service time       Age  Work load Average/day   Hit target  \\\n",
              "0      0.078981 -0.536062               -0.806331    0.639941   \n",
              "1      1.235604  2.130803               -0.806331    0.639941   \n",
              "2      1.235604  0.248310               -0.806331    0.639941   \n",
              "3      0.310306  0.405184               -0.806331    0.639941   \n",
              "4      0.078981 -0.536062               -0.806331    0.639941   \n",
              "5      1.235604  0.248310               -0.806331    0.639941   \n",
              "6     -2.234266 -1.320435               -0.806331    0.639941   \n",
              "7     -0.383668 -0.065439               -0.806331    0.639941   \n",
              "8      0.310306 -0.379188               -0.806331    0.639941   \n",
              "9      0.310306  0.091435               -0.806331    0.639941   \n",
              "\n",
              "   Disciplinary failure  Education       Son  Social drinker  Social smoker  \\\n",
              "0                     0          0  0.880469               1              0   \n",
              "1                     1          0 -0.019280               1              0   \n",
              "2                     0          0 -0.919030               1              0   \n",
              "3                     0          0  0.880469               1              1   \n",
              "4                     0          0  0.880469               1              0   \n",
              "5                     0          0 -0.919030               1              0   \n",
              "6                     0          0 -0.019280               1              0   \n",
              "7                     0          0  2.679969               1              0   \n",
              "8                     0          0  0.880469               1              0   \n",
              "9                     0          1 -0.019280               0              0   \n",
              "\n",
              "        Pet    Weight    Height  Body mass index  \n",
              "0  0.268487  0.847020 -0.006413         0.767431  \n",
              "1 -0.589690  1.470975  0.991176         1.002633  \n",
              "2 -0.589690  0.769025 -0.338943         1.002633  \n",
              "3 -0.589690 -0.868858 -0.671472        -0.643782  \n",
              "4  0.268487  0.847020 -0.006413         0.767431  \n",
              "5 -0.589690  0.769025 -0.338943         1.002633  \n",
              "6  2.843016  0.067075 -0.006413         0.061825  \n",
              "7 -0.589690 -1.102841 -0.671472        -0.878984  \n",
              "8 -0.589690  1.236992  3.983943        -0.408580  \n",
              "9  0.268487  0.691031 -0.006413         0.532229  "
            ]
          },
          "metadata": {
            "tags": []
          },
          "execution_count": 60
        }
      ]
    },
    {
      "cell_type": "code",
      "metadata": {
        "id": "fWUf1H_8UXQb",
        "colab_type": "code",
        "colab": {
          "base_uri": "https://localhost:8080/",
          "height": 33
        },
        "outputId": "c9b9ff33-0a03-4bd1-c121-5128077a0155"
      },
      "source": [
        "# check the shape of the inputs\n",
        "X.shape"
      ],
      "execution_count": 61,
      "outputs": [
        {
          "output_type": "execute_result",
          "data": {
            "text/plain": [
              "(700, 22)"
            ]
          },
          "metadata": {
            "tags": []
          },
          "execution_count": 61
        }
      ]
    },
    {
      "cell_type": "markdown",
      "metadata": {
        "id": "dgf7EK66O1uI",
        "colab_type": "text"
      },
      "source": [
        "# Feature Splitting\n",
        "\n",
        "Note:- \n",
        "\n",
        "Usually it is good to splitting first then standardize, to get parameters [mean & std dev] by fitting data from X_train.\n",
        "\n",
        "Why do we have to normalize data this way? Remember that we’ll use our data to train our model, so we’ll want our StandardScaler object to register and proceed with the Mean and Standard Deviation of our train set and transform our test group using it. Otherwise, we would be doing two different transformations, taking two different Means and two different Standard Deviations. Treating as different data that’s supposed to be the same."
      ]
    },
    {
      "cell_type": "code",
      "metadata": {
        "id": "aax3IBoTUX4G",
        "colab_type": "code",
        "colab": {}
      },
      "source": [
        "from sklearn.model_selection import train_test_split\n",
        "X_train, X_test, y_train, y_test = train_test_split( X, y , test_size = 0.2, random_state = 42)"
      ],
      "execution_count": 62,
      "outputs": []
    },
    {
      "cell_type": "code",
      "metadata": {
        "id": "AmgqC4vyUblf",
        "colab_type": "code",
        "colab": {
          "base_uri": "https://localhost:8080/",
          "height": 50
        },
        "outputId": "37d8dd31-5310-4c9a-c980-84bc2a5c6f16"
      },
      "source": [
        "print(X_train.shape, y_train.shape)\n",
        "print(X_test.shape, y_test.shape)"
      ],
      "execution_count": 63,
      "outputs": [
        {
          "output_type": "stream",
          "text": [
            "(560, 22) (560,)\n",
            "(140, 22) (140,)\n"
          ],
          "name": "stdout"
        }
      ]
    },
    {
      "cell_type": "markdown",
      "metadata": {
        "id": "dnFjIF0FqF6y",
        "colab_type": "text"
      },
      "source": [
        "# Model Training"
      ]
    },
    {
      "cell_type": "markdown",
      "metadata": {
        "id": "KZXDTgNyqTcC",
        "colab_type": "text"
      },
      "source": [
        "### Logistic Regression"
      ]
    },
    {
      "cell_type": "code",
      "metadata": {
        "id": "SPGvVG2fp_ik",
        "colab_type": "code",
        "colab": {
          "base_uri": "https://localhost:8080/",
          "height": 98
        },
        "outputId": "00a6b9b8-ac87-4305-c931-ad15743507a9"
      },
      "source": [
        "from sklearn.linear_model import LogisticRegression\n",
        "classifier = LogisticRegression(random_state = 42)\n",
        "\n",
        "classifier.fit(X_train, y_train)"
      ],
      "execution_count": 64,
      "outputs": [
        {
          "output_type": "execute_result",
          "data": {
            "text/plain": [
              "LogisticRegression(C=1.0, class_weight=None, dual=False, fit_intercept=True,\n",
              "                   intercept_scaling=1, l1_ratio=None, max_iter=100,\n",
              "                   multi_class='auto', n_jobs=None, penalty='l2',\n",
              "                   random_state=42, solver='lbfgs', tol=0.0001, verbose=0,\n",
              "                   warm_start=False)"
            ]
          },
          "metadata": {
            "tags": []
          },
          "execution_count": 64
        }
      ]
    },
    {
      "cell_type": "markdown",
      "metadata": {
        "id": "CNjsZ4LyI021",
        "colab_type": "text"
      },
      "source": [
        "# Model Prediction"
      ]
    },
    {
      "cell_type": "code",
      "metadata": {
        "id": "K9oyM9mBJHDy",
        "colab_type": "code",
        "colab": {}
      },
      "source": [
        "y_train_pred = classifier.predict(X_train)"
      ],
      "execution_count": 65,
      "outputs": []
    },
    {
      "cell_type": "markdown",
      "metadata": {
        "id": "CFUC-xFSrmkr",
        "colab_type": "text"
      },
      "source": [
        "# Training Metrices"
      ]
    },
    {
      "cell_type": "markdown",
      "metadata": {
        "id": "aHDiaZnpyqpr",
        "colab_type": "text"
      },
      "source": [
        "### Accuracy"
      ]
    },
    {
      "cell_type": "code",
      "metadata": {
        "id": "K5870YFFyqGD",
        "colab_type": "code",
        "colab": {
          "base_uri": "https://localhost:8080/",
          "height": 33
        },
        "outputId": "4e5b23d7-f180-45ca-c43d-bbda7be9254a"
      },
      "source": [
        "from sklearn.metrics import accuracy_score\n",
        "acc = accuracy_score(y_train, y_train_pred)\n",
        "\n",
        "print(f'accuracy : {acc:.2f}%')"
      ],
      "execution_count": 66,
      "outputs": [
        {
          "output_type": "stream",
          "text": [
            "accuracy : 0.78%\n"
          ],
          "name": "stdout"
        }
      ]
    },
    {
      "cell_type": "markdown",
      "metadata": {
        "id": "HYJvl8Baws__",
        "colab_type": "text"
      },
      "source": [
        "### Confusion Matrix ###"
      ]
    },
    {
      "cell_type": "code",
      "metadata": {
        "id": "eXvr8YoSq9co",
        "colab_type": "code",
        "colab": {
          "base_uri": "https://localhost:8080/",
          "height": 297
        },
        "outputId": "3d4b179b-a64e-4c97-9070-025abab037e0"
      },
      "source": [
        "from sklearn.metrics import confusion_matrix\n",
        "cm = confusion_matrix(y_train, y_train_pred)\n",
        "print(cm)\n",
        "\n",
        "sns.heatmap(cm, annot=True)\n",
        "plt.show()"
      ],
      "execution_count": 67,
      "outputs": [
        {
          "output_type": "stream",
          "text": [
            "[[239  60]\n",
            " [ 61 200]]\n"
          ],
          "name": "stdout"
        },
        {
          "output_type": "display_data",
          "data": {
            "image/png": "[encoded data removed]",
            "text/plain": [
              "<Figure size 432x288 with 2 Axes>"
            ]
          },
          "metadata": {
            "tags": [],
            "needs_background": "light"
          }
        }
      ]
    },
    {
      "cell_type": "markdown",
      "metadata": {
        "id": "xHhSJNHjzfiP",
        "colab_type": "text"
      },
      "source": [
        "### Classification report ###\n"
      ]
    },
    {
      "cell_type": "code",
      "metadata": {
        "id": "wEObItDWzZtd",
        "colab_type": "code",
        "colab": {
          "base_uri": "https://localhost:8080/",
          "height": 163
        },
        "outputId": "aa29dc2b-a778-41f3-d6fe-b606dc9b22f5"
      },
      "source": [
        "from sklearn.metrics import classification_report\n",
        "print(classification_report(y_train, y_train_pred))"
      ],
      "execution_count": 68,
      "outputs": [
        {
          "output_type": "stream",
          "text": [
            "              precision    recall  f1-score   support\n",
            "\n",
            "           0       0.80      0.80      0.80       299\n",
            "           1       0.77      0.77      0.77       261\n",
            "\n",
            "    accuracy                           0.78       560\n",
            "   macro avg       0.78      0.78      0.78       560\n",
            "weighted avg       0.78      0.78      0.78       560\n",
            "\n"
          ],
          "name": "stdout"
        }
      ]
    },
    {
      "cell_type": "markdown",
      "metadata": {
        "id": "neEgYge-0JPC",
        "colab_type": "text"
      },
      "source": [
        "# Coefficients & Intercept\n",
        "\n",
        "Getting the final logistic regression equation with the values of the coefficients"
      ]
    },
    {
      "cell_type": "code",
      "metadata": {
        "id": "7hzLc7Hl0FLN",
        "colab_type": "code",
        "colab": {
          "base_uri": "https://localhost:8080/",
          "height": 98
        },
        "outputId": "93d339aa-b327-42a5-f098-f7c6e84da637"
      },
      "source": [
        "print(classifier.coef_)\n",
        "print(classifier.intercept_)"
      ],
      "execution_count": 69,
      "outputs": [
        {
          "output_type": "stream",
          "text": [
            "[[ 1.56205748  0.15817698  1.69282885 -0.49878946  0.21573235 -0.18548461\n",
            "  -0.23097485  0.70356479 -0.15771591 -0.10397326 -0.24236589  0.05149594\n",
            "   0.06330211 -2.9152355  -0.11640789  0.40909454  0.60298805  0.08481643\n",
            "  -0.29263659  0.58965704 -0.20596438 -0.28061135]]\n",
            "[-0.59560961]\n"
          ],
          "name": "stdout"
        }
      ]
    },
    {
      "cell_type": "code",
      "metadata": {
        "id": "2H7I7cW2D2RK",
        "colab_type": "code",
        "colab": {
          "base_uri": "https://localhost:8080/",
          "height": 115
        },
        "outputId": "d2880d3a-6624-482c-c56b-6d36329af524"
      },
      "source": [
        "df.iloc[:, :-1].columns.values"
      ],
      "execution_count": 70,
      "outputs": [
        {
          "output_type": "execute_result",
          "data": {
            "text/plain": [
              "array(['Reason A', 'Reason B', 'Reason C', 'Reason D', 'Month of absence',\n",
              "       'Day of the week', 'Seasons', 'Transportation expense',\n",
              "       'Distance from Residence to Work', 'Service time', 'Age',\n",
              "       'Work load Average/day ', 'Hit target', 'Disciplinary failure',\n",
              "       'Education', 'Son', 'Social drinker', 'Social smoker', 'Pet',\n",
              "       'Weight', 'Height', 'Body mass index'], dtype=object)"
            ]
          },
          "metadata": {
            "tags": []
          },
          "execution_count": 70
        }
      ]
    },
    {
      "cell_type": "code",
      "metadata": {
        "id": "jqN_JHziBz_Z",
        "colab_type": "code",
        "colab": {}
      },
      "source": [
        "features = df.iloc[:, :-1].columns.values"
      ],
      "execution_count": 71,
      "outputs": []
    },
    {
      "cell_type": "code",
      "metadata": {
        "id": "drcjLpKQEfea",
        "colab_type": "code",
        "colab": {}
      },
      "source": [
        "summary = pd.DataFrame(features, columns = ['Features'])"
      ],
      "execution_count": 72,
      "outputs": []
    },
    {
      "cell_type": "code",
      "metadata": {
        "id": "S2Q2ODu-Ez4g",
        "colab_type": "code",
        "colab": {}
      },
      "source": [
        "summary['Coefficients'] = np.transpose(classifier.coef_)"
      ],
      "execution_count": 73,
      "outputs": []
    },
    {
      "cell_type": "code",
      "metadata": {
        "id": "_03pZZoUFIFM",
        "colab_type": "code",
        "colab": {
          "base_uri": "https://localhost:8080/",
          "height": 680
        },
        "outputId": "4a9372d5-cd3a-4036-bba7-e018c7a6ed52"
      },
      "source": [
        "summary"
      ],
      "execution_count": 74,
      "outputs": [
        {
          "output_type": "execute_result",
          "data": {
            "text/html": [
              "<div>\n",
              "<style scoped>\n",
              "    .dataframe tbody tr th:only-of-type {\n",
              "        vertical-align: middle;\n",
              "    }\n",
              "\n",
              "    .dataframe tbody tr th {\n",
              "        vertical-align: top;\n",
              "    }\n",
              "\n",
              "    .dataframe thead th {\n",
              "        text-align: right;\n",
              "    }\n",
              "</style>\n",
              "<table border=\"1\" class=\"dataframe\">\n",
              "  <thead>\n",
              "    <tr style=\"text-align: right;\">\n",
              "      <th></th>\n",
              "      <th>Features</th>\n",
              "      <th>Coefficients</th>\n",
              "    </tr>\n",
              "  </thead>\n",
              "  <tbody>\n",
              "    <tr>\n",
              "      <th>0</th>\n",
              "      <td>Reason A</td>\n",
              "      <td>1.562057</td>\n",
              "    </tr>\n",
              "    <tr>\n",
              "      <th>1</th>\n",
              "      <td>Reason B</td>\n",
              "      <td>0.158177</td>\n",
              "    </tr>\n",
              "    <tr>\n",
              "      <th>2</th>\n",
              "      <td>Reason C</td>\n",
              "      <td>1.692829</td>\n",
              "    </tr>\n",
              "    <tr>\n",
              "      <th>3</th>\n",
              "      <td>Reason D</td>\n",
              "      <td>-0.498789</td>\n",
              "    </tr>\n",
              "    <tr>\n",
              "      <th>4</th>\n",
              "      <td>Month of absence</td>\n",
              "      <td>0.215732</td>\n",
              "    </tr>\n",
              "    <tr>\n",
              "      <th>5</th>\n",
              "      <td>Day of the week</td>\n",
              "      <td>-0.185485</td>\n",
              "    </tr>\n",
              "    <tr>\n",
              "      <th>6</th>\n",
              "      <td>Seasons</td>\n",
              "      <td>-0.230975</td>\n",
              "    </tr>\n",
              "    <tr>\n",
              "      <th>7</th>\n",
              "      <td>Transportation expense</td>\n",
              "      <td>0.703565</td>\n",
              "    </tr>\n",
              "    <tr>\n",
              "      <th>8</th>\n",
              "      <td>Distance from Residence to Work</td>\n",
              "      <td>-0.157716</td>\n",
              "    </tr>\n",
              "    <tr>\n",
              "      <th>9</th>\n",
              "      <td>Service time</td>\n",
              "      <td>-0.103973</td>\n",
              "    </tr>\n",
              "    <tr>\n",
              "      <th>10</th>\n",
              "      <td>Age</td>\n",
              "      <td>-0.242366</td>\n",
              "    </tr>\n",
              "    <tr>\n",
              "      <th>11</th>\n",
              "      <td>Work load Average/day</td>\n",
              "      <td>0.051496</td>\n",
              "    </tr>\n",
              "    <tr>\n",
              "      <th>12</th>\n",
              "      <td>Hit target</td>\n",
              "      <td>0.063302</td>\n",
              "    </tr>\n",
              "    <tr>\n",
              "      <th>13</th>\n",
              "      <td>Disciplinary failure</td>\n",
              "      <td>-2.915236</td>\n",
              "    </tr>\n",
              "    <tr>\n",
              "      <th>14</th>\n",
              "      <td>Education</td>\n",
              "      <td>-0.116408</td>\n",
              "    </tr>\n",
              "    <tr>\n",
              "      <th>15</th>\n",
              "      <td>Son</td>\n",
              "      <td>0.409095</td>\n",
              "    </tr>\n",
              "    <tr>\n",
              "      <th>16</th>\n",
              "      <td>Social drinker</td>\n",
              "      <td>0.602988</td>\n",
              "    </tr>\n",
              "    <tr>\n",
              "      <th>17</th>\n",
              "      <td>Social smoker</td>\n",
              "      <td>0.084816</td>\n",
              "    </tr>\n",
              "    <tr>\n",
              "      <th>18</th>\n",
              "      <td>Pet</td>\n",
              "      <td>-0.292637</td>\n",
              "    </tr>\n",
              "    <tr>\n",
              "      <th>19</th>\n",
              "      <td>Weight</td>\n",
              "      <td>0.589657</td>\n",
              "    </tr>\n",
              "    <tr>\n",
              "      <th>20</th>\n",
              "      <td>Height</td>\n",
              "      <td>-0.205964</td>\n",
              "    </tr>\n",
              "    <tr>\n",
              "      <th>21</th>\n",
              "      <td>Body mass index</td>\n",
              "      <td>-0.280611</td>\n",
              "    </tr>\n",
              "  </tbody>\n",
              "</table>\n",
              "</div>"
            ],
            "text/plain": [
              "                           Features  Coefficients\n",
              "0                          Reason A      1.562057\n",
              "1                          Reason B      0.158177\n",
              "2                          Reason C      1.692829\n",
              "3                          Reason D     -0.498789\n",
              "4                  Month of absence      0.215732\n",
              "5                   Day of the week     -0.185485\n",
              "6                           Seasons     -0.230975\n",
              "7            Transportation expense      0.703565\n",
              "8   Distance from Residence to Work     -0.157716\n",
              "9                      Service time     -0.103973\n",
              "10                              Age     -0.242366\n",
              "11           Work load Average/day       0.051496\n",
              "12                       Hit target      0.063302\n",
              "13             Disciplinary failure     -2.915236\n",
              "14                        Education     -0.116408\n",
              "15                              Son      0.409095\n",
              "16                   Social drinker      0.602988\n",
              "17                    Social smoker      0.084816\n",
              "18                              Pet     -0.292637\n",
              "19                           Weight      0.589657\n",
              "20                           Height     -0.205964\n",
              "21                  Body mass index     -0.280611"
            ]
          },
          "metadata": {
            "tags": []
          },
          "execution_count": 74
        }
      ]
    },
    {
      "cell_type": "code",
      "metadata": {
        "id": "TNvtFpWmE0k6",
        "colab_type": "code",
        "colab": {}
      },
      "source": [
        "summary.index = summary.index + 1\n",
        "summary.loc[0] = ['Intercept', classifier.intercept_[0]]\n",
        "summary = summary.sort_index()"
      ],
      "execution_count": 75,
      "outputs": []
    },
    {
      "cell_type": "code",
      "metadata": {
        "id": "ayzlTIZEDt-l",
        "colab_type": "code",
        "colab": {
          "base_uri": "https://localhost:8080/",
          "height": 708
        },
        "outputId": "ea4efc4f-80ac-4017-fe6c-6723af93a81c"
      },
      "source": [
        "summary"
      ],
      "execution_count": 76,
      "outputs": [
        {
          "output_type": "execute_result",
          "data": {
            "text/html": [
              "<div>\n",
              "<style scoped>\n",
              "    .dataframe tbody tr th:only-of-type {\n",
              "        vertical-align: middle;\n",
              "    }\n",
              "\n",
              "    .dataframe tbody tr th {\n",
              "        vertical-align: top;\n",
              "    }\n",
              "\n",
              "    .dataframe thead th {\n",
              "        text-align: right;\n",
              "    }\n",
              "</style>\n",
              "<table border=\"1\" class=\"dataframe\">\n",
              "  <thead>\n",
              "    <tr style=\"text-align: right;\">\n",
              "      <th></th>\n",
              "      <th>Features</th>\n",
              "      <th>Coefficients</th>\n",
              "    </tr>\n",
              "  </thead>\n",
              "  <tbody>\n",
              "    <tr>\n",
              "      <th>0</th>\n",
              "      <td>Intercept</td>\n",
              "      <td>-0.595610</td>\n",
              "    </tr>\n",
              "    <tr>\n",
              "      <th>1</th>\n",
              "      <td>Reason A</td>\n",
              "      <td>1.562057</td>\n",
              "    </tr>\n",
              "    <tr>\n",
              "      <th>2</th>\n",
              "      <td>Reason B</td>\n",
              "      <td>0.158177</td>\n",
              "    </tr>\n",
              "    <tr>\n",
              "      <th>3</th>\n",
              "      <td>Reason C</td>\n",
              "      <td>1.692829</td>\n",
              "    </tr>\n",
              "    <tr>\n",
              "      <th>4</th>\n",
              "      <td>Reason D</td>\n",
              "      <td>-0.498789</td>\n",
              "    </tr>\n",
              "    <tr>\n",
              "      <th>5</th>\n",
              "      <td>Month of absence</td>\n",
              "      <td>0.215732</td>\n",
              "    </tr>\n",
              "    <tr>\n",
              "      <th>6</th>\n",
              "      <td>Day of the week</td>\n",
              "      <td>-0.185485</td>\n",
              "    </tr>\n",
              "    <tr>\n",
              "      <th>7</th>\n",
              "      <td>Seasons</td>\n",
              "      <td>-0.230975</td>\n",
              "    </tr>\n",
              "    <tr>\n",
              "      <th>8</th>\n",
              "      <td>Transportation expense</td>\n",
              "      <td>0.703565</td>\n",
              "    </tr>\n",
              "    <tr>\n",
              "      <th>9</th>\n",
              "      <td>Distance from Residence to Work</td>\n",
              "      <td>-0.157716</td>\n",
              "    </tr>\n",
              "    <tr>\n",
              "      <th>10</th>\n",
              "      <td>Service time</td>\n",
              "      <td>-0.103973</td>\n",
              "    </tr>\n",
              "    <tr>\n",
              "      <th>11</th>\n",
              "      <td>Age</td>\n",
              "      <td>-0.242366</td>\n",
              "    </tr>\n",
              "    <tr>\n",
              "      <th>12</th>\n",
              "      <td>Work load Average/day</td>\n",
              "      <td>0.051496</td>\n",
              "    </tr>\n",
              "    <tr>\n",
              "      <th>13</th>\n",
              "      <td>Hit target</td>\n",
              "      <td>0.063302</td>\n",
              "    </tr>\n",
              "    <tr>\n",
              "      <th>14</th>\n",
              "      <td>Disciplinary failure</td>\n",
              "      <td>-2.915236</td>\n",
              "    </tr>\n",
              "    <tr>\n",
              "      <th>15</th>\n",
              "      <td>Education</td>\n",
              "      <td>-0.116408</td>\n",
              "    </tr>\n",
              "    <tr>\n",
              "      <th>16</th>\n",
              "      <td>Son</td>\n",
              "      <td>0.409095</td>\n",
              "    </tr>\n",
              "    <tr>\n",
              "      <th>17</th>\n",
              "      <td>Social drinker</td>\n",
              "      <td>0.602988</td>\n",
              "    </tr>\n",
              "    <tr>\n",
              "      <th>18</th>\n",
              "      <td>Social smoker</td>\n",
              "      <td>0.084816</td>\n",
              "    </tr>\n",
              "    <tr>\n",
              "      <th>19</th>\n",
              "      <td>Pet</td>\n",
              "      <td>-0.292637</td>\n",
              "    </tr>\n",
              "    <tr>\n",
              "      <th>20</th>\n",
              "      <td>Weight</td>\n",
              "      <td>0.589657</td>\n",
              "    </tr>\n",
              "    <tr>\n",
              "      <th>21</th>\n",
              "      <td>Height</td>\n",
              "      <td>-0.205964</td>\n",
              "    </tr>\n",
              "    <tr>\n",
              "      <th>22</th>\n",
              "      <td>Body mass index</td>\n",
              "      <td>-0.280611</td>\n",
              "    </tr>\n",
              "  </tbody>\n",
              "</table>\n",
              "</div>"
            ],
            "text/plain": [
              "                           Features  Coefficients\n",
              "0                         Intercept     -0.595610\n",
              "1                          Reason A      1.562057\n",
              "2                          Reason B      0.158177\n",
              "3                          Reason C      1.692829\n",
              "4                          Reason D     -0.498789\n",
              "5                  Month of absence      0.215732\n",
              "6                   Day of the week     -0.185485\n",
              "7                           Seasons     -0.230975\n",
              "8            Transportation expense      0.703565\n",
              "9   Distance from Residence to Work     -0.157716\n",
              "10                     Service time     -0.103973\n",
              "11                              Age     -0.242366\n",
              "12           Work load Average/day       0.051496\n",
              "13                       Hit target      0.063302\n",
              "14             Disciplinary failure     -2.915236\n",
              "15                        Education     -0.116408\n",
              "16                              Son      0.409095\n",
              "17                   Social drinker      0.602988\n",
              "18                    Social smoker      0.084816\n",
              "19                              Pet     -0.292637\n",
              "20                           Weight      0.589657\n",
              "21                           Height     -0.205964\n",
              "22                  Body mass index     -0.280611"
            ]
          },
          "metadata": {
            "tags": []
          },
          "execution_count": 76
        }
      ]
    },
    {
      "cell_type": "markdown",
      "metadata": {
        "id": "AWpteLZxOvdq",
        "colab_type": "text"
      },
      "source": [
        "# Interpretation of Coefficients"
      ]
    },
    {
      "cell_type": "markdown",
      "metadata": {
        "id": "rSaZZv34JMdo",
        "colab_type": "text"
      },
      "source": [
        "For Logistic Regression,\n",
        "\n",
        "log(odds) = b0 + b1x1 + b2x2 +.........\n",
        "\n",
        "**Standard Coefficients** : the coefficients where all variables are standarsized\n",
        "\n",
        "Whichever weight is bigger, its corresponding feature is more important"
      ]
    },
    {
      "cell_type": "code",
      "metadata": {
        "id": "jah-MJoRDvGN",
        "colab_type": "code",
        "colab": {}
      },
      "source": [
        "summary['Odds Ratio'] = np.exp(summary.Coefficients)"
      ],
      "execution_count": 77,
      "outputs": []
    },
    {
      "cell_type": "code",
      "metadata": {
        "id": "IS5W1_gbCDa2",
        "colab_type": "code",
        "colab": {
          "base_uri": "https://localhost:8080/",
          "height": 708
        },
        "outputId": "0e1d6c14-aae9-4c59-9e5d-a2756cd704d3"
      },
      "source": [
        "summary"
      ],
      "execution_count": 78,
      "outputs": [
        {
          "output_type": "execute_result",
          "data": {
            "text/html": [
              "<div>\n",
              "<style scoped>\n",
              "    .dataframe tbody tr th:only-of-type {\n",
              "        vertical-align: middle;\n",
              "    }\n",
              "\n",
              "    .dataframe tbody tr th {\n",
              "        vertical-align: top;\n",
              "    }\n",
              "\n",
              "    .dataframe thead th {\n",
              "        text-align: right;\n",
              "    }\n",
              "</style>\n",
              "<table border=\"1\" class=\"dataframe\">\n",
              "  <thead>\n",
              "    <tr style=\"text-align: right;\">\n",
              "      <th></th>\n",
              "      <th>Features</th>\n",
              "      <th>Coefficients</th>\n",
              "      <th>Odds Ratio</th>\n",
              "    </tr>\n",
              "  </thead>\n",
              "  <tbody>\n",
              "    <tr>\n",
              "      <th>0</th>\n",
              "      <td>Intercept</td>\n",
              "      <td>-0.595610</td>\n",
              "      <td>0.551226</td>\n",
              "    </tr>\n",
              "    <tr>\n",
              "      <th>1</th>\n",
              "      <td>Reason A</td>\n",
              "      <td>1.562057</td>\n",
              "      <td>4.768623</td>\n",
              "    </tr>\n",
              "    <tr>\n",
              "      <th>2</th>\n",
              "      <td>Reason B</td>\n",
              "      <td>0.158177</td>\n",
              "      <td>1.171373</td>\n",
              "    </tr>\n",
              "    <tr>\n",
              "      <th>3</th>\n",
              "      <td>Reason C</td>\n",
              "      <td>1.692829</td>\n",
              "      <td>5.434833</td>\n",
              "    </tr>\n",
              "    <tr>\n",
              "      <th>4</th>\n",
              "      <td>Reason D</td>\n",
              "      <td>-0.498789</td>\n",
              "      <td>0.607265</td>\n",
              "    </tr>\n",
              "    <tr>\n",
              "      <th>5</th>\n",
              "      <td>Month of absence</td>\n",
              "      <td>0.215732</td>\n",
              "      <td>1.240770</td>\n",
              "    </tr>\n",
              "    <tr>\n",
              "      <th>6</th>\n",
              "      <td>Day of the week</td>\n",
              "      <td>-0.185485</td>\n",
              "      <td>0.830702</td>\n",
              "    </tr>\n",
              "    <tr>\n",
              "      <th>7</th>\n",
              "      <td>Seasons</td>\n",
              "      <td>-0.230975</td>\n",
              "      <td>0.793759</td>\n",
              "    </tr>\n",
              "    <tr>\n",
              "      <th>8</th>\n",
              "      <td>Transportation expense</td>\n",
              "      <td>0.703565</td>\n",
              "      <td>2.020944</td>\n",
              "    </tr>\n",
              "    <tr>\n",
              "      <th>9</th>\n",
              "      <td>Distance from Residence to Work</td>\n",
              "      <td>-0.157716</td>\n",
              "      <td>0.854092</td>\n",
              "    </tr>\n",
              "    <tr>\n",
              "      <th>10</th>\n",
              "      <td>Service time</td>\n",
              "      <td>-0.103973</td>\n",
              "      <td>0.901249</td>\n",
              "    </tr>\n",
              "    <tr>\n",
              "      <th>11</th>\n",
              "      <td>Age</td>\n",
              "      <td>-0.242366</td>\n",
              "      <td>0.784769</td>\n",
              "    </tr>\n",
              "    <tr>\n",
              "      <th>12</th>\n",
              "      <td>Work load Average/day</td>\n",
              "      <td>0.051496</td>\n",
              "      <td>1.052845</td>\n",
              "    </tr>\n",
              "    <tr>\n",
              "      <th>13</th>\n",
              "      <td>Hit target</td>\n",
              "      <td>0.063302</td>\n",
              "      <td>1.065349</td>\n",
              "    </tr>\n",
              "    <tr>\n",
              "      <th>14</th>\n",
              "      <td>Disciplinary failure</td>\n",
              "      <td>-2.915236</td>\n",
              "      <td>0.054191</td>\n",
              "    </tr>\n",
              "    <tr>\n",
              "      <th>15</th>\n",
              "      <td>Education</td>\n",
              "      <td>-0.116408</td>\n",
              "      <td>0.890112</td>\n",
              "    </tr>\n",
              "    <tr>\n",
              "      <th>16</th>\n",
              "      <td>Son</td>\n",
              "      <td>0.409095</td>\n",
              "      <td>1.505454</td>\n",
              "    </tr>\n",
              "    <tr>\n",
              "      <th>17</th>\n",
              "      <td>Social drinker</td>\n",
              "      <td>0.602988</td>\n",
              "      <td>1.827572</td>\n",
              "    </tr>\n",
              "    <tr>\n",
              "      <th>18</th>\n",
              "      <td>Social smoker</td>\n",
              "      <td>0.084816</td>\n",
              "      <td>1.088517</td>\n",
              "    </tr>\n",
              "    <tr>\n",
              "      <th>19</th>\n",
              "      <td>Pet</td>\n",
              "      <td>-0.292637</td>\n",
              "      <td>0.746293</td>\n",
              "    </tr>\n",
              "    <tr>\n",
              "      <th>20</th>\n",
              "      <td>Weight</td>\n",
              "      <td>0.589657</td>\n",
              "      <td>1.803370</td>\n",
              "    </tr>\n",
              "    <tr>\n",
              "      <th>21</th>\n",
              "      <td>Height</td>\n",
              "      <td>-0.205964</td>\n",
              "      <td>0.813862</td>\n",
              "    </tr>\n",
              "    <tr>\n",
              "      <th>22</th>\n",
              "      <td>Body mass index</td>\n",
              "      <td>-0.280611</td>\n",
              "      <td>0.755322</td>\n",
              "    </tr>\n",
              "  </tbody>\n",
              "</table>\n",
              "</div>"
            ],
            "text/plain": [
              "                           Features  Coefficients  Odds Ratio\n",
              "0                         Intercept     -0.595610    0.551226\n",
              "1                          Reason A      1.562057    4.768623\n",
              "2                          Reason B      0.158177    1.171373\n",
              "3                          Reason C      1.692829    5.434833\n",
              "4                          Reason D     -0.498789    0.607265\n",
              "5                  Month of absence      0.215732    1.240770\n",
              "6                   Day of the week     -0.185485    0.830702\n",
              "7                           Seasons     -0.230975    0.793759\n",
              "8            Transportation expense      0.703565    2.020944\n",
              "9   Distance from Residence to Work     -0.157716    0.854092\n",
              "10                     Service time     -0.103973    0.901249\n",
              "11                              Age     -0.242366    0.784769\n",
              "12           Work load Average/day       0.051496    1.052845\n",
              "13                       Hit target      0.063302    1.065349\n",
              "14             Disciplinary failure     -2.915236    0.054191\n",
              "15                        Education     -0.116408    0.890112\n",
              "16                              Son      0.409095    1.505454\n",
              "17                   Social drinker      0.602988    1.827572\n",
              "18                    Social smoker      0.084816    1.088517\n",
              "19                              Pet     -0.292637    0.746293\n",
              "20                           Weight      0.589657    1.803370\n",
              "21                           Height     -0.205964    0.813862\n",
              "22                  Body mass index     -0.280611    0.755322"
            ]
          },
          "metadata": {
            "tags": []
          },
          "execution_count": 78
        }
      ]
    },
    {
      "cell_type": "markdown",
      "metadata": {
        "id": "2k5Lv6oJ6zoK",
        "colab_type": "text"
      },
      "source": [
        "### By Odds Ratio"
      ]
    },
    {
      "cell_type": "code",
      "metadata": {
        "id": "aAjsfxpdKNs0",
        "colab_type": "code",
        "colab": {
          "base_uri": "https://localhost:8080/",
          "height": 708
        },
        "outputId": "b753c7e9-932d-4fc6-ff10-0d639fe4d4da"
      },
      "source": [
        "summary.sort_values(by=['Odds Ratio'], ascending = False, ignore_index = True)"
      ],
      "execution_count": 79,
      "outputs": [
        {
          "output_type": "execute_result",
          "data": {
            "text/html": [
              "<div>\n",
              "<style scoped>\n",
              "    .dataframe tbody tr th:only-of-type {\n",
              "        vertical-align: middle;\n",
              "    }\n",
              "\n",
              "    .dataframe tbody tr th {\n",
              "        vertical-align: top;\n",
              "    }\n",
              "\n",
              "    .dataframe thead th {\n",
              "        text-align: right;\n",
              "    }\n",
              "</style>\n",
              "<table border=\"1\" class=\"dataframe\">\n",
              "  <thead>\n",
              "    <tr style=\"text-align: right;\">\n",
              "      <th></th>\n",
              "      <th>Features</th>\n",
              "      <th>Coefficients</th>\n",
              "      <th>Odds Ratio</th>\n",
              "    </tr>\n",
              "  </thead>\n",
              "  <tbody>\n",
              "    <tr>\n",
              "      <th>0</th>\n",
              "      <td>Reason C</td>\n",
              "      <td>1.692829</td>\n",
              "      <td>5.434833</td>\n",
              "    </tr>\n",
              "    <tr>\n",
              "      <th>1</th>\n",
              "      <td>Reason A</td>\n",
              "      <td>1.562057</td>\n",
              "      <td>4.768623</td>\n",
              "    </tr>\n",
              "    <tr>\n",
              "      <th>2</th>\n",
              "      <td>Transportation expense</td>\n",
              "      <td>0.703565</td>\n",
              "      <td>2.020944</td>\n",
              "    </tr>\n",
              "    <tr>\n",
              "      <th>3</th>\n",
              "      <td>Social drinker</td>\n",
              "      <td>0.602988</td>\n",
              "      <td>1.827572</td>\n",
              "    </tr>\n",
              "    <tr>\n",
              "      <th>4</th>\n",
              "      <td>Weight</td>\n",
              "      <td>0.589657</td>\n",
              "      <td>1.803370</td>\n",
              "    </tr>\n",
              "    <tr>\n",
              "      <th>5</th>\n",
              "      <td>Son</td>\n",
              "      <td>0.409095</td>\n",
              "      <td>1.505454</td>\n",
              "    </tr>\n",
              "    <tr>\n",
              "      <th>6</th>\n",
              "      <td>Month of absence</td>\n",
              "      <td>0.215732</td>\n",
              "      <td>1.240770</td>\n",
              "    </tr>\n",
              "    <tr>\n",
              "      <th>7</th>\n",
              "      <td>Reason B</td>\n",
              "      <td>0.158177</td>\n",
              "      <td>1.171373</td>\n",
              "    </tr>\n",
              "    <tr>\n",
              "      <th>8</th>\n",
              "      <td>Social smoker</td>\n",
              "      <td>0.084816</td>\n",
              "      <td>1.088517</td>\n",
              "    </tr>\n",
              "    <tr>\n",
              "      <th>9</th>\n",
              "      <td>Hit target</td>\n",
              "      <td>0.063302</td>\n",
              "      <td>1.065349</td>\n",
              "    </tr>\n",
              "    <tr>\n",
              "      <th>10</th>\n",
              "      <td>Work load Average/day</td>\n",
              "      <td>0.051496</td>\n",
              "      <td>1.052845</td>\n",
              "    </tr>\n",
              "    <tr>\n",
              "      <th>11</th>\n",
              "      <td>Service time</td>\n",
              "      <td>-0.103973</td>\n",
              "      <td>0.901249</td>\n",
              "    </tr>\n",
              "    <tr>\n",
              "      <th>12</th>\n",
              "      <td>Education</td>\n",
              "      <td>-0.116408</td>\n",
              "      <td>0.890112</td>\n",
              "    </tr>\n",
              "    <tr>\n",
              "      <th>13</th>\n",
              "      <td>Distance from Residence to Work</td>\n",
              "      <td>-0.157716</td>\n",
              "      <td>0.854092</td>\n",
              "    </tr>\n",
              "    <tr>\n",
              "      <th>14</th>\n",
              "      <td>Day of the week</td>\n",
              "      <td>-0.185485</td>\n",
              "      <td>0.830702</td>\n",
              "    </tr>\n",
              "    <tr>\n",
              "      <th>15</th>\n",
              "      <td>Height</td>\n",
              "      <td>-0.205964</td>\n",
              "      <td>0.813862</td>\n",
              "    </tr>\n",
              "    <tr>\n",
              "      <th>16</th>\n",
              "      <td>Seasons</td>\n",
              "      <td>-0.230975</td>\n",
              "      <td>0.793759</td>\n",
              "    </tr>\n",
              "    <tr>\n",
              "      <th>17</th>\n",
              "      <td>Age</td>\n",
              "      <td>-0.242366</td>\n",
              "      <td>0.784769</td>\n",
              "    </tr>\n",
              "    <tr>\n",
              "      <th>18</th>\n",
              "      <td>Body mass index</td>\n",
              "      <td>-0.280611</td>\n",
              "      <td>0.755322</td>\n",
              "    </tr>\n",
              "    <tr>\n",
              "      <th>19</th>\n",
              "      <td>Pet</td>\n",
              "      <td>-0.292637</td>\n",
              "      <td>0.746293</td>\n",
              "    </tr>\n",
              "    <tr>\n",
              "      <th>20</th>\n",
              "      <td>Reason D</td>\n",
              "      <td>-0.498789</td>\n",
              "      <td>0.607265</td>\n",
              "    </tr>\n",
              "    <tr>\n",
              "      <th>21</th>\n",
              "      <td>Intercept</td>\n",
              "      <td>-0.595610</td>\n",
              "      <td>0.551226</td>\n",
              "    </tr>\n",
              "    <tr>\n",
              "      <th>22</th>\n",
              "      <td>Disciplinary failure</td>\n",
              "      <td>-2.915236</td>\n",
              "      <td>0.054191</td>\n",
              "    </tr>\n",
              "  </tbody>\n",
              "</table>\n",
              "</div>"
            ],
            "text/plain": [
              "                           Features  Coefficients  Odds Ratio\n",
              "0                          Reason C      1.692829    5.434833\n",
              "1                          Reason A      1.562057    4.768623\n",
              "2            Transportation expense      0.703565    2.020944\n",
              "3                    Social drinker      0.602988    1.827572\n",
              "4                            Weight      0.589657    1.803370\n",
              "5                               Son      0.409095    1.505454\n",
              "6                  Month of absence      0.215732    1.240770\n",
              "7                          Reason B      0.158177    1.171373\n",
              "8                     Social smoker      0.084816    1.088517\n",
              "9                        Hit target      0.063302    1.065349\n",
              "10           Work load Average/day       0.051496    1.052845\n",
              "11                     Service time     -0.103973    0.901249\n",
              "12                        Education     -0.116408    0.890112\n",
              "13  Distance from Residence to Work     -0.157716    0.854092\n",
              "14                  Day of the week     -0.185485    0.830702\n",
              "15                           Height     -0.205964    0.813862\n",
              "16                          Seasons     -0.230975    0.793759\n",
              "17                              Age     -0.242366    0.784769\n",
              "18                  Body mass index     -0.280611    0.755322\n",
              "19                              Pet     -0.292637    0.746293\n",
              "20                         Reason D     -0.498789    0.607265\n",
              "21                        Intercept     -0.595610    0.551226\n",
              "22             Disciplinary failure     -2.915236    0.054191"
            ]
          },
          "metadata": {
            "tags": []
          },
          "execution_count": 79
        }
      ]
    },
    {
      "cell_type": "markdown",
      "metadata": {
        "id": "Q6Yqi7Gk6mFf",
        "colab_type": "text"
      },
      "source": [
        "Not Important Features\n",
        "\n",
        "- its odd ratio is around 1\n",
        "\n",
        "Eg: Work load Average/day, Social Smoker and Hit target\n",
        "\n",
        "shows for a unit change in standarized feature, the odds increase by a multple equal to the odds ratio (1 = no change)"
      ]
    },
    {
      "cell_type": "markdown",
      "metadata": {
        "id": "7MJ0Qp5d7Oap",
        "colab_type": "text"
      },
      "source": [
        ""
      ]
    },
    {
      "cell_type": "markdown",
      "metadata": {
        "id": "bUKrG5V768uP",
        "colab_type": "text"
      },
      "source": [
        "### By Coefficients"
      ]
    },
    {
      "cell_type": "code",
      "metadata": {
        "id": "KQXDgIVA5_GQ",
        "colab_type": "code",
        "colab": {
          "base_uri": "https://localhost:8080/",
          "height": 708
        },
        "outputId": "5190106f-f1d7-4436-ba39-6444320f50dd"
      },
      "source": [
        "summary.sort_values(by=['Coefficients'], ascending = False, ignore_index = True)"
      ],
      "execution_count": 80,
      "outputs": [
        {
          "output_type": "execute_result",
          "data": {
            "text/html": [
              "<div>\n",
              "<style scoped>\n",
              "    .dataframe tbody tr th:only-of-type {\n",
              "        vertical-align: middle;\n",
              "    }\n",
              "\n",
              "    .dataframe tbody tr th {\n",
              "        vertical-align: top;\n",
              "    }\n",
              "\n",
              "    .dataframe thead th {\n",
              "        text-align: right;\n",
              "    }\n",
              "</style>\n",
              "<table border=\"1\" class=\"dataframe\">\n",
              "  <thead>\n",
              "    <tr style=\"text-align: right;\">\n",
              "      <th></th>\n",
              "      <th>Features</th>\n",
              "      <th>Coefficients</th>\n",
              "      <th>Odds Ratio</th>\n",
              "    </tr>\n",
              "  </thead>\n",
              "  <tbody>\n",
              "    <tr>\n",
              "      <th>0</th>\n",
              "      <td>Reason C</td>\n",
              "      <td>1.692829</td>\n",
              "      <td>5.434833</td>\n",
              "    </tr>\n",
              "    <tr>\n",
              "      <th>1</th>\n",
              "      <td>Reason A</td>\n",
              "      <td>1.562057</td>\n",
              "      <td>4.768623</td>\n",
              "    </tr>\n",
              "    <tr>\n",
              "      <th>2</th>\n",
              "      <td>Transportation expense</td>\n",
              "      <td>0.703565</td>\n",
              "      <td>2.020944</td>\n",
              "    </tr>\n",
              "    <tr>\n",
              "      <th>3</th>\n",
              "      <td>Social drinker</td>\n",
              "      <td>0.602988</td>\n",
              "      <td>1.827572</td>\n",
              "    </tr>\n",
              "    <tr>\n",
              "      <th>4</th>\n",
              "      <td>Weight</td>\n",
              "      <td>0.589657</td>\n",
              "      <td>1.803370</td>\n",
              "    </tr>\n",
              "    <tr>\n",
              "      <th>5</th>\n",
              "      <td>Son</td>\n",
              "      <td>0.409095</td>\n",
              "      <td>1.505454</td>\n",
              "    </tr>\n",
              "    <tr>\n",
              "      <th>6</th>\n",
              "      <td>Month of absence</td>\n",
              "      <td>0.215732</td>\n",
              "      <td>1.240770</td>\n",
              "    </tr>\n",
              "    <tr>\n",
              "      <th>7</th>\n",
              "      <td>Reason B</td>\n",
              "      <td>0.158177</td>\n",
              "      <td>1.171373</td>\n",
              "    </tr>\n",
              "    <tr>\n",
              "      <th>8</th>\n",
              "      <td>Social smoker</td>\n",
              "      <td>0.084816</td>\n",
              "      <td>1.088517</td>\n",
              "    </tr>\n",
              "    <tr>\n",
              "      <th>9</th>\n",
              "      <td>Hit target</td>\n",
              "      <td>0.063302</td>\n",
              "      <td>1.065349</td>\n",
              "    </tr>\n",
              "    <tr>\n",
              "      <th>10</th>\n",
              "      <td>Work load Average/day</td>\n",
              "      <td>0.051496</td>\n",
              "      <td>1.052845</td>\n",
              "    </tr>\n",
              "    <tr>\n",
              "      <th>11</th>\n",
              "      <td>Service time</td>\n",
              "      <td>-0.103973</td>\n",
              "      <td>0.901249</td>\n",
              "    </tr>\n",
              "    <tr>\n",
              "      <th>12</th>\n",
              "      <td>Education</td>\n",
              "      <td>-0.116408</td>\n",
              "      <td>0.890112</td>\n",
              "    </tr>\n",
              "    <tr>\n",
              "      <th>13</th>\n",
              "      <td>Distance from Residence to Work</td>\n",
              "      <td>-0.157716</td>\n",
              "      <td>0.854092</td>\n",
              "    </tr>\n",
              "    <tr>\n",
              "      <th>14</th>\n",
              "      <td>Day of the week</td>\n",
              "      <td>-0.185485</td>\n",
              "      <td>0.830702</td>\n",
              "    </tr>\n",
              "    <tr>\n",
              "      <th>15</th>\n",
              "      <td>Height</td>\n",
              "      <td>-0.205964</td>\n",
              "      <td>0.813862</td>\n",
              "    </tr>\n",
              "    <tr>\n",
              "      <th>16</th>\n",
              "      <td>Seasons</td>\n",
              "      <td>-0.230975</td>\n",
              "      <td>0.793759</td>\n",
              "    </tr>\n",
              "    <tr>\n",
              "      <th>17</th>\n",
              "      <td>Age</td>\n",
              "      <td>-0.242366</td>\n",
              "      <td>0.784769</td>\n",
              "    </tr>\n",
              "    <tr>\n",
              "      <th>18</th>\n",
              "      <td>Body mass index</td>\n",
              "      <td>-0.280611</td>\n",
              "      <td>0.755322</td>\n",
              "    </tr>\n",
              "    <tr>\n",
              "      <th>19</th>\n",
              "      <td>Pet</td>\n",
              "      <td>-0.292637</td>\n",
              "      <td>0.746293</td>\n",
              "    </tr>\n",
              "    <tr>\n",
              "      <th>20</th>\n",
              "      <td>Reason D</td>\n",
              "      <td>-0.498789</td>\n",
              "      <td>0.607265</td>\n",
              "    </tr>\n",
              "    <tr>\n",
              "      <th>21</th>\n",
              "      <td>Intercept</td>\n",
              "      <td>-0.595610</td>\n",
              "      <td>0.551226</td>\n",
              "    </tr>\n",
              "    <tr>\n",
              "      <th>22</th>\n",
              "      <td>Disciplinary failure</td>\n",
              "      <td>-2.915236</td>\n",
              "      <td>0.054191</td>\n",
              "    </tr>\n",
              "  </tbody>\n",
              "</table>\n",
              "</div>"
            ],
            "text/plain": [
              "                           Features  Coefficients  Odds Ratio\n",
              "0                          Reason C      1.692829    5.434833\n",
              "1                          Reason A      1.562057    4.768623\n",
              "2            Transportation expense      0.703565    2.020944\n",
              "3                    Social drinker      0.602988    1.827572\n",
              "4                            Weight      0.589657    1.803370\n",
              "5                               Son      0.409095    1.505454\n",
              "6                  Month of absence      0.215732    1.240770\n",
              "7                          Reason B      0.158177    1.171373\n",
              "8                     Social smoker      0.084816    1.088517\n",
              "9                        Hit target      0.063302    1.065349\n",
              "10           Work load Average/day       0.051496    1.052845\n",
              "11                     Service time     -0.103973    0.901249\n",
              "12                        Education     -0.116408    0.890112\n",
              "13  Distance from Residence to Work     -0.157716    0.854092\n",
              "14                  Day of the week     -0.185485    0.830702\n",
              "15                           Height     -0.205964    0.813862\n",
              "16                          Seasons     -0.230975    0.793759\n",
              "17                              Age     -0.242366    0.784769\n",
              "18                  Body mass index     -0.280611    0.755322\n",
              "19                              Pet     -0.292637    0.746293\n",
              "20                         Reason D     -0.498789    0.607265\n",
              "21                        Intercept     -0.595610    0.551226\n",
              "22             Disciplinary failure     -2.915236    0.054191"
            ]
          },
          "metadata": {
            "tags": []
          },
          "execution_count": 80
        }
      ]
    },
    {
      "cell_type": "markdown",
      "metadata": {
        "id": "wD3K_FyzLC5A",
        "colab_type": "text"
      },
      "source": [
        "A feature is not particularly important\n",
        "\n",
        "- its coefficient is around 0\n",
        "\n",
        "Eg: Work load Average/day, Social Smoker and Hit target\n",
        "\n",
        "shows that no matter the feature value, we will multiply it by 0 in the model\n",
        "\n"
      ]
    },
    {
      "cell_type": "markdown",
      "metadata": {
        "id": "qXl5S9w4XI2i",
        "colab_type": "text"
      },
      "source": [
        "# Conclusion"
      ]
    },
    {
      "cell_type": "markdown",
      "metadata": {
        "id": "Knb6pTbi7LWK",
        "colab_type": "text"
      },
      "source": [
        "- Reason A and C has most weightage\n",
        "\n",
        "Therefore, reasons like poisoning, injuries and various diseases are most common reasons for absenteeism.\n",
        "\n",
        "- Also, Transport is also an issue for an employee to get absent for hours.\n",
        "\n",
        "- Also, Disciplinary failure has highly negative coefficient means if there is no discipine penalty, there is more chance that employee become present in working hours."
      ]
    },
    {
      "cell_type": "code",
      "metadata": {
        "id": "GgqHyE5W6Xa5",
        "colab_type": "code",
        "colab": {}
      },
      "source": [
        ""
      ],
      "execution_count": 80,
      "outputs": []
    }
  ]
}
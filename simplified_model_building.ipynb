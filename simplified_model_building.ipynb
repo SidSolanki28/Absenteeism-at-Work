{
  "nbformat": 4,
  "nbformat_minor": 0,
  "metadata": {
    "colab": {
      "name": "simplified_model_building.ipynb",
      "provenance": [],
      "include_colab_link": true
    },
    "kernelspec": {
      "name": "python3",
      "display_name": "Python 3"
    }
  },
  "cells": [
    {
      "cell_type": "markdown",
      "metadata": {
        "id": "view-in-github",
        "colab_type": "text"
      },
      "source": [
        "<a href=\"https://colab.research.google.com/github/SidSolanki28/Absenteeism-at-Work/blob/master/simplified_model_building.ipynb\" target=\"_parent\"><img src=\"https://colab.research.google.com/assets/colab-badge.svg\" alt=\"Open In Colab\"/></a>"
      ]
    },
    {
      "cell_type": "markdown",
      "metadata": {
        "id": "ezvpxyjKEVmT",
        "colab_type": "text"
      },
      "source": [
        "# Importing Libraries"
      ]
    },
    {
      "cell_type": "code",
      "metadata": {
        "id": "kZEQsA08EYao",
        "colab_type": "code",
        "colab": {}
      },
      "source": [
        "# important packages\n",
        "\t\n",
        "import pandas as pd\t\t\t\t\t# data manipulation using dataframes\n",
        "import numpy as np\t\t\t\t\t# data statistical analysis\n",
        "import seaborn as sns\t\t\t\t# Statistical data visualization\n",
        "import matplotlib.pyplot as plt\t\t# data visualisation\n",
        "%matplotlib inline"
      ],
      "execution_count": 273,
      "outputs": []
    },
    {
      "cell_type": "code",
      "metadata": {
        "id": "HZKhK1lSGRBY",
        "colab_type": "code",
        "colab": {}
      },
      "source": [
        ""
      ],
      "execution_count": 273,
      "outputs": []
    },
    {
      "cell_type": "code",
      "metadata": {
        "id": "HiBU-vk3G5AJ",
        "colab_type": "code",
        "colab": {}
      },
      "source": [
        "# To display all rows and columns\n",
        "\n",
        "pd.options.display.max_rows = None\n",
        "pd.options.display.max_columns = None"
      ],
      "execution_count": 274,
      "outputs": []
    },
    {
      "cell_type": "code",
      "metadata": {
        "id": "4Z87Sbq7G5k6",
        "colab_type": "code",
        "colab": {
          "base_uri": "https://localhost:8080/",
          "height": 33
        },
        "outputId": "9ee796a3-b6da-47f7-8186-d3cacc4f6285"
      },
      "source": [
        "### Importing content from drive ###\n",
        "\n",
        "from google.colab import drive\n",
        "drive.mount('/content/drive')"
      ],
      "execution_count": 275,
      "outputs": [
        {
          "output_type": "stream",
          "text": [
            "Drive already mounted at /content/drive; to attempt to forcibly remount, call drive.mount(\"/content/drive\", force_remount=True).\n"
          ],
          "name": "stdout"
        }
      ]
    },
    {
      "cell_type": "markdown",
      "metadata": {
        "id": "qWUszD0WEg2g",
        "colab_type": "text"
      },
      "source": [
        "# Loading Dataset"
      ]
    },
    {
      "cell_type": "code",
      "metadata": {
        "id": "8aIoeYqJEeep",
        "colab_type": "code",
        "colab": {}
      },
      "source": [
        "df = pd.read_csv(\"/content/drive/My Drive/Project/Absenteeism/Absenteeism_pre_processed.csv\")"
      ],
      "execution_count": 276,
      "outputs": []
    },
    {
      "cell_type": "code",
      "metadata": {
        "id": "OkKJI1PiEvnq",
        "colab_type": "code",
        "colab": {
          "base_uri": "https://localhost:8080/",
          "height": 260
        },
        "outputId": "07d7c61a-48e6-446b-f484-a7a215b8001c"
      },
      "source": [
        "df.head()"
      ],
      "execution_count": 277,
      "outputs": [
        {
          "output_type": "execute_result",
          "data": {
            "text/html": [
              "<div>\n",
              "<style scoped>\n",
              "    .dataframe tbody tr th:only-of-type {\n",
              "        vertical-align: middle;\n",
              "    }\n",
              "\n",
              "    .dataframe tbody tr th {\n",
              "        vertical-align: top;\n",
              "    }\n",
              "\n",
              "    .dataframe thead th {\n",
              "        text-align: right;\n",
              "    }\n",
              "</style>\n",
              "<table border=\"1\" class=\"dataframe\">\n",
              "  <thead>\n",
              "    <tr style=\"text-align: right;\">\n",
              "      <th></th>\n",
              "      <th>Reason A</th>\n",
              "      <th>Reason B</th>\n",
              "      <th>Reason C</th>\n",
              "      <th>Reason D</th>\n",
              "      <th>Month of absence</th>\n",
              "      <th>Day of the week</th>\n",
              "      <th>Seasons</th>\n",
              "      <th>Transportation expense</th>\n",
              "      <th>Distance from Residence to Work</th>\n",
              "      <th>Service time</th>\n",
              "      <th>Age</th>\n",
              "      <th>Work load Average/day</th>\n",
              "      <th>Hit target</th>\n",
              "      <th>Disciplinary failure</th>\n",
              "      <th>Education</th>\n",
              "      <th>Son</th>\n",
              "      <th>Social drinker</th>\n",
              "      <th>Social smoker</th>\n",
              "      <th>Pet</th>\n",
              "      <th>Weight</th>\n",
              "      <th>Height</th>\n",
              "      <th>Body mass index</th>\n",
              "      <th>Absenteeism time in hours</th>\n",
              "    </tr>\n",
              "  </thead>\n",
              "  <tbody>\n",
              "    <tr>\n",
              "      <th>0</th>\n",
              "      <td>0</td>\n",
              "      <td>0</td>\n",
              "      <td>0</td>\n",
              "      <td>1</td>\n",
              "      <td>7</td>\n",
              "      <td>3</td>\n",
              "      <td>1</td>\n",
              "      <td>289</td>\n",
              "      <td>36</td>\n",
              "      <td>13</td>\n",
              "      <td>33</td>\n",
              "      <td>239.554</td>\n",
              "      <td>97</td>\n",
              "      <td>0</td>\n",
              "      <td>0</td>\n",
              "      <td>2</td>\n",
              "      <td>1</td>\n",
              "      <td>0</td>\n",
              "      <td>1</td>\n",
              "      <td>90</td>\n",
              "      <td>172</td>\n",
              "      <td>30</td>\n",
              "      <td>4</td>\n",
              "    </tr>\n",
              "    <tr>\n",
              "      <th>1</th>\n",
              "      <td>0</td>\n",
              "      <td>0</td>\n",
              "      <td>0</td>\n",
              "      <td>0</td>\n",
              "      <td>7</td>\n",
              "      <td>3</td>\n",
              "      <td>1</td>\n",
              "      <td>118</td>\n",
              "      <td>13</td>\n",
              "      <td>18</td>\n",
              "      <td>50</td>\n",
              "      <td>239.554</td>\n",
              "      <td>97</td>\n",
              "      <td>1</td>\n",
              "      <td>0</td>\n",
              "      <td>1</td>\n",
              "      <td>1</td>\n",
              "      <td>0</td>\n",
              "      <td>0</td>\n",
              "      <td>98</td>\n",
              "      <td>178</td>\n",
              "      <td>31</td>\n",
              "      <td>0</td>\n",
              "    </tr>\n",
              "    <tr>\n",
              "      <th>2</th>\n",
              "      <td>0</td>\n",
              "      <td>0</td>\n",
              "      <td>0</td>\n",
              "      <td>1</td>\n",
              "      <td>7</td>\n",
              "      <td>4</td>\n",
              "      <td>1</td>\n",
              "      <td>179</td>\n",
              "      <td>51</td>\n",
              "      <td>18</td>\n",
              "      <td>38</td>\n",
              "      <td>239.554</td>\n",
              "      <td>97</td>\n",
              "      <td>0</td>\n",
              "      <td>0</td>\n",
              "      <td>0</td>\n",
              "      <td>1</td>\n",
              "      <td>0</td>\n",
              "      <td>0</td>\n",
              "      <td>89</td>\n",
              "      <td>170</td>\n",
              "      <td>31</td>\n",
              "      <td>2</td>\n",
              "    </tr>\n",
              "    <tr>\n",
              "      <th>3</th>\n",
              "      <td>1</td>\n",
              "      <td>0</td>\n",
              "      <td>0</td>\n",
              "      <td>0</td>\n",
              "      <td>7</td>\n",
              "      <td>5</td>\n",
              "      <td>1</td>\n",
              "      <td>279</td>\n",
              "      <td>5</td>\n",
              "      <td>14</td>\n",
              "      <td>39</td>\n",
              "      <td>239.554</td>\n",
              "      <td>97</td>\n",
              "      <td>0</td>\n",
              "      <td>0</td>\n",
              "      <td>2</td>\n",
              "      <td>1</td>\n",
              "      <td>1</td>\n",
              "      <td>0</td>\n",
              "      <td>68</td>\n",
              "      <td>168</td>\n",
              "      <td>24</td>\n",
              "      <td>4</td>\n",
              "    </tr>\n",
              "    <tr>\n",
              "      <th>4</th>\n",
              "      <td>0</td>\n",
              "      <td>0</td>\n",
              "      <td>0</td>\n",
              "      <td>1</td>\n",
              "      <td>7</td>\n",
              "      <td>5</td>\n",
              "      <td>1</td>\n",
              "      <td>289</td>\n",
              "      <td>36</td>\n",
              "      <td>13</td>\n",
              "      <td>33</td>\n",
              "      <td>239.554</td>\n",
              "      <td>97</td>\n",
              "      <td>0</td>\n",
              "      <td>0</td>\n",
              "      <td>2</td>\n",
              "      <td>1</td>\n",
              "      <td>0</td>\n",
              "      <td>1</td>\n",
              "      <td>90</td>\n",
              "      <td>172</td>\n",
              "      <td>30</td>\n",
              "      <td>2</td>\n",
              "    </tr>\n",
              "  </tbody>\n",
              "</table>\n",
              "</div>"
            ],
            "text/plain": [
              "   Reason A  Reason B  Reason C  Reason D  Month of absence  Day of the week  \\\n",
              "0         0         0         0         1                 7                3   \n",
              "1         0         0         0         0                 7                3   \n",
              "2         0         0         0         1                 7                4   \n",
              "3         1         0         0         0                 7                5   \n",
              "4         0         0         0         1                 7                5   \n",
              "\n",
              "   Seasons  Transportation expense  Distance from Residence to Work  \\\n",
              "0        1                     289                               36   \n",
              "1        1                     118                               13   \n",
              "2        1                     179                               51   \n",
              "3        1                     279                                5   \n",
              "4        1                     289                               36   \n",
              "\n",
              "   Service time  Age  Work load Average/day   Hit target  \\\n",
              "0            13   33                 239.554          97   \n",
              "1            18   50                 239.554          97   \n",
              "2            18   38                 239.554          97   \n",
              "3            14   39                 239.554          97   \n",
              "4            13   33                 239.554          97   \n",
              "\n",
              "   Disciplinary failure  Education  Son  Social drinker  Social smoker  Pet  \\\n",
              "0                     0          0    2               1              0    1   \n",
              "1                     1          0    1               1              0    0   \n",
              "2                     0          0    0               1              0    0   \n",
              "3                     0          0    2               1              1    0   \n",
              "4                     0          0    2               1              0    1   \n",
              "\n",
              "   Weight  Height  Body mass index  Absenteeism time in hours  \n",
              "0      90     172               30                          4  \n",
              "1      98     178               31                          0  \n",
              "2      89     170               31                          2  \n",
              "3      68     168               24                          4  \n",
              "4      90     172               30                          2  "
            ]
          },
          "metadata": {
            "tags": []
          },
          "execution_count": 277
        }
      ]
    },
    {
      "cell_type": "markdown",
      "metadata": {
        "id": "EBRdBCHwC2CM",
        "colab_type": "text"
      },
      "source": [
        "# Data Cleaning"
      ]
    },
    {
      "cell_type": "code",
      "metadata": {
        "id": "95vDKxCAEFuO",
        "colab_type": "code",
        "colab": {
          "base_uri": "https://localhost:8080/",
          "height": 131
        },
        "outputId": "52a442d2-36c5-42b6-da93-8428fde9c607"
      },
      "source": [
        "df.columns"
      ],
      "execution_count": 278,
      "outputs": [
        {
          "output_type": "execute_result",
          "data": {
            "text/plain": [
              "Index(['Reason A', 'Reason B', 'Reason C', 'Reason D', 'Month of absence',\n",
              "       'Day of the week', 'Seasons', 'Transportation expense',\n",
              "       'Distance from Residence to Work', 'Service time', 'Age',\n",
              "       'Work load Average/day ', 'Hit target', 'Disciplinary failure',\n",
              "       'Education', 'Son', 'Social drinker', 'Social smoker', 'Pet', 'Weight',\n",
              "       'Height', 'Body mass index', 'Absenteeism time in hours'],\n",
              "      dtype='object')"
            ]
          },
          "metadata": {
            "tags": []
          },
          "execution_count": 278
        }
      ]
    },
    {
      "cell_type": "code",
      "metadata": {
        "id": "pI6UtWsXDGCo",
        "colab_type": "code",
        "colab": {}
      },
      "source": [
        "df = df.drop(['Work load Average/day ', 'Hit target', 'Social smoker'], axis = 1)"
      ],
      "execution_count": 279,
      "outputs": []
    },
    {
      "cell_type": "markdown",
      "metadata": {
        "id": "dhlS5oo7ohbg",
        "colab_type": "text"
      },
      "source": [
        "# Feature Engineering"
      ]
    },
    {
      "cell_type": "markdown",
      "metadata": {
        "id": "jGDguqMsPVbx",
        "colab_type": "text"
      },
      "source": [
        "### Check Target"
      ]
    },
    {
      "cell_type": "code",
      "metadata": {
        "id": "9XTEMtH5O7Mz",
        "colab_type": "code",
        "colab": {
          "base_uri": "https://localhost:8080/",
          "height": 33
        },
        "outputId": "7496a248-ad5e-46a6-a961-16e1a81e7703"
      },
      "source": [
        "df['Absenteeism time in hours'].median()"
      ],
      "execution_count": 280,
      "outputs": [
        {
          "output_type": "execute_result",
          "data": {
            "text/plain": [
              "3.0"
            ]
          },
          "metadata": {
            "tags": []
          },
          "execution_count": 280
        }
      ]
    },
    {
      "cell_type": "markdown",
      "metadata": {
        "id": "9-4EDxb4mIP7",
        "colab_type": "text"
      },
      "source": [
        "Let's divide Absenteeism into two classes\n",
        "\n",
        "- Moderately Absent [0] <= 3\n",
        "- Excessively Absent [1] > 3\n",
        "\n",
        "Because absenteeism for 2-3 hours not going to affect productivity.\n",
        "\n",
        "\n"
      ]
    },
    {
      "cell_type": "code",
      "metadata": {
        "id": "998GZJ2FmEdz",
        "colab_type": "code",
        "colab": {}
      },
      "source": [
        "df['Absenteeism time in hours'] = df['Absenteeism time in hours'].apply( lambda x: 1 if x > 3 else 0)"
      ],
      "execution_count": 281,
      "outputs": []
    },
    {
      "cell_type": "code",
      "metadata": {
        "id": "LKJL7aRInby2",
        "colab_type": "code",
        "colab": {
          "base_uri": "https://localhost:8080/",
          "height": 260
        },
        "outputId": "4760cc13-4b0f-4d24-daab-865014eda009"
      },
      "source": [
        "df.head()"
      ],
      "execution_count": 282,
      "outputs": [
        {
          "output_type": "execute_result",
          "data": {
            "text/html": [
              "<div>\n",
              "<style scoped>\n",
              "    .dataframe tbody tr th:only-of-type {\n",
              "        vertical-align: middle;\n",
              "    }\n",
              "\n",
              "    .dataframe tbody tr th {\n",
              "        vertical-align: top;\n",
              "    }\n",
              "\n",
              "    .dataframe thead th {\n",
              "        text-align: right;\n",
              "    }\n",
              "</style>\n",
              "<table border=\"1\" class=\"dataframe\">\n",
              "  <thead>\n",
              "    <tr style=\"text-align: right;\">\n",
              "      <th></th>\n",
              "      <th>Reason A</th>\n",
              "      <th>Reason B</th>\n",
              "      <th>Reason C</th>\n",
              "      <th>Reason D</th>\n",
              "      <th>Month of absence</th>\n",
              "      <th>Day of the week</th>\n",
              "      <th>Seasons</th>\n",
              "      <th>Transportation expense</th>\n",
              "      <th>Distance from Residence to Work</th>\n",
              "      <th>Service time</th>\n",
              "      <th>Age</th>\n",
              "      <th>Disciplinary failure</th>\n",
              "      <th>Education</th>\n",
              "      <th>Son</th>\n",
              "      <th>Social drinker</th>\n",
              "      <th>Pet</th>\n",
              "      <th>Weight</th>\n",
              "      <th>Height</th>\n",
              "      <th>Body mass index</th>\n",
              "      <th>Absenteeism time in hours</th>\n",
              "    </tr>\n",
              "  </thead>\n",
              "  <tbody>\n",
              "    <tr>\n",
              "      <th>0</th>\n",
              "      <td>0</td>\n",
              "      <td>0</td>\n",
              "      <td>0</td>\n",
              "      <td>1</td>\n",
              "      <td>7</td>\n",
              "      <td>3</td>\n",
              "      <td>1</td>\n",
              "      <td>289</td>\n",
              "      <td>36</td>\n",
              "      <td>13</td>\n",
              "      <td>33</td>\n",
              "      <td>0</td>\n",
              "      <td>0</td>\n",
              "      <td>2</td>\n",
              "      <td>1</td>\n",
              "      <td>1</td>\n",
              "      <td>90</td>\n",
              "      <td>172</td>\n",
              "      <td>30</td>\n",
              "      <td>1</td>\n",
              "    </tr>\n",
              "    <tr>\n",
              "      <th>1</th>\n",
              "      <td>0</td>\n",
              "      <td>0</td>\n",
              "      <td>0</td>\n",
              "      <td>0</td>\n",
              "      <td>7</td>\n",
              "      <td>3</td>\n",
              "      <td>1</td>\n",
              "      <td>118</td>\n",
              "      <td>13</td>\n",
              "      <td>18</td>\n",
              "      <td>50</td>\n",
              "      <td>1</td>\n",
              "      <td>0</td>\n",
              "      <td>1</td>\n",
              "      <td>1</td>\n",
              "      <td>0</td>\n",
              "      <td>98</td>\n",
              "      <td>178</td>\n",
              "      <td>31</td>\n",
              "      <td>0</td>\n",
              "    </tr>\n",
              "    <tr>\n",
              "      <th>2</th>\n",
              "      <td>0</td>\n",
              "      <td>0</td>\n",
              "      <td>0</td>\n",
              "      <td>1</td>\n",
              "      <td>7</td>\n",
              "      <td>4</td>\n",
              "      <td>1</td>\n",
              "      <td>179</td>\n",
              "      <td>51</td>\n",
              "      <td>18</td>\n",
              "      <td>38</td>\n",
              "      <td>0</td>\n",
              "      <td>0</td>\n",
              "      <td>0</td>\n",
              "      <td>1</td>\n",
              "      <td>0</td>\n",
              "      <td>89</td>\n",
              "      <td>170</td>\n",
              "      <td>31</td>\n",
              "      <td>0</td>\n",
              "    </tr>\n",
              "    <tr>\n",
              "      <th>3</th>\n",
              "      <td>1</td>\n",
              "      <td>0</td>\n",
              "      <td>0</td>\n",
              "      <td>0</td>\n",
              "      <td>7</td>\n",
              "      <td>5</td>\n",
              "      <td>1</td>\n",
              "      <td>279</td>\n",
              "      <td>5</td>\n",
              "      <td>14</td>\n",
              "      <td>39</td>\n",
              "      <td>0</td>\n",
              "      <td>0</td>\n",
              "      <td>2</td>\n",
              "      <td>1</td>\n",
              "      <td>0</td>\n",
              "      <td>68</td>\n",
              "      <td>168</td>\n",
              "      <td>24</td>\n",
              "      <td>1</td>\n",
              "    </tr>\n",
              "    <tr>\n",
              "      <th>4</th>\n",
              "      <td>0</td>\n",
              "      <td>0</td>\n",
              "      <td>0</td>\n",
              "      <td>1</td>\n",
              "      <td>7</td>\n",
              "      <td>5</td>\n",
              "      <td>1</td>\n",
              "      <td>289</td>\n",
              "      <td>36</td>\n",
              "      <td>13</td>\n",
              "      <td>33</td>\n",
              "      <td>0</td>\n",
              "      <td>0</td>\n",
              "      <td>2</td>\n",
              "      <td>1</td>\n",
              "      <td>1</td>\n",
              "      <td>90</td>\n",
              "      <td>172</td>\n",
              "      <td>30</td>\n",
              "      <td>0</td>\n",
              "    </tr>\n",
              "  </tbody>\n",
              "</table>\n",
              "</div>"
            ],
            "text/plain": [
              "   Reason A  Reason B  Reason C  Reason D  Month of absence  Day of the week  \\\n",
              "0         0         0         0         1                 7                3   \n",
              "1         0         0         0         0                 7                3   \n",
              "2         0         0         0         1                 7                4   \n",
              "3         1         0         0         0                 7                5   \n",
              "4         0         0         0         1                 7                5   \n",
              "\n",
              "   Seasons  Transportation expense  Distance from Residence to Work  \\\n",
              "0        1                     289                               36   \n",
              "1        1                     118                               13   \n",
              "2        1                     179                               51   \n",
              "3        1                     279                                5   \n",
              "4        1                     289                               36   \n",
              "\n",
              "   Service time  Age  Disciplinary failure  Education  Son  Social drinker  \\\n",
              "0            13   33                     0          0    2               1   \n",
              "1            18   50                     1          0    1               1   \n",
              "2            18   38                     0          0    0               1   \n",
              "3            14   39                     0          0    2               1   \n",
              "4            13   33                     0          0    2               1   \n",
              "\n",
              "   Pet  Weight  Height  Body mass index  Absenteeism time in hours  \n",
              "0    1      90     172               30                          1  \n",
              "1    0      98     178               31                          0  \n",
              "2    0      89     170               31                          0  \n",
              "3    0      68     168               24                          1  \n",
              "4    1      90     172               30                          0  "
            ]
          },
          "metadata": {
            "tags": []
          },
          "execution_count": 282
        }
      ]
    },
    {
      "cell_type": "markdown",
      "metadata": {
        "id": "TV77LIK7nlBU",
        "colab_type": "text"
      },
      "source": [
        "Check dataset is balanced or imbalanced"
      ]
    },
    {
      "cell_type": "code",
      "metadata": {
        "id": "3ugawMr4ndsi",
        "colab_type": "code",
        "colab": {}
      },
      "source": [
        "Moderately_Absent = df[df['Absenteeism time in hours'] == 0]\n",
        "Excessively_Absent = df[df['Absenteeism time in hours'] == 1]"
      ],
      "execution_count": 283,
      "outputs": []
    },
    {
      "cell_type": "code",
      "metadata": {
        "id": "Z94B73T3n26D",
        "colab_type": "code",
        "colab": {
          "base_uri": "https://localhost:8080/",
          "height": 66
        },
        "outputId": "3ec7c493-93c9-4a7e-d235-2cc3bfdedbbf"
      },
      "source": [
        "print(f'Total Employee count = {len(df)}')\n",
        "print(f'Employees who Moderately Absent = {len(Moderately_Absent)/len(df)*100:.2f}%')\n",
        "print(f'Employees who Excessively Absent = {len(Excessively_Absent)/len(df)*100:.2f}%')"
      ],
      "execution_count": 284,
      "outputs": [
        {
          "output_type": "stream",
          "text": [
            "Total Employee count = 700\n",
            "Employees who Moderately Absent = 54.43%\n",
            "Employees who Excessively Absent = 45.57%\n"
          ],
          "name": "stdout"
        }
      ]
    },
    {
      "cell_type": "markdown",
      "metadata": {
        "id": "roFhhopXoPwU",
        "colab_type": "text"
      },
      "source": [
        "Dataset is Balanced"
      ]
    },
    {
      "cell_type": "markdown",
      "metadata": {
        "id": "6rVkwobjoTDZ",
        "colab_type": "text"
      },
      "source": [
        "### Define X&Y"
      ]
    },
    {
      "cell_type": "code",
      "metadata": {
        "id": "QFsLAegnoJKr",
        "colab_type": "code",
        "colab": {}
      },
      "source": [
        "X = df.iloc[:, :-1]#.values\n",
        "y = df.iloc[:, -1]#.values"
      ],
      "execution_count": 285,
      "outputs": []
    },
    {
      "cell_type": "markdown",
      "metadata": {
        "id": "9zYv8oMPR9P2",
        "colab_type": "text"
      },
      "source": [
        "# Feature Scaling"
      ]
    },
    {
      "cell_type": "markdown",
      "metadata": {
        "id": "A6o011I_SF7H",
        "colab_type": "text"
      },
      "source": [
        "### Omitting dummy variables\n",
        "\n",
        "Dummy variables hold the originally measured effect sizes. Normalizing or standardizing them will let us compromise on their interpret ability. IMO, if your objective is to interpret the feature, then scaling should not be done. Otherwise, for model selection purposes, you can attempt to scale the dummy variables."
      ]
    },
    {
      "cell_type": "code",
      "metadata": {
        "id": "qrwIvh_tTtod",
        "colab_type": "code",
        "colab": {}
      },
      "source": [
        "# standardize the inputs\n",
        "\n",
        "# standardization is one of the most common preprocessing tools\n",
        "# since data of different magnitude (scale) can be biased towards high values,\n",
        "# we want all inputs to be of similar magnitude\n",
        "# this is a peculiarity of machine learning in general - most (but not all) algorithms do badly with unscaled data\n",
        "\n",
        "# a very useful module we can use is StandardScaler \n",
        "# it has much more capabilities than the straightforward 'preprocessing' method\n",
        "from sklearn.preprocessing import StandardScaler\n",
        "\n",
        "\n",
        "# we will create a variable that will contain the scaling information for this particular dataset\n",
        "# here's the full documentation: http://scikit-learn.org/stable/modules/generated/sklearn.preprocessing.StandardScaler.html\n",
        "\n",
        "# define scaler as an object\n",
        "scaler_X = StandardScaler()"
      ],
      "execution_count": 286,
      "outputs": []
    },
    {
      "cell_type": "code",
      "metadata": {
        "id": "UhQlTdml_Dn3",
        "colab_type": "code",
        "colab": {}
      },
      "source": [
        "# import the libraries needed to create the Custom Scaler\n",
        "# note that all of them are a part of the sklearn package\n",
        "# moreover, one of them is actually the StandardScaler module, \n",
        "# so you can imagine that the Custom Scaler is build on it\n",
        "\n",
        "from sklearn.base import BaseEstimator, TransformerMixin\n",
        "from sklearn.preprocessing import StandardScaler\n",
        "\n",
        "class CustomScaler(BaseEstimator,TransformerMixin): \n",
        "    \n",
        "    # init or what information we need to declare a CustomScaler object\n",
        "    # and what is calculated/declared as we do\n",
        "    \n",
        "    def __init__(self,columns,copy=True,with_mean=True,with_std=True):\n",
        "        \n",
        "        # scaler is nothing but a Standard Scaler object\n",
        "        self.scaler = StandardScaler(copy,with_mean,with_std)\n",
        "        # with some columns 'twist'\n",
        "        self.columns = columns\n",
        "        self.mean_ = None\n",
        "        self.var_ = None\n",
        "        \n",
        "    \n",
        "    # the fit method, which, again based on StandardScale\n",
        "    \n",
        "    def fit(self, X, y=None):\n",
        "        self.scaler.fit(X[self.columns], y)\n",
        "        self.mean_ = np.mean(X[self.columns])\n",
        "        self.var_ = np.var(X[self.columns])\n",
        "        return self\n",
        "    \n",
        "    # the transform method which does the actual scaling\n",
        "\n",
        "    def transform(self, X, y=None, copy=None):\n",
        "        \n",
        "        # record the initial order of the columns\n",
        "        init_col_order = X.columns\n",
        "        \n",
        "        # scale all features that you chose when creating the instance of the class\n",
        "        X_scaled = pd.DataFrame(self.scaler.transform(X[self.columns]), columns=self.columns)\n",
        "        \n",
        "        # declare a variable containing all information that was not scaled\n",
        "        X_not_scaled = X.loc[:,~X.columns.isin(self.columns)]\n",
        "        \n",
        "        # return a data frame which contains all scaled features and all 'not scaled' features\n",
        "        # use the original order (that you recorded in the beginning)\n",
        "        return pd.concat([X_not_scaled, X_scaled], axis=1)[init_col_order]"
      ],
      "execution_count": 287,
      "outputs": []
    },
    {
      "cell_type": "code",
      "metadata": {
        "id": "wlvp8jBf_DlM",
        "colab_type": "code",
        "colab": {
          "base_uri": "https://localhost:8080/",
          "height": 98
        },
        "outputId": "73808b84-c98d-419e-c99c-b95cdf02eaa1"
      },
      "source": [
        "# check what are all columns that we've got\n",
        "X.columns.values"
      ],
      "execution_count": 288,
      "outputs": [
        {
          "output_type": "execute_result",
          "data": {
            "text/plain": [
              "array(['Reason A', 'Reason B', 'Reason C', 'Reason D', 'Month of absence',\n",
              "       'Day of the week', 'Seasons', 'Transportation expense',\n",
              "       'Distance from Residence to Work', 'Service time', 'Age',\n",
              "       'Disciplinary failure', 'Education', 'Son', 'Social drinker',\n",
              "       'Pet', 'Weight', 'Height', 'Body mass index'], dtype=object)"
            ]
          },
          "metadata": {
            "tags": []
          },
          "execution_count": 288
        }
      ]
    },
    {
      "cell_type": "code",
      "metadata": {
        "id": "wikOh3zF_DjN",
        "colab_type": "code",
        "colab": {}
      },
      "source": [
        "# choose the columns to scale\n",
        "# we later augmented this code and put it in comments\n",
        "# columns_to_scale = ['Month of absence', 'Day of the week', 'Seasons', 'Transportation expense', 'Distance from Residence to Work', 'Service time', 'Age',\n",
        "       #'Work load Average/day ', 'Hit target', 'Son', 'Pet', 'Weight', 'Height', 'Body mass index']\n",
        "    \n",
        "# select the columns to omit\n",
        "columns_to_omit = ['Reason A', 'Reason B', 'Reason C', 'Reason D', 'Disciplinary failure',\n",
        "       'Education', 'Social drinker']"
      ],
      "execution_count": 289,
      "outputs": []
    },
    {
      "cell_type": "code",
      "metadata": {
        "id": "OLO0oKrD_DhD",
        "colab_type": "code",
        "colab": {}
      },
      "source": [
        "# create the columns to scale, based on the columns to omit\n",
        "# use list comprehension to iterate over the list\n",
        "columns_to_scale = [x for x in X.columns.values if x not in columns_to_omit]"
      ],
      "execution_count": 290,
      "outputs": []
    },
    {
      "cell_type": "code",
      "metadata": {
        "id": "kycMKGmA_De3",
        "colab_type": "code",
        "colab": {}
      },
      "source": [
        "# declare a scaler object, specifying the columns you want to scale\n",
        "scaler_X = CustomScaler(columns_to_scale)"
      ],
      "execution_count": 291,
      "outputs": []
    },
    {
      "cell_type": "code",
      "metadata": {
        "id": "93YcFUeP_Dc0",
        "colab_type": "code",
        "colab": {
          "base_uri": "https://localhost:8080/",
          "height": 151
        },
        "outputId": "acef0970-cf8a-4d95-b1f4-d2eb4c3f7472"
      },
      "source": [
        "# fit the data (calculate mean and standard deviation); they are automatically stored inside the object \n",
        "scaler_X.fit(X)"
      ],
      "execution_count": 292,
      "outputs": [
        {
          "output_type": "stream",
          "text": [
            "/usr/local/lib/python3.6/dist-packages/sklearn/base.py:197: FutureWarning: From version 0.24, get_params will raise an AttributeError if a parameter cannot be retrieved as an instance attribute. Previously it would return None.\n",
            "  FutureWarning)\n"
          ],
          "name": "stderr"
        },
        {
          "output_type": "execute_result",
          "data": {
            "text/plain": [
              "CustomScaler(columns=['Month of absence', 'Day of the week', 'Seasons',\n",
              "                      'Transportation expense',\n",
              "                      'Distance from Residence to Work', 'Service time', 'Age',\n",
              "                      'Son', 'Pet', 'Weight', 'Height', 'Body mass index'],\n",
              "             copy=None, with_mean=None, with_std=None)"
            ]
          },
          "metadata": {
            "tags": []
          },
          "execution_count": 292
        }
      ]
    },
    {
      "cell_type": "markdown",
      "metadata": {
        "id": "Y99HKWlbT1X8",
        "colab_type": "text"
      },
      "source": [
        "### Standardization"
      ]
    },
    {
      "cell_type": "code",
      "metadata": {
        "id": "DbAzgWZj_Dab",
        "colab_type": "code",
        "colab": {}
      },
      "source": [
        "# standardizes the data, using the transform method \n",
        "# in the last line, we fitted the data - in other words\n",
        "# we found the internal parameters of a model that will be used to transform data. \n",
        "# transforming applies these parameters to our data\n",
        "# note that when you get new data, you can just call 'scaler' again and transform it in the same way as now\n",
        "X = scaler_X.transform(X)"
      ],
      "execution_count": 293,
      "outputs": []
    },
    {
      "cell_type": "code",
      "metadata": {
        "id": "0RIT8sE2_DWy",
        "colab_type": "code",
        "colab": {
          "base_uri": "https://localhost:8080/",
          "height": 403
        },
        "outputId": "def77083-d6dd-4e0f-995d-462c29f5ef7b"
      },
      "source": [
        "# the scaled_inputs are now an ndarray, because sklearn works with ndarrays\n",
        "X.head(10)"
      ],
      "execution_count": 294,
      "outputs": [
        {
          "output_type": "execute_result",
          "data": {
            "text/html": [
              "<div>\n",
              "<style scoped>\n",
              "    .dataframe tbody tr th:only-of-type {\n",
              "        vertical-align: middle;\n",
              "    }\n",
              "\n",
              "    .dataframe tbody tr th {\n",
              "        vertical-align: top;\n",
              "    }\n",
              "\n",
              "    .dataframe thead th {\n",
              "        text-align: right;\n",
              "    }\n",
              "</style>\n",
              "<table border=\"1\" class=\"dataframe\">\n",
              "  <thead>\n",
              "    <tr style=\"text-align: right;\">\n",
              "      <th></th>\n",
              "      <th>Reason A</th>\n",
              "      <th>Reason B</th>\n",
              "      <th>Reason C</th>\n",
              "      <th>Reason D</th>\n",
              "      <th>Month of absence</th>\n",
              "      <th>Day of the week</th>\n",
              "      <th>Seasons</th>\n",
              "      <th>Transportation expense</th>\n",
              "      <th>Distance from Residence to Work</th>\n",
              "      <th>Service time</th>\n",
              "      <th>Age</th>\n",
              "      <th>Disciplinary failure</th>\n",
              "      <th>Education</th>\n",
              "      <th>Son</th>\n",
              "      <th>Social drinker</th>\n",
              "      <th>Pet</th>\n",
              "      <th>Weight</th>\n",
              "      <th>Height</th>\n",
              "      <th>Body mass index</th>\n",
              "    </tr>\n",
              "  </thead>\n",
              "  <tbody>\n",
              "    <tr>\n",
              "      <th>0</th>\n",
              "      <td>0</td>\n",
              "      <td>0</td>\n",
              "      <td>0</td>\n",
              "      <td>1</td>\n",
              "      <td>0.182726</td>\n",
              "      <td>-0.640141</td>\n",
              "      <td>-1.417727</td>\n",
              "      <td>1.005844</td>\n",
              "      <td>0.412816</td>\n",
              "      <td>0.078981</td>\n",
              "      <td>-0.536062</td>\n",
              "      <td>0</td>\n",
              "      <td>0</td>\n",
              "      <td>0.880469</td>\n",
              "      <td>1</td>\n",
              "      <td>0.268487</td>\n",
              "      <td>0.847020</td>\n",
              "      <td>-0.006413</td>\n",
              "      <td>0.767431</td>\n",
              "    </tr>\n",
              "    <tr>\n",
              "      <th>1</th>\n",
              "      <td>0</td>\n",
              "      <td>0</td>\n",
              "      <td>0</td>\n",
              "      <td>0</td>\n",
              "      <td>0.182726</td>\n",
              "      <td>-0.640141</td>\n",
              "      <td>-1.417727</td>\n",
              "      <td>-1.574681</td>\n",
              "      <td>-1.141882</td>\n",
              "      <td>1.235604</td>\n",
              "      <td>2.130803</td>\n",
              "      <td>1</td>\n",
              "      <td>0</td>\n",
              "      <td>-0.019280</td>\n",
              "      <td>1</td>\n",
              "      <td>-0.589690</td>\n",
              "      <td>1.470975</td>\n",
              "      <td>0.991176</td>\n",
              "      <td>1.002633</td>\n",
              "    </tr>\n",
              "    <tr>\n",
              "      <th>2</th>\n",
              "      <td>0</td>\n",
              "      <td>0</td>\n",
              "      <td>0</td>\n",
              "      <td>1</td>\n",
              "      <td>0.182726</td>\n",
              "      <td>0.064417</td>\n",
              "      <td>-1.417727</td>\n",
              "      <td>-0.654143</td>\n",
              "      <td>1.426749</td>\n",
              "      <td>1.235604</td>\n",
              "      <td>0.248310</td>\n",
              "      <td>0</td>\n",
              "      <td>0</td>\n",
              "      <td>-0.919030</td>\n",
              "      <td>1</td>\n",
              "      <td>-0.589690</td>\n",
              "      <td>0.769025</td>\n",
              "      <td>-0.338943</td>\n",
              "      <td>1.002633</td>\n",
              "    </tr>\n",
              "    <tr>\n",
              "      <th>3</th>\n",
              "      <td>1</td>\n",
              "      <td>0</td>\n",
              "      <td>0</td>\n",
              "      <td>0</td>\n",
              "      <td>0.182726</td>\n",
              "      <td>0.768974</td>\n",
              "      <td>-1.417727</td>\n",
              "      <td>0.854936</td>\n",
              "      <td>-1.682647</td>\n",
              "      <td>0.310306</td>\n",
              "      <td>0.405184</td>\n",
              "      <td>0</td>\n",
              "      <td>0</td>\n",
              "      <td>0.880469</td>\n",
              "      <td>1</td>\n",
              "      <td>-0.589690</td>\n",
              "      <td>-0.868858</td>\n",
              "      <td>-0.671472</td>\n",
              "      <td>-0.643782</td>\n",
              "    </tr>\n",
              "    <tr>\n",
              "      <th>4</th>\n",
              "      <td>0</td>\n",
              "      <td>0</td>\n",
              "      <td>0</td>\n",
              "      <td>1</td>\n",
              "      <td>0.182726</td>\n",
              "      <td>0.768974</td>\n",
              "      <td>-1.417727</td>\n",
              "      <td>1.005844</td>\n",
              "      <td>0.412816</td>\n",
              "      <td>0.078981</td>\n",
              "      <td>-0.536062</td>\n",
              "      <td>0</td>\n",
              "      <td>0</td>\n",
              "      <td>0.880469</td>\n",
              "      <td>1</td>\n",
              "      <td>0.268487</td>\n",
              "      <td>0.847020</td>\n",
              "      <td>-0.006413</td>\n",
              "      <td>0.767431</td>\n",
              "    </tr>\n",
              "    <tr>\n",
              "      <th>5</th>\n",
              "      <td>0</td>\n",
              "      <td>0</td>\n",
              "      <td>0</td>\n",
              "      <td>1</td>\n",
              "      <td>0.182726</td>\n",
              "      <td>1.473532</td>\n",
              "      <td>-1.417727</td>\n",
              "      <td>-0.654143</td>\n",
              "      <td>1.426749</td>\n",
              "      <td>1.235604</td>\n",
              "      <td>0.248310</td>\n",
              "      <td>0</td>\n",
              "      <td>0</td>\n",
              "      <td>-0.919030</td>\n",
              "      <td>1</td>\n",
              "      <td>-0.589690</td>\n",
              "      <td>0.769025</td>\n",
              "      <td>-0.338943</td>\n",
              "      <td>1.002633</td>\n",
              "    </tr>\n",
              "    <tr>\n",
              "      <th>6</th>\n",
              "      <td>0</td>\n",
              "      <td>0</td>\n",
              "      <td>0</td>\n",
              "      <td>1</td>\n",
              "      <td>0.182726</td>\n",
              "      <td>1.473532</td>\n",
              "      <td>-1.417727</td>\n",
              "      <td>2.092381</td>\n",
              "      <td>1.494345</td>\n",
              "      <td>-2.234266</td>\n",
              "      <td>-1.320435</td>\n",
              "      <td>0</td>\n",
              "      <td>0</td>\n",
              "      <td>-0.019280</td>\n",
              "      <td>1</td>\n",
              "      <td>2.843016</td>\n",
              "      <td>0.067075</td>\n",
              "      <td>-0.006413</td>\n",
              "      <td>0.061825</td>\n",
              "    </tr>\n",
              "    <tr>\n",
              "      <th>7</th>\n",
              "      <td>0</td>\n",
              "      <td>0</td>\n",
              "      <td>0</td>\n",
              "      <td>1</td>\n",
              "      <td>0.182726</td>\n",
              "      <td>1.473532</td>\n",
              "      <td>-1.417727</td>\n",
              "      <td>0.568211</td>\n",
              "      <td>1.359154</td>\n",
              "      <td>-0.383668</td>\n",
              "      <td>-0.065439</td>\n",
              "      <td>0</td>\n",
              "      <td>0</td>\n",
              "      <td>2.679969</td>\n",
              "      <td>1</td>\n",
              "      <td>-0.589690</td>\n",
              "      <td>-1.102841</td>\n",
              "      <td>-0.671472</td>\n",
              "      <td>-0.878984</td>\n",
              "    </tr>\n",
              "    <tr>\n",
              "      <th>8</th>\n",
              "      <td>0</td>\n",
              "      <td>0</td>\n",
              "      <td>1</td>\n",
              "      <td>0</td>\n",
              "      <td>0.182726</td>\n",
              "      <td>-1.344699</td>\n",
              "      <td>-1.417727</td>\n",
              "      <td>-1.016322</td>\n",
              "      <td>-1.209478</td>\n",
              "      <td>0.310306</td>\n",
              "      <td>-0.379188</td>\n",
              "      <td>0</td>\n",
              "      <td>0</td>\n",
              "      <td>0.880469</td>\n",
              "      <td>1</td>\n",
              "      <td>-0.589690</td>\n",
              "      <td>1.236992</td>\n",
              "      <td>3.983943</td>\n",
              "      <td>-0.408580</td>\n",
              "    </tr>\n",
              "    <tr>\n",
              "      <th>9</th>\n",
              "      <td>0</td>\n",
              "      <td>0</td>\n",
              "      <td>0</td>\n",
              "      <td>1</td>\n",
              "      <td>0.182726</td>\n",
              "      <td>-1.344699</td>\n",
              "      <td>-1.417727</td>\n",
              "      <td>0.190942</td>\n",
              "      <td>-1.277074</td>\n",
              "      <td>0.310306</td>\n",
              "      <td>0.091435</td>\n",
              "      <td>0</td>\n",
              "      <td>1</td>\n",
              "      <td>-0.019280</td>\n",
              "      <td>0</td>\n",
              "      <td>0.268487</td>\n",
              "      <td>0.691031</td>\n",
              "      <td>-0.006413</td>\n",
              "      <td>0.532229</td>\n",
              "    </tr>\n",
              "  </tbody>\n",
              "</table>\n",
              "</div>"
            ],
            "text/plain": [
              "   Reason A  Reason B  Reason C  Reason D  Month of absence  Day of the week  \\\n",
              "0         0         0         0         1          0.182726        -0.640141   \n",
              "1         0         0         0         0          0.182726        -0.640141   \n",
              "2         0         0         0         1          0.182726         0.064417   \n",
              "3         1         0         0         0          0.182726         0.768974   \n",
              "4         0         0         0         1          0.182726         0.768974   \n",
              "5         0         0         0         1          0.182726         1.473532   \n",
              "6         0         0         0         1          0.182726         1.473532   \n",
              "7         0         0         0         1          0.182726         1.473532   \n",
              "8         0         0         1         0          0.182726        -1.344699   \n",
              "9         0         0         0         1          0.182726        -1.344699   \n",
              "\n",
              "    Seasons  Transportation expense  Distance from Residence to Work  \\\n",
              "0 -1.417727                1.005844                         0.412816   \n",
              "1 -1.417727               -1.574681                        -1.141882   \n",
              "2 -1.417727               -0.654143                         1.426749   \n",
              "3 -1.417727                0.854936                        -1.682647   \n",
              "4 -1.417727                1.005844                         0.412816   \n",
              "5 -1.417727               -0.654143                         1.426749   \n",
              "6 -1.417727                2.092381                         1.494345   \n",
              "7 -1.417727                0.568211                         1.359154   \n",
              "8 -1.417727               -1.016322                        -1.209478   \n",
              "9 -1.417727                0.190942                        -1.277074   \n",
              "\n",
              "   Service time       Age  Disciplinary failure  Education       Son  \\\n",
              "0      0.078981 -0.536062                     0          0  0.880469   \n",
              "1      1.235604  2.130803                     1          0 -0.019280   \n",
              "2      1.235604  0.248310                     0          0 -0.919030   \n",
              "3      0.310306  0.405184                     0          0  0.880469   \n",
              "4      0.078981 -0.536062                     0          0  0.880469   \n",
              "5      1.235604  0.248310                     0          0 -0.919030   \n",
              "6     -2.234266 -1.320435                     0          0 -0.019280   \n",
              "7     -0.383668 -0.065439                     0          0  2.679969   \n",
              "8      0.310306 -0.379188                     0          0  0.880469   \n",
              "9      0.310306  0.091435                     0          1 -0.019280   \n",
              "\n",
              "   Social drinker       Pet    Weight    Height  Body mass index  \n",
              "0               1  0.268487  0.847020 -0.006413         0.767431  \n",
              "1               1 -0.589690  1.470975  0.991176         1.002633  \n",
              "2               1 -0.589690  0.769025 -0.338943         1.002633  \n",
              "3               1 -0.589690 -0.868858 -0.671472        -0.643782  \n",
              "4               1  0.268487  0.847020 -0.006413         0.767431  \n",
              "5               1 -0.589690  0.769025 -0.338943         1.002633  \n",
              "6               1  2.843016  0.067075 -0.006413         0.061825  \n",
              "7               1 -0.589690 -1.102841 -0.671472        -0.878984  \n",
              "8               1 -0.589690  1.236992  3.983943        -0.408580  \n",
              "9               0  0.268487  0.691031 -0.006413         0.532229  "
            ]
          },
          "metadata": {
            "tags": []
          },
          "execution_count": 294
        }
      ]
    },
    {
      "cell_type": "code",
      "metadata": {
        "id": "fWUf1H_8UXQb",
        "colab_type": "code",
        "colab": {
          "base_uri": "https://localhost:8080/",
          "height": 33
        },
        "outputId": "4e212a0f-d8cd-49ed-8735-846caaad3b0e"
      },
      "source": [
        "# check the shape of the inputs\n",
        "X.shape"
      ],
      "execution_count": 295,
      "outputs": [
        {
          "output_type": "execute_result",
          "data": {
            "text/plain": [
              "(700, 19)"
            ]
          },
          "metadata": {
            "tags": []
          },
          "execution_count": 295
        }
      ]
    },
    {
      "cell_type": "markdown",
      "metadata": {
        "id": "dgf7EK66O1uI",
        "colab_type": "text"
      },
      "source": [
        "# Feature Splitting\n",
        "\n",
        "Note:- \n",
        "\n",
        "Usually it is good to splitting first then standardize, to get parameters [mean & std dev] by fitting data from X_train.\n",
        "\n",
        "Why do we have to normalize data this way? Remember that we’ll use our data to train our model, so we’ll want our StandardScaler object to register and proceed with the Mean and Standard Deviation of our train set and transform our test group using it. Otherwise, we would be doing two different transformations, taking two different Means and two different Standard Deviations. Treating as different data that’s supposed to be the same."
      ]
    },
    {
      "cell_type": "code",
      "metadata": {
        "id": "aax3IBoTUX4G",
        "colab_type": "code",
        "colab": {}
      },
      "source": [
        "from sklearn.model_selection import train_test_split\n",
        "X_train, X_test, y_train, y_test = train_test_split( X, y , test_size = 0.2, random_state = 42)"
      ],
      "execution_count": 296,
      "outputs": []
    },
    {
      "cell_type": "code",
      "metadata": {
        "id": "AmgqC4vyUblf",
        "colab_type": "code",
        "colab": {
          "base_uri": "https://localhost:8080/",
          "height": 50
        },
        "outputId": "1d42116e-924c-4d84-8b15-38ac1a8c1470"
      },
      "source": [
        "print(X_train.shape, y_train.shape)\n",
        "print(X_test.shape, y_test.shape)"
      ],
      "execution_count": 297,
      "outputs": [
        {
          "output_type": "stream",
          "text": [
            "(560, 19) (560,)\n",
            "(140, 19) (140,)\n"
          ],
          "name": "stdout"
        }
      ]
    },
    {
      "cell_type": "markdown",
      "metadata": {
        "id": "dnFjIF0FqF6y",
        "colab_type": "text"
      },
      "source": [
        "# Model Training"
      ]
    },
    {
      "cell_type": "markdown",
      "metadata": {
        "id": "KZXDTgNyqTcC",
        "colab_type": "text"
      },
      "source": [
        "### Logistic Regression"
      ]
    },
    {
      "cell_type": "code",
      "metadata": {
        "id": "SPGvVG2fp_ik",
        "colab_type": "code",
        "colab": {
          "base_uri": "https://localhost:8080/",
          "height": 98
        },
        "outputId": "b6ae636d-4d90-4213-f115-f99fdf9ab0f9"
      },
      "source": [
        "from sklearn.linear_model import LogisticRegression\n",
        "classifier = LogisticRegression(random_state = 42)\n",
        "\n",
        "classifier.fit(X_train, y_train)"
      ],
      "execution_count": 298,
      "outputs": [
        {
          "output_type": "execute_result",
          "data": {
            "text/plain": [
              "LogisticRegression(C=1.0, class_weight=None, dual=False, fit_intercept=True,\n",
              "                   intercept_scaling=1, l1_ratio=None, max_iter=100,\n",
              "                   multi_class='auto', n_jobs=None, penalty='l2',\n",
              "                   random_state=42, solver='lbfgs', tol=0.0001, verbose=0,\n",
              "                   warm_start=False)"
            ]
          },
          "metadata": {
            "tags": []
          },
          "execution_count": 298
        }
      ]
    },
    {
      "cell_type": "markdown",
      "metadata": {
        "id": "LLWt5nz9qvB5",
        "colab_type": "text"
      },
      "source": [
        "# Model Prediction"
      ]
    },
    {
      "cell_type": "code",
      "metadata": {
        "id": "G-V-3pG5qoFg",
        "colab_type": "code",
        "colab": {}
      },
      "source": [
        "y_train_pred = classifier.predict(X_train)"
      ],
      "execution_count": 299,
      "outputs": []
    },
    {
      "cell_type": "markdown",
      "metadata": {
        "id": "CFUC-xFSrmkr",
        "colab_type": "text"
      },
      "source": [
        "# Training Metrices"
      ]
    },
    {
      "cell_type": "markdown",
      "metadata": {
        "id": "aHDiaZnpyqpr",
        "colab_type": "text"
      },
      "source": [
        "### Accuracy"
      ]
    },
    {
      "cell_type": "code",
      "metadata": {
        "id": "K5870YFFyqGD",
        "colab_type": "code",
        "colab": {
          "base_uri": "https://localhost:8080/",
          "height": 33
        },
        "outputId": "93e458a7-60e3-46b9-bbf1-056c4912a354"
      },
      "source": [
        "from sklearn.metrics import accuracy_score\n",
        "acc = accuracy_score(y_train, y_train_pred)\n",
        "\n",
        "print(f'accuracy : {acc:.2f}%')"
      ],
      "execution_count": 300,
      "outputs": [
        {
          "output_type": "stream",
          "text": [
            "accuracy : 0.79%\n"
          ],
          "name": "stdout"
        }
      ]
    },
    {
      "cell_type": "markdown",
      "metadata": {
        "id": "Biv7yONY7Vzz",
        "colab_type": "text"
      },
      "source": [
        "Yay! Training Accuracy increases by 1%"
      ]
    },
    {
      "cell_type": "markdown",
      "metadata": {
        "id": "HYJvl8Baws__",
        "colab_type": "text"
      },
      "source": [
        "### Confusion Matrix ###"
      ]
    },
    {
      "cell_type": "code",
      "metadata": {
        "id": "eXvr8YoSq9co",
        "colab_type": "code",
        "colab": {
          "base_uri": "https://localhost:8080/",
          "height": 297
        },
        "outputId": "4ac69985-e20b-4797-e8e4-3b47156a665b"
      },
      "source": [
        "from sklearn.metrics import confusion_matrix\n",
        "cm = confusion_matrix(y_train, y_train_pred)\n",
        "print(cm)\n",
        "\n",
        "sns.heatmap(cm, annot=True)\n",
        "plt.show()"
      ],
      "execution_count": 301,
      "outputs": [
        {
          "output_type": "stream",
          "text": [
            "[[240  59]\n",
            " [ 60 201]]\n"
          ],
          "name": "stdout"
        },
        {
          "output_type": "display_data",
          "data": {
            "image/png": "[encoded data removed]",
            "text/plain": [
              "<Figure size 432x288 with 2 Axes>"
            ]
          },
          "metadata": {
            "tags": [],
            "needs_background": "light"
          }
        }
      ]
    },
    {
      "cell_type": "markdown",
      "metadata": {
        "id": "xHhSJNHjzfiP",
        "colab_type": "text"
      },
      "source": [
        "### Classification report ###\n"
      ]
    },
    {
      "cell_type": "code",
      "metadata": {
        "id": "wEObItDWzZtd",
        "colab_type": "code",
        "colab": {
          "base_uri": "https://localhost:8080/",
          "height": 163
        },
        "outputId": "4eff45f7-f5a2-48a4-a181-e88fc1ed5eca"
      },
      "source": [
        "from sklearn.metrics import classification_report\n",
        "print(classification_report(y_train, y_train_pred))"
      ],
      "execution_count": 302,
      "outputs": [
        {
          "output_type": "stream",
          "text": [
            "              precision    recall  f1-score   support\n",
            "\n",
            "           0       0.80      0.80      0.80       299\n",
            "           1       0.77      0.77      0.77       261\n",
            "\n",
            "    accuracy                           0.79       560\n",
            "   macro avg       0.79      0.79      0.79       560\n",
            "weighted avg       0.79      0.79      0.79       560\n",
            "\n"
          ],
          "name": "stdout"
        }
      ]
    },
    {
      "cell_type": "markdown",
      "metadata": {
        "id": "neEgYge-0JPC",
        "colab_type": "text"
      },
      "source": [
        "# Coefficients & Intercept\n",
        "\n",
        "Getting the final logistic regression equation with the values of the coefficients"
      ]
    },
    {
      "cell_type": "code",
      "metadata": {
        "id": "7hzLc7Hl0FLN",
        "colab_type": "code",
        "colab": {
          "base_uri": "https://localhost:8080/",
          "height": 98
        },
        "outputId": "b7ad0224-9e35-446f-d38c-fa349ed32ce8"
      },
      "source": [
        "print(classifier.coef_)\n",
        "print(classifier.intercept_)"
      ],
      "execution_count": 303,
      "outputs": [
        {
          "output_type": "stream",
          "text": [
            "[[ 1.55940333  0.15877178  1.71662913 -0.51179617  0.17119422 -0.17948885\n",
            "  -0.20797058  0.70171782 -0.1569399  -0.09723228 -0.24260862 -2.92332848\n",
            "  -0.12371552  0.41313906  0.5883784  -0.28834345  0.58672819 -0.19399134\n",
            "  -0.28718125]]\n",
            "[-0.57118321]\n"
          ],
          "name": "stdout"
        }
      ]
    },
    {
      "cell_type": "code",
      "metadata": {
        "id": "2H7I7cW2D2RK",
        "colab_type": "code",
        "colab": {
          "base_uri": "https://localhost:8080/",
          "height": 98
        },
        "outputId": "6d204634-d426-4c61-db4a-e5223336da32"
      },
      "source": [
        "df.iloc[:, :-1].columns.values"
      ],
      "execution_count": 304,
      "outputs": [
        {
          "output_type": "execute_result",
          "data": {
            "text/plain": [
              "array(['Reason A', 'Reason B', 'Reason C', 'Reason D', 'Month of absence',\n",
              "       'Day of the week', 'Seasons', 'Transportation expense',\n",
              "       'Distance from Residence to Work', 'Service time', 'Age',\n",
              "       'Disciplinary failure', 'Education', 'Son', 'Social drinker',\n",
              "       'Pet', 'Weight', 'Height', 'Body mass index'], dtype=object)"
            ]
          },
          "metadata": {
            "tags": []
          },
          "execution_count": 304
        }
      ]
    },
    {
      "cell_type": "code",
      "metadata": {
        "id": "jqN_JHziBz_Z",
        "colab_type": "code",
        "colab": {}
      },
      "source": [
        "features = df.iloc[:, :-1].columns.values"
      ],
      "execution_count": 305,
      "outputs": []
    },
    {
      "cell_type": "code",
      "metadata": {
        "id": "drcjLpKQEfea",
        "colab_type": "code",
        "colab": {}
      },
      "source": [
        "summary = pd.DataFrame(features, columns = ['Features'])"
      ],
      "execution_count": 306,
      "outputs": []
    },
    {
      "cell_type": "code",
      "metadata": {
        "id": "S2Q2ODu-Ez4g",
        "colab_type": "code",
        "colab": {}
      },
      "source": [
        "summary['Coefficients'] = np.transpose(classifier.coef_)"
      ],
      "execution_count": 307,
      "outputs": []
    },
    {
      "cell_type": "code",
      "metadata": {
        "id": "_03pZZoUFIFM",
        "colab_type": "code",
        "colab": {
          "base_uri": "https://localhost:8080/",
          "height": 593
        },
        "outputId": "b48ed955-a3b6-448f-856c-db668821e73d"
      },
      "source": [
        "summary"
      ],
      "execution_count": 308,
      "outputs": [
        {
          "output_type": "execute_result",
          "data": {
            "text/html": [
              "<div>\n",
              "<style scoped>\n",
              "    .dataframe tbody tr th:only-of-type {\n",
              "        vertical-align: middle;\n",
              "    }\n",
              "\n",
              "    .dataframe tbody tr th {\n",
              "        vertical-align: top;\n",
              "    }\n",
              "\n",
              "    .dataframe thead th {\n",
              "        text-align: right;\n",
              "    }\n",
              "</style>\n",
              "<table border=\"1\" class=\"dataframe\">\n",
              "  <thead>\n",
              "    <tr style=\"text-align: right;\">\n",
              "      <th></th>\n",
              "      <th>Features</th>\n",
              "      <th>Coefficients</th>\n",
              "    </tr>\n",
              "  </thead>\n",
              "  <tbody>\n",
              "    <tr>\n",
              "      <th>0</th>\n",
              "      <td>Reason A</td>\n",
              "      <td>1.559403</td>\n",
              "    </tr>\n",
              "    <tr>\n",
              "      <th>1</th>\n",
              "      <td>Reason B</td>\n",
              "      <td>0.158772</td>\n",
              "    </tr>\n",
              "    <tr>\n",
              "      <th>2</th>\n",
              "      <td>Reason C</td>\n",
              "      <td>1.716629</td>\n",
              "    </tr>\n",
              "    <tr>\n",
              "      <th>3</th>\n",
              "      <td>Reason D</td>\n",
              "      <td>-0.511796</td>\n",
              "    </tr>\n",
              "    <tr>\n",
              "      <th>4</th>\n",
              "      <td>Month of absence</td>\n",
              "      <td>0.171194</td>\n",
              "    </tr>\n",
              "    <tr>\n",
              "      <th>5</th>\n",
              "      <td>Day of the week</td>\n",
              "      <td>-0.179489</td>\n",
              "    </tr>\n",
              "    <tr>\n",
              "      <th>6</th>\n",
              "      <td>Seasons</td>\n",
              "      <td>-0.207971</td>\n",
              "    </tr>\n",
              "    <tr>\n",
              "      <th>7</th>\n",
              "      <td>Transportation expense</td>\n",
              "      <td>0.701718</td>\n",
              "    </tr>\n",
              "    <tr>\n",
              "      <th>8</th>\n",
              "      <td>Distance from Residence to Work</td>\n",
              "      <td>-0.156940</td>\n",
              "    </tr>\n",
              "    <tr>\n",
              "      <th>9</th>\n",
              "      <td>Service time</td>\n",
              "      <td>-0.097232</td>\n",
              "    </tr>\n",
              "    <tr>\n",
              "      <th>10</th>\n",
              "      <td>Age</td>\n",
              "      <td>-0.242609</td>\n",
              "    </tr>\n",
              "    <tr>\n",
              "      <th>11</th>\n",
              "      <td>Disciplinary failure</td>\n",
              "      <td>-2.923328</td>\n",
              "    </tr>\n",
              "    <tr>\n",
              "      <th>12</th>\n",
              "      <td>Education</td>\n",
              "      <td>-0.123716</td>\n",
              "    </tr>\n",
              "    <tr>\n",
              "      <th>13</th>\n",
              "      <td>Son</td>\n",
              "      <td>0.413139</td>\n",
              "    </tr>\n",
              "    <tr>\n",
              "      <th>14</th>\n",
              "      <td>Social drinker</td>\n",
              "      <td>0.588378</td>\n",
              "    </tr>\n",
              "    <tr>\n",
              "      <th>15</th>\n",
              "      <td>Pet</td>\n",
              "      <td>-0.288343</td>\n",
              "    </tr>\n",
              "    <tr>\n",
              "      <th>16</th>\n",
              "      <td>Weight</td>\n",
              "      <td>0.586728</td>\n",
              "    </tr>\n",
              "    <tr>\n",
              "      <th>17</th>\n",
              "      <td>Height</td>\n",
              "      <td>-0.193991</td>\n",
              "    </tr>\n",
              "    <tr>\n",
              "      <th>18</th>\n",
              "      <td>Body mass index</td>\n",
              "      <td>-0.287181</td>\n",
              "    </tr>\n",
              "  </tbody>\n",
              "</table>\n",
              "</div>"
            ],
            "text/plain": [
              "                           Features  Coefficients\n",
              "0                          Reason A      1.559403\n",
              "1                          Reason B      0.158772\n",
              "2                          Reason C      1.716629\n",
              "3                          Reason D     -0.511796\n",
              "4                  Month of absence      0.171194\n",
              "5                   Day of the week     -0.179489\n",
              "6                           Seasons     -0.207971\n",
              "7            Transportation expense      0.701718\n",
              "8   Distance from Residence to Work     -0.156940\n",
              "9                      Service time     -0.097232\n",
              "10                              Age     -0.242609\n",
              "11             Disciplinary failure     -2.923328\n",
              "12                        Education     -0.123716\n",
              "13                              Son      0.413139\n",
              "14                   Social drinker      0.588378\n",
              "15                              Pet     -0.288343\n",
              "16                           Weight      0.586728\n",
              "17                           Height     -0.193991\n",
              "18                  Body mass index     -0.287181"
            ]
          },
          "metadata": {
            "tags": []
          },
          "execution_count": 308
        }
      ]
    },
    {
      "cell_type": "code",
      "metadata": {
        "id": "TNvtFpWmE0k6",
        "colab_type": "code",
        "colab": {}
      },
      "source": [
        "summary.index = summary.index + 1\n",
        "summary.loc[0] = ['Intercept', classifier.intercept_[0]]\n",
        "summary = summary.sort_index()"
      ],
      "execution_count": 309,
      "outputs": []
    },
    {
      "cell_type": "code",
      "metadata": {
        "id": "ayzlTIZEDt-l",
        "colab_type": "code",
        "colab": {
          "base_uri": "https://localhost:8080/",
          "height": 622
        },
        "outputId": "6c4fd468-3d5d-4200-bd6e-6a4a0679d2a7"
      },
      "source": [
        "summary"
      ],
      "execution_count": 310,
      "outputs": [
        {
          "output_type": "execute_result",
          "data": {
            "text/html": [
              "<div>\n",
              "<style scoped>\n",
              "    .dataframe tbody tr th:only-of-type {\n",
              "        vertical-align: middle;\n",
              "    }\n",
              "\n",
              "    .dataframe tbody tr th {\n",
              "        vertical-align: top;\n",
              "    }\n",
              "\n",
              "    .dataframe thead th {\n",
              "        text-align: right;\n",
              "    }\n",
              "</style>\n",
              "<table border=\"1\" class=\"dataframe\">\n",
              "  <thead>\n",
              "    <tr style=\"text-align: right;\">\n",
              "      <th></th>\n",
              "      <th>Features</th>\n",
              "      <th>Coefficients</th>\n",
              "    </tr>\n",
              "  </thead>\n",
              "  <tbody>\n",
              "    <tr>\n",
              "      <th>0</th>\n",
              "      <td>Intercept</td>\n",
              "      <td>-0.571183</td>\n",
              "    </tr>\n",
              "    <tr>\n",
              "      <th>1</th>\n",
              "      <td>Reason A</td>\n",
              "      <td>1.559403</td>\n",
              "    </tr>\n",
              "    <tr>\n",
              "      <th>2</th>\n",
              "      <td>Reason B</td>\n",
              "      <td>0.158772</td>\n",
              "    </tr>\n",
              "    <tr>\n",
              "      <th>3</th>\n",
              "      <td>Reason C</td>\n",
              "      <td>1.716629</td>\n",
              "    </tr>\n",
              "    <tr>\n",
              "      <th>4</th>\n",
              "      <td>Reason D</td>\n",
              "      <td>-0.511796</td>\n",
              "    </tr>\n",
              "    <tr>\n",
              "      <th>5</th>\n",
              "      <td>Month of absence</td>\n",
              "      <td>0.171194</td>\n",
              "    </tr>\n",
              "    <tr>\n",
              "      <th>6</th>\n",
              "      <td>Day of the week</td>\n",
              "      <td>-0.179489</td>\n",
              "    </tr>\n",
              "    <tr>\n",
              "      <th>7</th>\n",
              "      <td>Seasons</td>\n",
              "      <td>-0.207971</td>\n",
              "    </tr>\n",
              "    <tr>\n",
              "      <th>8</th>\n",
              "      <td>Transportation expense</td>\n",
              "      <td>0.701718</td>\n",
              "    </tr>\n",
              "    <tr>\n",
              "      <th>9</th>\n",
              "      <td>Distance from Residence to Work</td>\n",
              "      <td>-0.156940</td>\n",
              "    </tr>\n",
              "    <tr>\n",
              "      <th>10</th>\n",
              "      <td>Service time</td>\n",
              "      <td>-0.097232</td>\n",
              "    </tr>\n",
              "    <tr>\n",
              "      <th>11</th>\n",
              "      <td>Age</td>\n",
              "      <td>-0.242609</td>\n",
              "    </tr>\n",
              "    <tr>\n",
              "      <th>12</th>\n",
              "      <td>Disciplinary failure</td>\n",
              "      <td>-2.923328</td>\n",
              "    </tr>\n",
              "    <tr>\n",
              "      <th>13</th>\n",
              "      <td>Education</td>\n",
              "      <td>-0.123716</td>\n",
              "    </tr>\n",
              "    <tr>\n",
              "      <th>14</th>\n",
              "      <td>Son</td>\n",
              "      <td>0.413139</td>\n",
              "    </tr>\n",
              "    <tr>\n",
              "      <th>15</th>\n",
              "      <td>Social drinker</td>\n",
              "      <td>0.588378</td>\n",
              "    </tr>\n",
              "    <tr>\n",
              "      <th>16</th>\n",
              "      <td>Pet</td>\n",
              "      <td>-0.288343</td>\n",
              "    </tr>\n",
              "    <tr>\n",
              "      <th>17</th>\n",
              "      <td>Weight</td>\n",
              "      <td>0.586728</td>\n",
              "    </tr>\n",
              "    <tr>\n",
              "      <th>18</th>\n",
              "      <td>Height</td>\n",
              "      <td>-0.193991</td>\n",
              "    </tr>\n",
              "    <tr>\n",
              "      <th>19</th>\n",
              "      <td>Body mass index</td>\n",
              "      <td>-0.287181</td>\n",
              "    </tr>\n",
              "  </tbody>\n",
              "</table>\n",
              "</div>"
            ],
            "text/plain": [
              "                           Features  Coefficients\n",
              "0                         Intercept     -0.571183\n",
              "1                          Reason A      1.559403\n",
              "2                          Reason B      0.158772\n",
              "3                          Reason C      1.716629\n",
              "4                          Reason D     -0.511796\n",
              "5                  Month of absence      0.171194\n",
              "6                   Day of the week     -0.179489\n",
              "7                           Seasons     -0.207971\n",
              "8            Transportation expense      0.701718\n",
              "9   Distance from Residence to Work     -0.156940\n",
              "10                     Service time     -0.097232\n",
              "11                              Age     -0.242609\n",
              "12             Disciplinary failure     -2.923328\n",
              "13                        Education     -0.123716\n",
              "14                              Son      0.413139\n",
              "15                   Social drinker      0.588378\n",
              "16                              Pet     -0.288343\n",
              "17                           Weight      0.586728\n",
              "18                           Height     -0.193991\n",
              "19                  Body mass index     -0.287181"
            ]
          },
          "metadata": {
            "tags": []
          },
          "execution_count": 310
        }
      ]
    },
    {
      "cell_type": "markdown",
      "metadata": {
        "id": "AWpteLZxOvdq",
        "colab_type": "text"
      },
      "source": [
        "# Interpretation of Coefficients"
      ]
    },
    {
      "cell_type": "markdown",
      "metadata": {
        "id": "rSaZZv34JMdo",
        "colab_type": "text"
      },
      "source": [
        "For Logistic Regression,\n",
        "\n",
        "log(odds) = b0 + b1x1 + b2x2 +.........\n",
        "\n",
        "**Standard Coefficients** : the coefficients where all variables are standarsized\n",
        "\n",
        "Whichever weight is bigger, its corresponding feature is more important"
      ]
    },
    {
      "cell_type": "code",
      "metadata": {
        "id": "jah-MJoRDvGN",
        "colab_type": "code",
        "colab": {}
      },
      "source": [
        "summary['Odds Ratio'] = np.exp(summary.Coefficients)"
      ],
      "execution_count": 311,
      "outputs": []
    },
    {
      "cell_type": "code",
      "metadata": {
        "id": "IS5W1_gbCDa2",
        "colab_type": "code",
        "colab": {
          "base_uri": "https://localhost:8080/",
          "height": 622
        },
        "outputId": "a8269d5d-af9e-4b66-e65f-5597502b7a36"
      },
      "source": [
        "summary"
      ],
      "execution_count": 312,
      "outputs": [
        {
          "output_type": "execute_result",
          "data": {
            "text/html": [
              "<div>\n",
              "<style scoped>\n",
              "    .dataframe tbody tr th:only-of-type {\n",
              "        vertical-align: middle;\n",
              "    }\n",
              "\n",
              "    .dataframe tbody tr th {\n",
              "        vertical-align: top;\n",
              "    }\n",
              "\n",
              "    .dataframe thead th {\n",
              "        text-align: right;\n",
              "    }\n",
              "</style>\n",
              "<table border=\"1\" class=\"dataframe\">\n",
              "  <thead>\n",
              "    <tr style=\"text-align: right;\">\n",
              "      <th></th>\n",
              "      <th>Features</th>\n",
              "      <th>Coefficients</th>\n",
              "      <th>Odds Ratio</th>\n",
              "    </tr>\n",
              "  </thead>\n",
              "  <tbody>\n",
              "    <tr>\n",
              "      <th>0</th>\n",
              "      <td>Intercept</td>\n",
              "      <td>-0.571183</td>\n",
              "      <td>0.564857</td>\n",
              "    </tr>\n",
              "    <tr>\n",
              "      <th>1</th>\n",
              "      <td>Reason A</td>\n",
              "      <td>1.559403</td>\n",
              "      <td>4.755983</td>\n",
              "    </tr>\n",
              "    <tr>\n",
              "      <th>2</th>\n",
              "      <td>Reason B</td>\n",
              "      <td>0.158772</td>\n",
              "      <td>1.172070</td>\n",
              "    </tr>\n",
              "    <tr>\n",
              "      <th>3</th>\n",
              "      <td>Reason C</td>\n",
              "      <td>1.716629</td>\n",
              "      <td>5.565735</td>\n",
              "    </tr>\n",
              "    <tr>\n",
              "      <th>4</th>\n",
              "      <td>Reason D</td>\n",
              "      <td>-0.511796</td>\n",
              "      <td>0.599418</td>\n",
              "    </tr>\n",
              "    <tr>\n",
              "      <th>5</th>\n",
              "      <td>Month of absence</td>\n",
              "      <td>0.171194</td>\n",
              "      <td>1.186721</td>\n",
              "    </tr>\n",
              "    <tr>\n",
              "      <th>6</th>\n",
              "      <td>Day of the week</td>\n",
              "      <td>-0.179489</td>\n",
              "      <td>0.835697</td>\n",
              "    </tr>\n",
              "    <tr>\n",
              "      <th>7</th>\n",
              "      <td>Seasons</td>\n",
              "      <td>-0.207971</td>\n",
              "      <td>0.812231</td>\n",
              "    </tr>\n",
              "    <tr>\n",
              "      <th>8</th>\n",
              "      <td>Transportation expense</td>\n",
              "      <td>0.701718</td>\n",
              "      <td>2.017215</td>\n",
              "    </tr>\n",
              "    <tr>\n",
              "      <th>9</th>\n",
              "      <td>Distance from Residence to Work</td>\n",
              "      <td>-0.156940</td>\n",
              "      <td>0.854755</td>\n",
              "    </tr>\n",
              "    <tr>\n",
              "      <th>10</th>\n",
              "      <td>Service time</td>\n",
              "      <td>-0.097232</td>\n",
              "      <td>0.907345</td>\n",
              "    </tr>\n",
              "    <tr>\n",
              "      <th>11</th>\n",
              "      <td>Age</td>\n",
              "      <td>-0.242609</td>\n",
              "      <td>0.784579</td>\n",
              "    </tr>\n",
              "    <tr>\n",
              "      <th>12</th>\n",
              "      <td>Disciplinary failure</td>\n",
              "      <td>-2.923328</td>\n",
              "      <td>0.053754</td>\n",
              "    </tr>\n",
              "    <tr>\n",
              "      <th>13</th>\n",
              "      <td>Education</td>\n",
              "      <td>-0.123716</td>\n",
              "      <td>0.883631</td>\n",
              "    </tr>\n",
              "    <tr>\n",
              "      <th>14</th>\n",
              "      <td>Son</td>\n",
              "      <td>0.413139</td>\n",
              "      <td>1.511555</td>\n",
              "    </tr>\n",
              "    <tr>\n",
              "      <th>15</th>\n",
              "      <td>Social drinker</td>\n",
              "      <td>0.588378</td>\n",
              "      <td>1.801065</td>\n",
              "    </tr>\n",
              "    <tr>\n",
              "      <th>16</th>\n",
              "      <td>Pet</td>\n",
              "      <td>-0.288343</td>\n",
              "      <td>0.749504</td>\n",
              "    </tr>\n",
              "    <tr>\n",
              "      <th>17</th>\n",
              "      <td>Weight</td>\n",
              "      <td>0.586728</td>\n",
              "      <td>1.798096</td>\n",
              "    </tr>\n",
              "    <tr>\n",
              "      <th>18</th>\n",
              "      <td>Height</td>\n",
              "      <td>-0.193991</td>\n",
              "      <td>0.823665</td>\n",
              "    </tr>\n",
              "    <tr>\n",
              "      <th>19</th>\n",
              "      <td>Body mass index</td>\n",
              "      <td>-0.287181</td>\n",
              "      <td>0.750376</td>\n",
              "    </tr>\n",
              "  </tbody>\n",
              "</table>\n",
              "</div>"
            ],
            "text/plain": [
              "                           Features  Coefficients  Odds Ratio\n",
              "0                         Intercept     -0.571183    0.564857\n",
              "1                          Reason A      1.559403    4.755983\n",
              "2                          Reason B      0.158772    1.172070\n",
              "3                          Reason C      1.716629    5.565735\n",
              "4                          Reason D     -0.511796    0.599418\n",
              "5                  Month of absence      0.171194    1.186721\n",
              "6                   Day of the week     -0.179489    0.835697\n",
              "7                           Seasons     -0.207971    0.812231\n",
              "8            Transportation expense      0.701718    2.017215\n",
              "9   Distance from Residence to Work     -0.156940    0.854755\n",
              "10                     Service time     -0.097232    0.907345\n",
              "11                              Age     -0.242609    0.784579\n",
              "12             Disciplinary failure     -2.923328    0.053754\n",
              "13                        Education     -0.123716    0.883631\n",
              "14                              Son      0.413139    1.511555\n",
              "15                   Social drinker      0.588378    1.801065\n",
              "16                              Pet     -0.288343    0.749504\n",
              "17                           Weight      0.586728    1.798096\n",
              "18                           Height     -0.193991    0.823665\n",
              "19                  Body mass index     -0.287181    0.750376"
            ]
          },
          "metadata": {
            "tags": []
          },
          "execution_count": 312
        }
      ]
    },
    {
      "cell_type": "markdown",
      "metadata": {
        "id": "2k5Lv6oJ6zoK",
        "colab_type": "text"
      },
      "source": [
        "### By Odds Ratio"
      ]
    },
    {
      "cell_type": "code",
      "metadata": {
        "id": "aAjsfxpdKNs0",
        "colab_type": "code",
        "colab": {
          "base_uri": "https://localhost:8080/",
          "height": 622
        },
        "outputId": "9f12cc32-5a7a-4966-aa33-be9235eb2c8b"
      },
      "source": [
        "summary.sort_values(by=['Odds Ratio'], ascending = False, ignore_index = True)"
      ],
      "execution_count": 313,
      "outputs": [
        {
          "output_type": "execute_result",
          "data": {
            "text/html": [
              "<div>\n",
              "<style scoped>\n",
              "    .dataframe tbody tr th:only-of-type {\n",
              "        vertical-align: middle;\n",
              "    }\n",
              "\n",
              "    .dataframe tbody tr th {\n",
              "        vertical-align: top;\n",
              "    }\n",
              "\n",
              "    .dataframe thead th {\n",
              "        text-align: right;\n",
              "    }\n",
              "</style>\n",
              "<table border=\"1\" class=\"dataframe\">\n",
              "  <thead>\n",
              "    <tr style=\"text-align: right;\">\n",
              "      <th></th>\n",
              "      <th>Features</th>\n",
              "      <th>Coefficients</th>\n",
              "      <th>Odds Ratio</th>\n",
              "    </tr>\n",
              "  </thead>\n",
              "  <tbody>\n",
              "    <tr>\n",
              "      <th>0</th>\n",
              "      <td>Reason C</td>\n",
              "      <td>1.716629</td>\n",
              "      <td>5.565735</td>\n",
              "    </tr>\n",
              "    <tr>\n",
              "      <th>1</th>\n",
              "      <td>Reason A</td>\n",
              "      <td>1.559403</td>\n",
              "      <td>4.755983</td>\n",
              "    </tr>\n",
              "    <tr>\n",
              "      <th>2</th>\n",
              "      <td>Transportation expense</td>\n",
              "      <td>0.701718</td>\n",
              "      <td>2.017215</td>\n",
              "    </tr>\n",
              "    <tr>\n",
              "      <th>3</th>\n",
              "      <td>Social drinker</td>\n",
              "      <td>0.588378</td>\n",
              "      <td>1.801065</td>\n",
              "    </tr>\n",
              "    <tr>\n",
              "      <th>4</th>\n",
              "      <td>Weight</td>\n",
              "      <td>0.586728</td>\n",
              "      <td>1.798096</td>\n",
              "    </tr>\n",
              "    <tr>\n",
              "      <th>5</th>\n",
              "      <td>Son</td>\n",
              "      <td>0.413139</td>\n",
              "      <td>1.511555</td>\n",
              "    </tr>\n",
              "    <tr>\n",
              "      <th>6</th>\n",
              "      <td>Month of absence</td>\n",
              "      <td>0.171194</td>\n",
              "      <td>1.186721</td>\n",
              "    </tr>\n",
              "    <tr>\n",
              "      <th>7</th>\n",
              "      <td>Reason B</td>\n",
              "      <td>0.158772</td>\n",
              "      <td>1.172070</td>\n",
              "    </tr>\n",
              "    <tr>\n",
              "      <th>8</th>\n",
              "      <td>Service time</td>\n",
              "      <td>-0.097232</td>\n",
              "      <td>0.907345</td>\n",
              "    </tr>\n",
              "    <tr>\n",
              "      <th>9</th>\n",
              "      <td>Education</td>\n",
              "      <td>-0.123716</td>\n",
              "      <td>0.883631</td>\n",
              "    </tr>\n",
              "    <tr>\n",
              "      <th>10</th>\n",
              "      <td>Distance from Residence to Work</td>\n",
              "      <td>-0.156940</td>\n",
              "      <td>0.854755</td>\n",
              "    </tr>\n",
              "    <tr>\n",
              "      <th>11</th>\n",
              "      <td>Day of the week</td>\n",
              "      <td>-0.179489</td>\n",
              "      <td>0.835697</td>\n",
              "    </tr>\n",
              "    <tr>\n",
              "      <th>12</th>\n",
              "      <td>Height</td>\n",
              "      <td>-0.193991</td>\n",
              "      <td>0.823665</td>\n",
              "    </tr>\n",
              "    <tr>\n",
              "      <th>13</th>\n",
              "      <td>Seasons</td>\n",
              "      <td>-0.207971</td>\n",
              "      <td>0.812231</td>\n",
              "    </tr>\n",
              "    <tr>\n",
              "      <th>14</th>\n",
              "      <td>Age</td>\n",
              "      <td>-0.242609</td>\n",
              "      <td>0.784579</td>\n",
              "    </tr>\n",
              "    <tr>\n",
              "      <th>15</th>\n",
              "      <td>Body mass index</td>\n",
              "      <td>-0.287181</td>\n",
              "      <td>0.750376</td>\n",
              "    </tr>\n",
              "    <tr>\n",
              "      <th>16</th>\n",
              "      <td>Pet</td>\n",
              "      <td>-0.288343</td>\n",
              "      <td>0.749504</td>\n",
              "    </tr>\n",
              "    <tr>\n",
              "      <th>17</th>\n",
              "      <td>Reason D</td>\n",
              "      <td>-0.511796</td>\n",
              "      <td>0.599418</td>\n",
              "    </tr>\n",
              "    <tr>\n",
              "      <th>18</th>\n",
              "      <td>Intercept</td>\n",
              "      <td>-0.571183</td>\n",
              "      <td>0.564857</td>\n",
              "    </tr>\n",
              "    <tr>\n",
              "      <th>19</th>\n",
              "      <td>Disciplinary failure</td>\n",
              "      <td>-2.923328</td>\n",
              "      <td>0.053754</td>\n",
              "    </tr>\n",
              "  </tbody>\n",
              "</table>\n",
              "</div>"
            ],
            "text/plain": [
              "                           Features  Coefficients  Odds Ratio\n",
              "0                          Reason C      1.716629    5.565735\n",
              "1                          Reason A      1.559403    4.755983\n",
              "2            Transportation expense      0.701718    2.017215\n",
              "3                    Social drinker      0.588378    1.801065\n",
              "4                            Weight      0.586728    1.798096\n",
              "5                               Son      0.413139    1.511555\n",
              "6                  Month of absence      0.171194    1.186721\n",
              "7                          Reason B      0.158772    1.172070\n",
              "8                      Service time     -0.097232    0.907345\n",
              "9                         Education     -0.123716    0.883631\n",
              "10  Distance from Residence to Work     -0.156940    0.854755\n",
              "11                  Day of the week     -0.179489    0.835697\n",
              "12                           Height     -0.193991    0.823665\n",
              "13                          Seasons     -0.207971    0.812231\n",
              "14                              Age     -0.242609    0.784579\n",
              "15                  Body mass index     -0.287181    0.750376\n",
              "16                              Pet     -0.288343    0.749504\n",
              "17                         Reason D     -0.511796    0.599418\n",
              "18                        Intercept     -0.571183    0.564857\n",
              "19             Disciplinary failure     -2.923328    0.053754"
            ]
          },
          "metadata": {
            "tags": []
          },
          "execution_count": 313
        }
      ]
    },
    {
      "cell_type": "markdown",
      "metadata": {
        "id": "bUKrG5V768uP",
        "colab_type": "text"
      },
      "source": [
        "### By Coefficients"
      ]
    },
    {
      "cell_type": "code",
      "metadata": {
        "id": "KQXDgIVA5_GQ",
        "colab_type": "code",
        "colab": {
          "base_uri": "https://localhost:8080/",
          "height": 622
        },
        "outputId": "57b8ce4e-aa8e-4ab8-8e4c-b9ceaa8ae04a"
      },
      "source": [
        "summary.sort_values(by=['Coefficients'], ascending = False, ignore_index = True)"
      ],
      "execution_count": 314,
      "outputs": [
        {
          "output_type": "execute_result",
          "data": {
            "text/html": [
              "<div>\n",
              "<style scoped>\n",
              "    .dataframe tbody tr th:only-of-type {\n",
              "        vertical-align: middle;\n",
              "    }\n",
              "\n",
              "    .dataframe tbody tr th {\n",
              "        vertical-align: top;\n",
              "    }\n",
              "\n",
              "    .dataframe thead th {\n",
              "        text-align: right;\n",
              "    }\n",
              "</style>\n",
              "<table border=\"1\" class=\"dataframe\">\n",
              "  <thead>\n",
              "    <tr style=\"text-align: right;\">\n",
              "      <th></th>\n",
              "      <th>Features</th>\n",
              "      <th>Coefficients</th>\n",
              "      <th>Odds Ratio</th>\n",
              "    </tr>\n",
              "  </thead>\n",
              "  <tbody>\n",
              "    <tr>\n",
              "      <th>0</th>\n",
              "      <td>Reason C</td>\n",
              "      <td>1.716629</td>\n",
              "      <td>5.565735</td>\n",
              "    </tr>\n",
              "    <tr>\n",
              "      <th>1</th>\n",
              "      <td>Reason A</td>\n",
              "      <td>1.559403</td>\n",
              "      <td>4.755983</td>\n",
              "    </tr>\n",
              "    <tr>\n",
              "      <th>2</th>\n",
              "      <td>Transportation expense</td>\n",
              "      <td>0.701718</td>\n",
              "      <td>2.017215</td>\n",
              "    </tr>\n",
              "    <tr>\n",
              "      <th>3</th>\n",
              "      <td>Social drinker</td>\n",
              "      <td>0.588378</td>\n",
              "      <td>1.801065</td>\n",
              "    </tr>\n",
              "    <tr>\n",
              "      <th>4</th>\n",
              "      <td>Weight</td>\n",
              "      <td>0.586728</td>\n",
              "      <td>1.798096</td>\n",
              "    </tr>\n",
              "    <tr>\n",
              "      <th>5</th>\n",
              "      <td>Son</td>\n",
              "      <td>0.413139</td>\n",
              "      <td>1.511555</td>\n",
              "    </tr>\n",
              "    <tr>\n",
              "      <th>6</th>\n",
              "      <td>Month of absence</td>\n",
              "      <td>0.171194</td>\n",
              "      <td>1.186721</td>\n",
              "    </tr>\n",
              "    <tr>\n",
              "      <th>7</th>\n",
              "      <td>Reason B</td>\n",
              "      <td>0.158772</td>\n",
              "      <td>1.172070</td>\n",
              "    </tr>\n",
              "    <tr>\n",
              "      <th>8</th>\n",
              "      <td>Service time</td>\n",
              "      <td>-0.097232</td>\n",
              "      <td>0.907345</td>\n",
              "    </tr>\n",
              "    <tr>\n",
              "      <th>9</th>\n",
              "      <td>Education</td>\n",
              "      <td>-0.123716</td>\n",
              "      <td>0.883631</td>\n",
              "    </tr>\n",
              "    <tr>\n",
              "      <th>10</th>\n",
              "      <td>Distance from Residence to Work</td>\n",
              "      <td>-0.156940</td>\n",
              "      <td>0.854755</td>\n",
              "    </tr>\n",
              "    <tr>\n",
              "      <th>11</th>\n",
              "      <td>Day of the week</td>\n",
              "      <td>-0.179489</td>\n",
              "      <td>0.835697</td>\n",
              "    </tr>\n",
              "    <tr>\n",
              "      <th>12</th>\n",
              "      <td>Height</td>\n",
              "      <td>-0.193991</td>\n",
              "      <td>0.823665</td>\n",
              "    </tr>\n",
              "    <tr>\n",
              "      <th>13</th>\n",
              "      <td>Seasons</td>\n",
              "      <td>-0.207971</td>\n",
              "      <td>0.812231</td>\n",
              "    </tr>\n",
              "    <tr>\n",
              "      <th>14</th>\n",
              "      <td>Age</td>\n",
              "      <td>-0.242609</td>\n",
              "      <td>0.784579</td>\n",
              "    </tr>\n",
              "    <tr>\n",
              "      <th>15</th>\n",
              "      <td>Body mass index</td>\n",
              "      <td>-0.287181</td>\n",
              "      <td>0.750376</td>\n",
              "    </tr>\n",
              "    <tr>\n",
              "      <th>16</th>\n",
              "      <td>Pet</td>\n",
              "      <td>-0.288343</td>\n",
              "      <td>0.749504</td>\n",
              "    </tr>\n",
              "    <tr>\n",
              "      <th>17</th>\n",
              "      <td>Reason D</td>\n",
              "      <td>-0.511796</td>\n",
              "      <td>0.599418</td>\n",
              "    </tr>\n",
              "    <tr>\n",
              "      <th>18</th>\n",
              "      <td>Intercept</td>\n",
              "      <td>-0.571183</td>\n",
              "      <td>0.564857</td>\n",
              "    </tr>\n",
              "    <tr>\n",
              "      <th>19</th>\n",
              "      <td>Disciplinary failure</td>\n",
              "      <td>-2.923328</td>\n",
              "      <td>0.053754</td>\n",
              "    </tr>\n",
              "  </tbody>\n",
              "</table>\n",
              "</div>"
            ],
            "text/plain": [
              "                           Features  Coefficients  Odds Ratio\n",
              "0                          Reason C      1.716629    5.565735\n",
              "1                          Reason A      1.559403    4.755983\n",
              "2            Transportation expense      0.701718    2.017215\n",
              "3                    Social drinker      0.588378    1.801065\n",
              "4                            Weight      0.586728    1.798096\n",
              "5                               Son      0.413139    1.511555\n",
              "6                  Month of absence      0.171194    1.186721\n",
              "7                          Reason B      0.158772    1.172070\n",
              "8                      Service time     -0.097232    0.907345\n",
              "9                         Education     -0.123716    0.883631\n",
              "10  Distance from Residence to Work     -0.156940    0.854755\n",
              "11                  Day of the week     -0.179489    0.835697\n",
              "12                           Height     -0.193991    0.823665\n",
              "13                          Seasons     -0.207971    0.812231\n",
              "14                              Age     -0.242609    0.784579\n",
              "15                  Body mass index     -0.287181    0.750376\n",
              "16                              Pet     -0.288343    0.749504\n",
              "17                         Reason D     -0.511796    0.599418\n",
              "18                        Intercept     -0.571183    0.564857\n",
              "19             Disciplinary failure     -2.923328    0.053754"
            ]
          },
          "metadata": {
            "tags": []
          },
          "execution_count": 314
        }
      ]
    },
    {
      "cell_type": "markdown",
      "metadata": {
        "id": "D1o0muO8LC3k",
        "colab_type": "text"
      },
      "source": [
        "# Model Testing"
      ]
    },
    {
      "cell_type": "markdown",
      "metadata": {
        "id": "9jisEXm2LLUS",
        "colab_type": "text"
      },
      "source": [
        "### Predict Test data"
      ]
    },
    {
      "cell_type": "code",
      "metadata": {
        "id": "FgaiXS5nLCIC",
        "colab_type": "code",
        "colab": {}
      },
      "source": [
        "y_pred = classifier.predict(X_test)"
      ],
      "execution_count": 315,
      "outputs": []
    },
    {
      "cell_type": "code",
      "metadata": {
        "id": "-K-HU6HqissQ",
        "colab_type": "code",
        "colab": {
          "base_uri": "https://localhost:8080/",
          "height": 33
        },
        "outputId": "07096338-d138-4555-c476-7d6a18bc55ad"
      },
      "source": [
        "y_pred[:10]"
      ],
      "execution_count": 316,
      "outputs": [
        {
          "output_type": "execute_result",
          "data": {
            "text/plain": [
              "array([0, 0, 0, 0, 1, 1, 0, 1, 0, 0])"
            ]
          },
          "metadata": {
            "tags": []
          },
          "execution_count": 316
        }
      ]
    },
    {
      "cell_type": "code",
      "metadata": {
        "id": "pSpCwC6xiOKr",
        "colab_type": "code",
        "colab": {
          "base_uri": "https://localhost:8080/",
          "height": 33
        },
        "outputId": "ca969d6c-2603-4e38-a10d-af8f142dc1b3"
      },
      "source": [
        "y_pred.shape"
      ],
      "execution_count": 317,
      "outputs": [
        {
          "output_type": "execute_result",
          "data": {
            "text/plain": [
              "(140,)"
            ]
          },
          "metadata": {
            "tags": []
          },
          "execution_count": 317
        }
      ]
    },
    {
      "cell_type": "code",
      "metadata": {
        "id": "tk79-Z01h5W4",
        "colab_type": "code",
        "colab": {
          "base_uri": "https://localhost:8080/",
          "height": 180
        },
        "outputId": "cb23d115-f00f-4d13-c5dd-a643c4b5e4a0"
      },
      "source": [
        "# find the predicted probabilities of each class\n",
        "# the first column shows the probability of a particular observation to be 0, while the second one - to be 1\n",
        "predicted_proba = classifier.predict_proba(X_test)\n",
        "\n",
        "# let's check that out\n",
        "predicted_proba[:10]"
      ],
      "execution_count": 318,
      "outputs": [
        {
          "output_type": "execute_result",
          "data": {
            "text/plain": [
              "array([[0.71223799, 0.28776201],\n",
              "       [0.86424082, 0.13575918],\n",
              "       [0.82875741, 0.17124259],\n",
              "       [0.56120292, 0.43879708],\n",
              "       [0.47883466, 0.52116534],\n",
              "       [0.06029032, 0.93970968],\n",
              "       [0.71205486, 0.28794514],\n",
              "       [0.27185721, 0.72814279],\n",
              "       [0.90318307, 0.09681693],\n",
              "       [0.67127702, 0.32872298]])"
            ]
          },
          "metadata": {
            "tags": []
          },
          "execution_count": 318
        }
      ]
    },
    {
      "cell_type": "code",
      "metadata": {
        "id": "6LCn5P90inkP",
        "colab_type": "code",
        "colab": {
          "base_uri": "https://localhost:8080/",
          "height": 33
        },
        "outputId": "a8d3ddf9-c3fa-4af3-aa21-f40f64af9387"
      },
      "source": [
        "predicted_proba.shape"
      ],
      "execution_count": 319,
      "outputs": [
        {
          "output_type": "execute_result",
          "data": {
            "text/plain": [
              "(140, 2)"
            ]
          },
          "metadata": {
            "tags": []
          },
          "execution_count": 319
        }
      ]
    },
    {
      "cell_type": "markdown",
      "metadata": {
        "id": "_XKDUolfLU8v",
        "colab_type": "text"
      },
      "source": [
        "# Testing Metrices"
      ]
    },
    {
      "cell_type": "markdown",
      "metadata": {
        "id": "znD2b6ITLeIj",
        "colab_type": "text"
      },
      "source": [
        "### Accuracy"
      ]
    },
    {
      "cell_type": "code",
      "metadata": {
        "id": "KfG96E_dLSKX",
        "colab_type": "code",
        "colab": {
          "base_uri": "https://localhost:8080/",
          "height": 33
        },
        "outputId": "ec369d1d-9916-4984-ad4d-fe0e4a543f39"
      },
      "source": [
        "from sklearn.metrics import accuracy_score\n",
        "acc = accuracy_score(y_test, y_pred)\n",
        "\n",
        "print(f'accuracy : {acc:.2f}%')"
      ],
      "execution_count": 320,
      "outputs": [
        {
          "output_type": "stream",
          "text": [
            "accuracy : 0.76%\n"
          ],
          "name": "stdout"
        }
      ]
    },
    {
      "cell_type": "markdown",
      "metadata": {
        "id": "ZEIdlMx7LzKs",
        "colab_type": "text"
      },
      "source": [
        "### K-fold Cross Validation ###"
      ]
    },
    {
      "cell_type": "code",
      "metadata": {
        "id": "XZtBNscdLtVQ",
        "colab_type": "code",
        "colab": {
          "base_uri": "https://localhost:8080/",
          "height": 50
        },
        "outputId": "8bfaa464-f954-42ec-d8d9-6cd33ee75ef1"
      },
      "source": [
        "from sklearn.model_selection import cross_val_score\n",
        "accuracies = cross_val_score(estimator = classifier, X = X_train, y = y_train, cv = 10)\n",
        "print(\"Accuracy: {:.2f} %\".format(accuracies.mean()*100))\n",
        "print(\"Standard Deviation: {:.2f} %\".format(accuracies.std()*100))"
      ],
      "execution_count": 321,
      "outputs": [
        {
          "output_type": "stream",
          "text": [
            "Accuracy: 75.54 %\n",
            "Standard Deviation: 4.00 %\n"
          ],
          "name": "stdout"
        }
      ]
    },
    {
      "cell_type": "markdown",
      "metadata": {
        "id": "f4yNaBF0L6fG",
        "colab_type": "text"
      },
      "source": [
        "### Confusion Matrix"
      ]
    },
    {
      "cell_type": "code",
      "metadata": {
        "id": "_MwAY3lxLlxF",
        "colab_type": "code",
        "colab": {
          "base_uri": "https://localhost:8080/",
          "height": 265
        },
        "outputId": "43807338-6fac-40c3-fbc9-cf9f03fe1c45"
      },
      "source": [
        "from sklearn.metrics import confusion_matrix\n",
        "cm = confusion_matrix(y_test, y_pred)\n",
        "\n",
        "sns.heatmap(cm, annot=True)\n",
        "plt.show()"
      ],
      "execution_count": 322,
      "outputs": [
        {
          "output_type": "display_data",
          "data": {
            "image/png": "[encoded data removed]",
            "text/plain": [
              "<Figure size 432x288 with 2 Axes>"
            ]
          },
          "metadata": {
            "tags": [],
            "needs_background": "light"
          }
        }
      ]
    },
    {
      "cell_type": "markdown",
      "metadata": {
        "id": "jMWTa2cwL8zj",
        "colab_type": "text"
      },
      "source": [
        "### Classification Report"
      ]
    },
    {
      "cell_type": "code",
      "metadata": {
        "id": "S5x06B-lLl5R",
        "colab_type": "code",
        "colab": {
          "base_uri": "https://localhost:8080/",
          "height": 163
        },
        "outputId": "492ed980-60e3-4715-b734-d60c433c4faa"
      },
      "source": [
        "from sklearn.metrics import classification_report\n",
        "print(classification_report(y_test, y_pred))"
      ],
      "execution_count": 323,
      "outputs": [
        {
          "output_type": "stream",
          "text": [
            "              precision    recall  f1-score   support\n",
            "\n",
            "           0       0.81      0.77      0.79        82\n",
            "           1       0.69      0.74      0.72        58\n",
            "\n",
            "    accuracy                           0.76       140\n",
            "   macro avg       0.75      0.75      0.75       140\n",
            "weighted avg       0.76      0.76      0.76       140\n",
            "\n"
          ],
          "name": "stdout"
        }
      ]
    },
    {
      "cell_type": "markdown",
      "metadata": {
        "id": "aEfyfJsFMp5Q",
        "colab_type": "text"
      },
      "source": [
        "# Model Saving"
      ]
    },
    {
      "cell_type": "code",
      "metadata": {
        "id": "y9QuQtAfMpO-",
        "colab_type": "code",
        "colab": {}
      },
      "source": [
        "import pickle"
      ],
      "execution_count": 324,
      "outputs": []
    },
    {
      "cell_type": "code",
      "metadata": {
        "id": "FHv-6fhYMyB2",
        "colab_type": "code",
        "colab": {}
      },
      "source": [
        "with open(\"/content/drive/My Drive/Project/Absenteeism/model\", 'wb') as file:\n",
        "   pickle.dump(classifier, file)"
      ],
      "execution_count": 325,
      "outputs": []
    },
    {
      "cell_type": "code",
      "metadata": {
        "id": "YnU2jPwVOSYw",
        "colab_type": "code",
        "colab": {}
      },
      "source": [
        "with open(\"/content/drive/My Drive/Project/Absenteeism/scaler\", 'wb') as file:\n",
        "   pickle.dump(scaler_X, file)"
      ],
      "execution_count": 326,
      "outputs": []
    },
    {
      "cell_type": "code",
      "metadata": {
        "id": "p90mbS18wYWq",
        "colab_type": "code",
        "colab": {}
      },
      "source": [
        ""
      ],
      "execution_count": 326,
      "outputs": []
    }
  ]
}
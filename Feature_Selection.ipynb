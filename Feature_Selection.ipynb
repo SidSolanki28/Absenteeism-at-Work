{
  "nbformat": 4,
  "nbformat_minor": 0,
  "metadata": {
    "colab": {
      "name": "Feature Selection.ipynb",
      "provenance": [],
      "toc_visible": true,
      "authorship_tag": "ABX9TyNUEvSV5seryadCstqrCZOp",
      "include_colab_link": true
    },
    "kernelspec": {
      "name": "python3",
      "display_name": "Python 3"
    }
  },
  "cells": [
    {
      "cell_type": "markdown",
      "metadata": {
        "id": "view-in-github",
        "colab_type": "text"
      },
      "source": [
        "<a href=\"https://colab.research.google.com/github/SidSolanki28/Absenteeism-at-Work/blob/master/Feature_Selection.ipynb\" target=\"_parent\"><img src=\"https://colab.research.google.com/assets/colab-badge.svg\" alt=\"Open In Colab\"/></a>"
      ]
    },
    {
      "cell_type": "markdown",
      "metadata": {
        "id": "x25XWOtazJDc"
      },
      "source": [
        "# Drop constant features"
      ]
    },
    {
      "cell_type": "markdown",
      "metadata": {
        "id": "wClU0HcL5p1Y"
      },
      "source": [
        "## Variance Threshold\n",
        "\n",
        "This method removes features with variation below a certain cutoff.\n",
        "The idea is when a feature doesn’t vary much within itself, it generally has very little predictive power.\n",
        "\n",
        "Variance Threshold doesn’t consider the relationship of features with the target variable."
      ]
    },
    {
      "cell_type": "markdown",
      "metadata": {
        "id": "0J-3TOC38DUv"
      },
      "source": [
        "**Resources**\n",
        "\n",
        "https://scikit-learn.org/stable/modules/generated/sklearn.feature_selection.VarianceThreshold.html\n",
        "\n",
        "https://github.com/krishnaik06/Complete-Feature-Selection/blob/master/1.%20Feature%20Selection-%20Dropping%20Constant%20Features.ipynb\n",
        "\n",
        "https://towardsdatascience.com/why-how-and-when-to-apply-feature-selection-e9c69adfabf2 "
      ]
    },
    {
      "cell_type": "markdown",
      "metadata": {
        "id": "dHWegw8_BE2R"
      },
      "source": [
        "## Template"
      ]
    },
    {
      "cell_type": "code",
      "metadata": {
        "id": "-57e77bhBHpZ"
      },
      "source": [
        "from sklearn.feature_selection import VarianceThreshold\n",
        "\n",
        "var_thres=VarianceThreshold(threshold=0)\n",
        "var_thres.fit(X_train)"
      ],
      "execution_count": null,
      "outputs": []
    },
    {
      "cell_type": "code",
      "metadata": {
        "id": "QdpTBC-yBSxJ"
      },
      "source": [
        "constant_columns = [column for column in X_train.columns\n",
        "                    if column not in X_train.columns[var_thres.get_support()]]"
      ],
      "execution_count": null,
      "outputs": []
    },
    {
      "cell_type": "code",
      "metadata": {
        "id": "HSEsifkvBysk"
      },
      "source": [
        "print(len(constant_columns))"
      ],
      "execution_count": null,
      "outputs": []
    },
    {
      "cell_type": "code",
      "metadata": {
        "id": "67IncE5uB3Nv"
      },
      "source": [
        "for column in constant_columns:\n",
        "    print(column)"
      ],
      "execution_count": null,
      "outputs": []
    },
    {
      "cell_type": "code",
      "metadata": {
        "id": "QT2Ku01zB7EE"
      },
      "source": [
        "X_train.drop(constant_columns,axis=1)\n",
        "X_train.drop(constant_columns,axis=1)"
      ],
      "execution_count": null,
      "outputs": []
    },
    {
      "cell_type": "markdown",
      "metadata": {
        "id": "ZORl-KxJAU26"
      },
      "source": [
        "# Correlations"
      ]
    },
    {
      "cell_type": "markdown",
      "metadata": {
        "id": "h7Zx1fLYCLw9"
      },
      "source": [
        "Removing the features which are highly positively correlated generally > 85%"
      ]
    },
    {
      "cell_type": "markdown",
      "metadata": {
        "id": "NRsSNeL-A3lu"
      },
      "source": [
        "**Resources**\n",
        "\n",
        "https://github.com/krishnaik06/Complete-Feature-Selection/blob/master/2-Feature%20Selection-%20Correlation.ipynb"
      ]
    },
    {
      "cell_type": "markdown",
      "metadata": {
        "id": "C45TIKgNCDTb"
      },
      "source": [
        "## Template"
      ]
    },
    {
      "cell_type": "code",
      "metadata": {
        "id": "X30B0uMkDOLp"
      },
      "source": [
        "# Calculate correlations\n",
        "corr = X_train.corr()\n",
        "\n",
        "# Heatmap\n",
        "plt.figure(figsize=(12,10))\n",
        "sns.heatmap(corr, annot=True, fmt=\".2f\")\n",
        "plt.show()"
      ],
      "execution_count": null,
      "outputs": []
    },
    {
      "cell_type": "code",
      "metadata": {
        "id": "7t7-IO5QAUiU"
      },
      "source": [
        "# with the following function we can select highly correlated features\n",
        "# it will remove the first feature that is correlated with anything other feature\n",
        "\n",
        "def correlation(dataset, threshold):\n",
        "    col_corr = set()  # Set of all the names of correlated columns\n",
        "    corr_matrix = dataset.corr()\n",
        "    for i in range(len(corr_matrix.columns)):\n",
        "        for j in range(i):\n",
        "            if (corr_matrix.iloc[i, j]) > threshold: # we are interested in absolute coeff value\n",
        "                colname = corr_matrix.columns[i]  # getting the name of column\n",
        "                col_corr.add(colname)\n",
        "    return col_corr"
      ],
      "execution_count": 40,
      "outputs": []
    },
    {
      "cell_type": "code",
      "metadata": {
        "id": "pMAMwkeHAerw"
      },
      "source": [
        "corr_features = correlation(X_train, 0.85)   # generally used 0.85 as a threshold\n",
        "len(set(corr_features))"
      ],
      "execution_count": null,
      "outputs": []
    },
    {
      "cell_type": "code",
      "metadata": {
        "id": "PXsZc56_Anyy"
      },
      "source": [
        "corr_features"
      ],
      "execution_count": null,
      "outputs": []
    },
    {
      "cell_type": "code",
      "metadata": {
        "id": "rkQbiRD9Aq07"
      },
      "source": [
        "X_train.drop(corr_features,axis=1)\n",
        "X_test.drop(corr_features,axis=1)"
      ],
      "execution_count": null,
      "outputs": []
    }
  ]
}